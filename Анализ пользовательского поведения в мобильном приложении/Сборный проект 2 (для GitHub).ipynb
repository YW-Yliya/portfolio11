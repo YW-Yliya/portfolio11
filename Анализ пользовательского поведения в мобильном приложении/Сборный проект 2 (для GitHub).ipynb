{
 "cells": [
  {
   "cell_type": "markdown",
   "id": "48327caa",
   "metadata": {},
   "source": [
    "# Анализ пользовательского поведения в мобильном приложении\n",
    "\n",
    "## Описание проекта\n",
    "\n",
    "   В данном проекте были изучены принципы событийной аналитики. Построена воронка продаж, исследован путь пользователей до покупки. Проанализирован результаты A/B-теста введения новых шрифтов. Были сравнены 2 контрольные группы между\n",
    "собой, убедились в правильном разделении трафика, а затем сравнены с тестовой группой. Выявлено, что новый шрифт значительно не повлияет на поведение пользователей.\n",
    "    \n",
    "## Описание данных\n",
    "\n",
    "Каждая запись в логе — это действие пользователя, или событие. \n",
    "- `EventName` — название события;\n",
    "- `DeviceIDHash` — уникальный идентификатор пользователя;\n",
    "- `EventTimestamp` — время события;\n",
    "- `ExpId` — номер эксперимента: 246 и 247 — контрольные группы, а 248 — экспериментальная.\n",
    "\n",
    "### Цель: \n",
    "\n",
    "- Изучить воронку продаж.  \n",
    "- Исследовать результаты A/A/B-эксперимента и выяснить, какой шрифт лучше.\n",
    "- Узнать, как пользователи доходят до покупки. Сколько пользователей доходит до покупки, а сколько — «застревает» на предыдущих шагах? На каких именно?\n",
    "\n",
    "### Задачи:\n",
    "\n",
    "1. Загрузить данные из файла `/datasets/logs_exp.csv`. Выполнить предобработку данных.\n",
    "2. Добавьте столбец даты и времени, а также отдельный столбец дат;\n",
    "3. Изучить и проверить данные:\n",
    "    - Сколько всего событий в логе?\n",
    "    - Сколько всего пользователей в логе?\n",
    "    - Сколько в среднем событий приходится на пользователя?\n",
    "    - Данными за какой период я располагаю? Найти максимальную и минимальную дату. Изучить, как меняется количество данных: построить столбчатую диаграмму, которая отобразит количество событий в зависимости от времени в разрезе групп. Можно ли быть уверенным, что имеются одинаково полные данные за весь период? Определить, с какого момента данные полные и отбросить более старые. Данными за какой период времени я располагаю на самом деле?\n",
    "    - Много ли событий и пользователей потеряли, отбросив старые данные?\n",
    "    - Проверить, что есть пользователи из всех трёх экспериментальных групп.\n",
    "4. Изучить воронку событий:\n",
    "    - Посмотреть, какие события есть в логах, как часто они встречаются. Отсортировать события по частоте.\n",
    "    - Посчитать, сколько пользователей совершали каждое из этих событий. Отсортировать события по числу пользователей. Посчитать долю пользователей, которые хоть бы раз совершали событие.\n",
    "    - Предположить, в каком порядке происходят события. Все ли они выстраиваются в последовательную цепочку?\n",
    "    - По воронке событий посчитать, какая доля пользователей проходит на следующий шаг воронки (от числа пользователей на предыдущем).\n",
    "    - На каком шаге теряется больше всего пользователей?\n",
    "    - Какая доля пользователей доходит от первого события до оплаты?\n",
    "5. Изучить результаты эксперимента:\n",
    "    - Сколько пользователей в каждой экспериментальной группе?\n",
    "    - Есть 2 контрольные группы для А/А-эксперимента, чтобы проверить корректность всех механизмов и расчётов. Проверить, находят ли статистические критерии разницу между выборками 246 и 247.\n",
    "    - Выбрать самое популярное событие. Посчитать число пользователей, совершивших это событие в каждой из контрольных групп. Посчитать долю пользователей, совершивших это событие. Проверить, будет ли отличие между группами статистически достоверным. Проделать то же самое для всех других событий.\n",
    "    - Аналогично поступить с группой с изменённым шрифтом. Сравнить результаты с каждой из контрольных групп в отдельности по каждому событию. Сравнить результаты с объединённой контрольной группой.\n",
    "    - Посчитать, сколько проверок статистических гипотез сделано."
   ]
  },
  {
   "cell_type": "code",
   "execution_count": 1,
   "id": "0da43653",
   "metadata": {},
   "outputs": [],
   "source": [
    "import pandas as pd\n",
    "import numpy as np\n",
    "from datetime import datetime, timedelta\n",
    "import seaborn as sns\n",
    "from matplotlib import pyplot as plt\n",
    "%matplotlib inline\n",
    "from scipy import stats as st\n",
    "import math as mth"
   ]
  },
  {
   "cell_type": "markdown",
   "id": "c6836cc0",
   "metadata": {},
   "source": [
    "#### 1. Загрузим данные из файла `/datasets/logs_exp.csv`. Выполним предобработку данных."
   ]
  },
  {
   "cell_type": "code",
   "execution_count": 2,
   "id": "355ec158",
   "metadata": {},
   "outputs": [],
   "source": [
    "try:\n",
    "    logs_exp = pd.read_csv('logs_exp.csv', sep='\\t')\n",
    "except:\n",
    "    logs_exp = pd.read_csv('/datasets/logs_exp.csv', sep='\\t')"
   ]
  },
  {
   "cell_type": "code",
   "execution_count": 3,
   "id": "1ac780be",
   "metadata": {},
   "outputs": [
    {
     "name": "stdout",
     "output_type": "stream",
     "text": [
      "<class 'pandas.core.frame.DataFrame'>\n",
      "RangeIndex: 244126 entries, 0 to 244125\n",
      "Data columns (total 4 columns):\n",
      " #   Column          Non-Null Count   Dtype \n",
      "---  ------          --------------   ----- \n",
      " 0   EventName       244126 non-null  object\n",
      " 1   DeviceIDHash    244126 non-null  int64 \n",
      " 2   EventTimestamp  244126 non-null  int64 \n",
      " 3   ExpId           244126 non-null  int64 \n",
      "dtypes: int64(3), object(1)\n",
      "memory usage: 7.5+ MB\n"
     ]
    }
   ],
   "source": [
    "logs_exp.info()"
   ]
  },
  {
   "cell_type": "code",
   "execution_count": 4,
   "id": "5c3c3be9",
   "metadata": {},
   "outputs": [
    {
     "data": {
      "text/html": [
       "<div>\n",
       "<style scoped>\n",
       "    .dataframe tbody tr th:only-of-type {\n",
       "        vertical-align: middle;\n",
       "    }\n",
       "\n",
       "    .dataframe tbody tr th {\n",
       "        vertical-align: top;\n",
       "    }\n",
       "\n",
       "    .dataframe thead th {\n",
       "        text-align: right;\n",
       "    }\n",
       "</style>\n",
       "<table border=\"1\" class=\"dataframe\">\n",
       "  <thead>\n",
       "    <tr style=\"text-align: right;\">\n",
       "      <th></th>\n",
       "      <th>EventName</th>\n",
       "      <th>DeviceIDHash</th>\n",
       "      <th>EventTimestamp</th>\n",
       "      <th>ExpId</th>\n",
       "    </tr>\n",
       "  </thead>\n",
       "  <tbody>\n",
       "    <tr>\n",
       "      <th>0</th>\n",
       "      <td>MainScreenAppear</td>\n",
       "      <td>4575588528974610257</td>\n",
       "      <td>1564029816</td>\n",
       "      <td>246</td>\n",
       "    </tr>\n",
       "    <tr>\n",
       "      <th>1</th>\n",
       "      <td>MainScreenAppear</td>\n",
       "      <td>7416695313311560658</td>\n",
       "      <td>1564053102</td>\n",
       "      <td>246</td>\n",
       "    </tr>\n",
       "    <tr>\n",
       "      <th>2</th>\n",
       "      <td>PaymentScreenSuccessful</td>\n",
       "      <td>3518123091307005509</td>\n",
       "      <td>1564054127</td>\n",
       "      <td>248</td>\n",
       "    </tr>\n",
       "    <tr>\n",
       "      <th>3</th>\n",
       "      <td>CartScreenAppear</td>\n",
       "      <td>3518123091307005509</td>\n",
       "      <td>1564054127</td>\n",
       "      <td>248</td>\n",
       "    </tr>\n",
       "    <tr>\n",
       "      <th>4</th>\n",
       "      <td>PaymentScreenSuccessful</td>\n",
       "      <td>6217807653094995999</td>\n",
       "      <td>1564055322</td>\n",
       "      <td>248</td>\n",
       "    </tr>\n",
       "  </tbody>\n",
       "</table>\n",
       "</div>"
      ],
      "text/plain": [
       "                 EventName         DeviceIDHash  EventTimestamp  ExpId\n",
       "0         MainScreenAppear  4575588528974610257      1564029816    246\n",
       "1         MainScreenAppear  7416695313311560658      1564053102    246\n",
       "2  PaymentScreenSuccessful  3518123091307005509      1564054127    248\n",
       "3         CartScreenAppear  3518123091307005509      1564054127    248\n",
       "4  PaymentScreenSuccessful  6217807653094995999      1564055322    248"
      ]
     },
     "execution_count": 4,
     "metadata": {},
     "output_type": "execute_result"
    }
   ],
   "source": [
    "logs_exp.head()"
   ]
  },
  {
   "cell_type": "code",
   "execution_count": 5,
   "id": "7ef1b249",
   "metadata": {},
   "outputs": [],
   "source": [
    "logs_exp = logs_exp.rename(\n",
    "    columns={\n",
    "        'EventName': 'event_name',\n",
    "        'DeviceIDHash': 'user_id',\n",
    "        'EventTimestamp': 'timestamp',\n",
    "        'ExpId': 'group'\n",
    "    }\n",
    ")"
   ]
  },
  {
   "cell_type": "code",
   "execution_count": 6,
   "id": "bdc4bdfe",
   "metadata": {},
   "outputs": [
    {
     "data": {
      "text/plain": [
       "event_name    0\n",
       "user_id       0\n",
       "timestamp     0\n",
       "group         0\n",
       "dtype: int64"
      ]
     },
     "execution_count": 6,
     "metadata": {},
     "output_type": "execute_result"
    }
   ],
   "source": [
    "logs_exp.isna().sum()"
   ]
  },
  {
   "cell_type": "code",
   "execution_count": 7,
   "id": "e994fed9",
   "metadata": {},
   "outputs": [
    {
     "data": {
      "text/plain": [
       "413"
      ]
     },
     "execution_count": 7,
     "metadata": {},
     "output_type": "execute_result"
    }
   ],
   "source": [
    "logs_exp.duplicated().sum()"
   ]
  },
  {
   "cell_type": "code",
   "execution_count": 8,
   "id": "ffe0550b",
   "metadata": {},
   "outputs": [
    {
     "data": {
      "text/html": [
       "<div>\n",
       "<style scoped>\n",
       "    .dataframe tbody tr th:only-of-type {\n",
       "        vertical-align: middle;\n",
       "    }\n",
       "\n",
       "    .dataframe tbody tr th {\n",
       "        vertical-align: top;\n",
       "    }\n",
       "\n",
       "    .dataframe thead th {\n",
       "        text-align: right;\n",
       "    }\n",
       "</style>\n",
       "<table border=\"1\" class=\"dataframe\">\n",
       "  <thead>\n",
       "    <tr style=\"text-align: right;\">\n",
       "      <th></th>\n",
       "      <th>event_name</th>\n",
       "      <th>user_id</th>\n",
       "      <th>timestamp</th>\n",
       "      <th>group</th>\n",
       "    </tr>\n",
       "  </thead>\n",
       "  <tbody>\n",
       "    <tr>\n",
       "      <th>0</th>\n",
       "      <td>MainScreenAppear</td>\n",
       "      <td>4575588528974610257</td>\n",
       "      <td>1564029816</td>\n",
       "      <td>246</td>\n",
       "    </tr>\n",
       "    <tr>\n",
       "      <th>1</th>\n",
       "      <td>MainScreenAppear</td>\n",
       "      <td>7416695313311560658</td>\n",
       "      <td>1564053102</td>\n",
       "      <td>246</td>\n",
       "    </tr>\n",
       "    <tr>\n",
       "      <th>2</th>\n",
       "      <td>PaymentScreenSuccessful</td>\n",
       "      <td>3518123091307005509</td>\n",
       "      <td>1564054127</td>\n",
       "      <td>248</td>\n",
       "    </tr>\n",
       "    <tr>\n",
       "      <th>3</th>\n",
       "      <td>CartScreenAppear</td>\n",
       "      <td>3518123091307005509</td>\n",
       "      <td>1564054127</td>\n",
       "      <td>248</td>\n",
       "    </tr>\n",
       "    <tr>\n",
       "      <th>4</th>\n",
       "      <td>PaymentScreenSuccessful</td>\n",
       "      <td>6217807653094995999</td>\n",
       "      <td>1564055322</td>\n",
       "      <td>248</td>\n",
       "    </tr>\n",
       "    <tr>\n",
       "      <th>...</th>\n",
       "      <td>...</td>\n",
       "      <td>...</td>\n",
       "      <td>...</td>\n",
       "      <td>...</td>\n",
       "    </tr>\n",
       "    <tr>\n",
       "      <th>244121</th>\n",
       "      <td>MainScreenAppear</td>\n",
       "      <td>4599628364049201812</td>\n",
       "      <td>1565212345</td>\n",
       "      <td>247</td>\n",
       "    </tr>\n",
       "    <tr>\n",
       "      <th>244122</th>\n",
       "      <td>MainScreenAppear</td>\n",
       "      <td>5849806612437486590</td>\n",
       "      <td>1565212439</td>\n",
       "      <td>246</td>\n",
       "    </tr>\n",
       "    <tr>\n",
       "      <th>244123</th>\n",
       "      <td>MainScreenAppear</td>\n",
       "      <td>5746969938801999050</td>\n",
       "      <td>1565212483</td>\n",
       "      <td>246</td>\n",
       "    </tr>\n",
       "    <tr>\n",
       "      <th>244124</th>\n",
       "      <td>MainScreenAppear</td>\n",
       "      <td>5746969938801999050</td>\n",
       "      <td>1565212498</td>\n",
       "      <td>246</td>\n",
       "    </tr>\n",
       "    <tr>\n",
       "      <th>244125</th>\n",
       "      <td>OffersScreenAppear</td>\n",
       "      <td>5746969938801999050</td>\n",
       "      <td>1565212517</td>\n",
       "      <td>246</td>\n",
       "    </tr>\n",
       "  </tbody>\n",
       "</table>\n",
       "<p>243713 rows × 4 columns</p>\n",
       "</div>"
      ],
      "text/plain": [
       "                     event_name              user_id   timestamp  group\n",
       "0              MainScreenAppear  4575588528974610257  1564029816    246\n",
       "1              MainScreenAppear  7416695313311560658  1564053102    246\n",
       "2       PaymentScreenSuccessful  3518123091307005509  1564054127    248\n",
       "3              CartScreenAppear  3518123091307005509  1564054127    248\n",
       "4       PaymentScreenSuccessful  6217807653094995999  1564055322    248\n",
       "...                         ...                  ...         ...    ...\n",
       "244121         MainScreenAppear  4599628364049201812  1565212345    247\n",
       "244122         MainScreenAppear  5849806612437486590  1565212439    246\n",
       "244123         MainScreenAppear  5746969938801999050  1565212483    246\n",
       "244124         MainScreenAppear  5746969938801999050  1565212498    246\n",
       "244125       OffersScreenAppear  5746969938801999050  1565212517    246\n",
       "\n",
       "[243713 rows x 4 columns]"
      ]
     },
     "execution_count": 8,
     "metadata": {},
     "output_type": "execute_result"
    }
   ],
   "source": [
    "logs_exp = logs_exp.drop_duplicates()\n",
    "logs_exp"
   ]
  },
  {
   "cell_type": "code",
   "execution_count": 9,
   "id": "3c6984df",
   "metadata": {},
   "outputs": [
    {
     "data": {
      "text/plain": [
       "array(['MainScreenAppear', 'PaymentScreenSuccessful', 'CartScreenAppear',\n",
       "       'OffersScreenAppear', 'Tutorial'], dtype=object)"
      ]
     },
     "execution_count": 9,
     "metadata": {},
     "output_type": "execute_result"
    }
   ],
   "source": [
    "logs_exp['event_name'].unique()"
   ]
  },
  {
   "cell_type": "code",
   "execution_count": 10,
   "id": "7b55652f",
   "metadata": {},
   "outputs": [
    {
     "data": {
      "text/plain": [
       "array([246, 248, 247], dtype=int64)"
      ]
     },
     "execution_count": 10,
     "metadata": {},
     "output_type": "execute_result"
    }
   ],
   "source": [
    "logs_exp['group'].unique()"
   ]
  },
  {
   "cell_type": "code",
   "execution_count": 11,
   "id": "d82df34a",
   "metadata": {},
   "outputs": [
    {
     "data": {
      "text/plain": [
       "array([4575588528974610257, 7416695313311560658, 3518123091307005509, ...,\n",
       "       6660805781687343085, 7823752606740475984, 3454683894921357834],\n",
       "      dtype=int64)"
      ]
     },
     "execution_count": 11,
     "metadata": {},
     "output_type": "execute_result"
    }
   ],
   "source": [
    "logs_exp['user_id'].unique()"
   ]
  },
  {
   "cell_type": "markdown",
   "id": "d56a00c7",
   "metadata": {},
   "source": [
    "Пропусков в данных нет, дубликаты удалены. "
   ]
  },
  {
   "cell_type": "markdown",
   "id": "dbdafbfe",
   "metadata": {},
   "source": [
    "#### 2. Добавим столбец даты и времени, а также отдельный столбец дат:"
   ]
  },
  {
   "cell_type": "code",
   "execution_count": 12,
   "id": "bde02c53",
   "metadata": {},
   "outputs": [],
   "source": [
    "logs_exp['datetime'] = pd.to_datetime(logs_exp['timestamp'], unit='s')"
   ]
  },
  {
   "cell_type": "code",
   "execution_count": 13,
   "id": "1fb3a4a9",
   "metadata": {},
   "outputs": [],
   "source": [
    "logs_exp['date'] = pd.to_datetime(logs_exp['datetime']).dt.date"
   ]
  },
  {
   "cell_type": "code",
   "execution_count": 14,
   "id": "ce0cb3fa",
   "metadata": {},
   "outputs": [
    {
     "name": "stdout",
     "output_type": "stream",
     "text": [
      "<class 'pandas.core.frame.DataFrame'>\n",
      "Int64Index: 243713 entries, 0 to 244125\n",
      "Data columns (total 6 columns):\n",
      " #   Column      Non-Null Count   Dtype         \n",
      "---  ------      --------------   -----         \n",
      " 0   event_name  243713 non-null  object        \n",
      " 1   user_id     243713 non-null  int64         \n",
      " 2   timestamp   243713 non-null  int64         \n",
      " 3   group       243713 non-null  int64         \n",
      " 4   datetime    243713 non-null  datetime64[ns]\n",
      " 5   date        243713 non-null  object        \n",
      "dtypes: datetime64[ns](1), int64(3), object(2)\n",
      "memory usage: 13.0+ MB\n"
     ]
    }
   ],
   "source": [
    "logs_exp.head()\n",
    "logs_exp.info()"
   ]
  },
  {
   "cell_type": "markdown",
   "id": "80ef0d31",
   "metadata": {},
   "source": [
    "#### Вывод:\n",
    "Загрузили файл и проверили данные на пропуски и дубликаты. Пропусков небыло обнаружино, а дубликаты удилены. Переименовала столбцы для лучшего понимания и удобства. Столбец с датой и временем перевела к типу datetime, а также добавила отдельный столбец с датой события. Теперь данные готовы к дальнейшему изучению."
   ]
  },
  {
   "cell_type": "markdown",
   "id": "d7e8dd68",
   "metadata": {},
   "source": [
    "#### 3. Изучим и проверим данные"
   ]
  },
  {
   "cell_type": "markdown",
   "id": "baa670a6",
   "metadata": {},
   "source": [
    "***Выясним сколько всего событий в логе:***"
   ]
  },
  {
   "cell_type": "code",
   "execution_count": 15,
   "id": "1036a7c8",
   "metadata": {},
   "outputs": [
    {
     "data": {
      "text/plain": [
       "243713"
      ]
     },
     "execution_count": 15,
     "metadata": {},
     "output_type": "execute_result"
    }
   ],
   "source": [
    "events = logs_exp['event_name'].count()\n",
    "events"
   ]
  },
  {
   "cell_type": "code",
   "execution_count": 16,
   "id": "78c157fd",
   "metadata": {},
   "outputs": [
    {
     "data": {
      "text/plain": [
       "5"
      ]
     },
     "execution_count": 16,
     "metadata": {},
     "output_type": "execute_result"
    }
   ],
   "source": [
    "logs_exp['event_name'].nunique()"
   ]
  },
  {
   "cell_type": "markdown",
   "id": "44735c1b",
   "metadata": {},
   "source": [
    "Итак всего у нас 244126 событий и 5 уникальные."
   ]
  },
  {
   "cell_type": "markdown",
   "id": "08697e78",
   "metadata": {},
   "source": [
    "***Всего пользователей в логе:***"
   ]
  },
  {
   "cell_type": "code",
   "execution_count": 17,
   "id": "ba4bab8a",
   "metadata": {},
   "outputs": [
    {
     "data": {
      "text/plain": [
       "7551"
      ]
     },
     "execution_count": 17,
     "metadata": {},
     "output_type": "execute_result"
    }
   ],
   "source": [
    "users = logs_exp['user_id'].nunique()\n",
    "users"
   ]
  },
  {
   "cell_type": "markdown",
   "id": "02eb61ec",
   "metadata": {},
   "source": [
    "Всего 7551 уникальных пользователей"
   ]
  },
  {
   "cell_type": "markdown",
   "id": "ddf22821",
   "metadata": {},
   "source": [
    "***Подсчитаем сколько в среднем событий приходится на пользователя***:"
   ]
  },
  {
   "cell_type": "code",
   "execution_count": 18,
   "id": "05435227",
   "metadata": {},
   "outputs": [
    {
     "data": {
      "text/plain": [
       "32"
      ]
     },
     "execution_count": 18,
     "metadata": {},
     "output_type": "execute_result"
    }
   ],
   "source": [
    "ave_events = round(events / users)\n",
    "ave_events"
   ]
  },
  {
   "cell_type": "markdown",
   "id": "6b73976a",
   "metadata": {},
   "source": [
    "Примерно 32 события приходится на одного пользователя."
   ]
  },
  {
   "cell_type": "code",
   "execution_count": 19,
   "id": "6765f3ff",
   "metadata": {},
   "outputs": [
    {
     "data": {
      "text/plain": [
       "count    7551.000000\n",
       "mean       32.275593\n",
       "std        65.154219\n",
       "min         1.000000\n",
       "25%         9.000000\n",
       "50%        20.000000\n",
       "75%        37.000000\n",
       "max      2307.000000\n",
       "Name: event_name, dtype: float64"
      ]
     },
     "execution_count": 19,
     "metadata": {},
     "output_type": "execute_result"
    },
    {
     "data": {
      "image/png": "[encoded data removed]",
      "text/plain": [
       "<Figure size 640x480 with 1 Axes>"
      ]
     },
     "metadata": {},
     "output_type": "display_data"
    }
   ],
   "source": [
    "logs_exp.groupby('user_id')['event_name'].count().plot.box()\n",
    "logs_exp.groupby('user_id')['event_name'].count().describe()"
   ]
  },
  {
   "cell_type": "code",
   "execution_count": 20,
   "id": "69113032",
   "metadata": {},
   "outputs": [
    {
     "data": {
      "image/png": "[encoded data removed]",
      "text/plain": [
       "<Figure size 640x480 with 1 Axes>"
      ]
     },
     "metadata": {},
     "output_type": "display_data"
    },
    {
     "data": {
      "image/png": "[encoded data removed]",
      "text/plain": [
       "<Figure size 640x480 with 1 Axes>"
      ]
     },
     "metadata": {},
     "output_type": "display_data"
    }
   ],
   "source": [
    "logs_agg = logs_exp.pivot_table(index='user_id', values='event_name', aggfunc='count')\n",
    "logs_agg.sort_values(by='event_name', ascending=False).hist(bins=20)\n",
    "plt.title('Распределение событий по пользователям', fontsize=14, fontweight=\"bold\")\n",
    "plt.xlabel('события')\n",
    "plt.ylabel('пользователи')\n",
    "plt.show()\n",
    "logs_agg.query('event_name < 200').hist(bins=50)\n",
    "plt.title('Распределение событий по пользователям', fontsize=14, fontweight=\"bold\")\n",
    "plt.xlabel('события')\n",
    "plt.ylabel('пользователи')\n",
    "plt.show()"
   ]
  },
  {
   "cell_type": "markdown",
   "id": "e02dc55f",
   "metadata": {},
   "source": [
    "В данных есть выбросы и судя по всему среднее значение не отображает действительность. Если воспользоваться медианным значением, то на пользователя приходится 20 событий, что на 12 меньше среднего. Минимально на пользователя одно событие, а  максимальное 2307 событий. \n",
    "Очевидно, что эти данные представляют собой сильно смещенное нормальное распределение. Слева от пика есть небольшой хвост."
   ]
  },
  {
   "cell_type": "markdown",
   "id": "f0be04f2",
   "metadata": {},
   "source": [
    "***Определим максимальную и минимальную дату. Изучим, как меняется количество данных: построим столбчатую диаграмму, которая отобразит количество событий в зависимости от времени в разрезе групп. Можно ли быть уверенным, что имеются одинаково полные данные за весь период? Технически в логи новых дней по некоторым пользователям могут «доезжать» события из прошлого — это может «перекашивать данные». Определим, с какого момента данные полные и отбросим более старые. Данными за какой период времени располагаем на самом деле?***"
   ]
  },
  {
   "cell_type": "code",
   "execution_count": 21,
   "id": "fc1e3529",
   "metadata": {},
   "outputs": [
    {
     "data": {
      "text/plain": [
       "Timestamp('2019-07-25 04:43:36')"
      ]
     },
     "execution_count": 21,
     "metadata": {},
     "output_type": "execute_result"
    }
   ],
   "source": [
    "logs_exp['datetime'].min()"
   ]
  },
  {
   "cell_type": "code",
   "execution_count": 22,
   "id": "480b84d3",
   "metadata": {},
   "outputs": [
    {
     "data": {
      "text/plain": [
       "Timestamp('2019-08-07 21:15:17')"
      ]
     },
     "execution_count": 22,
     "metadata": {},
     "output_type": "execute_result"
    }
   ],
   "source": [
    "logs_exp['datetime'].max()"
   ]
  },
  {
   "cell_type": "code",
   "execution_count": 23,
   "id": "9ed2d951",
   "metadata": {},
   "outputs": [
    {
     "data": {
      "text/plain": [
       "Timedelta('13 days 16:31:41')"
      ]
     },
     "execution_count": 23,
     "metadata": {},
     "output_type": "execute_result"
    }
   ],
   "source": [
    "logs_exp['datetime'].max() - logs_exp['datetime'].min()"
   ]
  },
  {
   "cell_type": "markdown",
   "id": "9930f908",
   "metadata": {},
   "source": [
    "Самая ранняя дата события 2019-07-25 04:43:36, а самая поздняя 2019-08-07 21:15:17. Период составляет 13 дней."
   ]
  },
  {
   "cell_type": "code",
   "execution_count": 24,
   "id": "3393f1d7",
   "metadata": {},
   "outputs": [
    {
     "data": {
      "text/html": [
       "<div>\n",
       "<style scoped>\n",
       "    .dataframe tbody tr th:only-of-type {\n",
       "        vertical-align: middle;\n",
       "    }\n",
       "\n",
       "    .dataframe tbody tr th {\n",
       "        vertical-align: top;\n",
       "    }\n",
       "\n",
       "    .dataframe thead th {\n",
       "        text-align: right;\n",
       "    }\n",
       "</style>\n",
       "<table border=\"1\" class=\"dataframe\">\n",
       "  <thead>\n",
       "    <tr style=\"text-align: right;\">\n",
       "      <th></th>\n",
       "      <th>group</th>\n",
       "      <th>events</th>\n",
       "    </tr>\n",
       "    <tr>\n",
       "      <th>date</th>\n",
       "      <th></th>\n",
       "      <th></th>\n",
       "    </tr>\n",
       "  </thead>\n",
       "  <tbody>\n",
       "    <tr>\n",
       "      <th>2019-07-25</th>\n",
       "      <td>246</td>\n",
       "      <td>9</td>\n",
       "    </tr>\n",
       "    <tr>\n",
       "      <th>2019-07-26</th>\n",
       "      <td>246</td>\n",
       "      <td>31</td>\n",
       "    </tr>\n",
       "    <tr>\n",
       "      <th>2019-07-27</th>\n",
       "      <td>246</td>\n",
       "      <td>55</td>\n",
       "    </tr>\n",
       "    <tr>\n",
       "      <th>2019-07-28</th>\n",
       "      <td>246</td>\n",
       "      <td>105</td>\n",
       "    </tr>\n",
       "    <tr>\n",
       "      <th>2019-07-29</th>\n",
       "      <td>246</td>\n",
       "      <td>184</td>\n",
       "    </tr>\n",
       "    <tr>\n",
       "      <th>2019-07-30</th>\n",
       "      <td>246</td>\n",
       "      <td>412</td>\n",
       "    </tr>\n",
       "    <tr>\n",
       "      <th>2019-07-31</th>\n",
       "      <td>247</td>\n",
       "      <td>2030</td>\n",
       "    </tr>\n",
       "    <tr>\n",
       "      <th>2019-08-01</th>\n",
       "      <td>246</td>\n",
       "      <td>36141</td>\n",
       "    </tr>\n",
       "    <tr>\n",
       "      <th>2019-08-02</th>\n",
       "      <td>248</td>\n",
       "      <td>35554</td>\n",
       "    </tr>\n",
       "    <tr>\n",
       "      <th>2019-08-03</th>\n",
       "      <td>247</td>\n",
       "      <td>33282</td>\n",
       "    </tr>\n",
       "    <tr>\n",
       "      <th>2019-08-04</th>\n",
       "      <td>248</td>\n",
       "      <td>32968</td>\n",
       "    </tr>\n",
       "    <tr>\n",
       "      <th>2019-08-05</th>\n",
       "      <td>247</td>\n",
       "      <td>36058</td>\n",
       "    </tr>\n",
       "    <tr>\n",
       "      <th>2019-08-06</th>\n",
       "      <td>246</td>\n",
       "      <td>35788</td>\n",
       "    </tr>\n",
       "    <tr>\n",
       "      <th>2019-08-07</th>\n",
       "      <td>248</td>\n",
       "      <td>31096</td>\n",
       "    </tr>\n",
       "  </tbody>\n",
       "</table>\n",
       "</div>"
      ],
      "text/plain": [
       "            group  events\n",
       "date                     \n",
       "2019-07-25    246       9\n",
       "2019-07-26    246      31\n",
       "2019-07-27    246      55\n",
       "2019-07-28    246     105\n",
       "2019-07-29    246     184\n",
       "2019-07-30    246     412\n",
       "2019-07-31    247    2030\n",
       "2019-08-01    246   36141\n",
       "2019-08-02    248   35554\n",
       "2019-08-03    247   33282\n",
       "2019-08-04    248   32968\n",
       "2019-08-05    247   36058\n",
       "2019-08-06    246   35788\n",
       "2019-08-07    248   31096"
      ]
     },
     "execution_count": 24,
     "metadata": {},
     "output_type": "execute_result"
    }
   ],
   "source": [
    "datesGroups = logs_exp.groupby('date').agg({'group': 'first', 'event_name': 'count'})\n",
    "datesGroups.columns = ['group', 'events']\n",
    "datesGroups"
   ]
  },
  {
   "cell_type": "code",
   "execution_count": 25,
   "id": "3cdea55b",
   "metadata": {},
   "outputs": [
    {
     "data": {
      "text/html": [
       "<div>\n",
       "<style scoped>\n",
       "    .dataframe tbody tr th:only-of-type {\n",
       "        vertical-align: middle;\n",
       "    }\n",
       "\n",
       "    .dataframe tbody tr th {\n",
       "        vertical-align: top;\n",
       "    }\n",
       "\n",
       "    .dataframe thead th {\n",
       "        text-align: right;\n",
       "    }\n",
       "</style>\n",
       "<table border=\"1\" class=\"dataframe\">\n",
       "  <thead>\n",
       "    <tr style=\"text-align: right;\">\n",
       "      <th></th>\n",
       "      <th>events</th>\n",
       "    </tr>\n",
       "    <tr>\n",
       "      <th>date</th>\n",
       "      <th></th>\n",
       "    </tr>\n",
       "  </thead>\n",
       "  <tbody>\n",
       "    <tr>\n",
       "      <th>2019-07-25</th>\n",
       "      <td>9</td>\n",
       "    </tr>\n",
       "    <tr>\n",
       "      <th>2019-07-26</th>\n",
       "      <td>31</td>\n",
       "    </tr>\n",
       "    <tr>\n",
       "      <th>2019-07-27</th>\n",
       "      <td>55</td>\n",
       "    </tr>\n",
       "    <tr>\n",
       "      <th>2019-07-28</th>\n",
       "      <td>105</td>\n",
       "    </tr>\n",
       "    <tr>\n",
       "      <th>2019-07-29</th>\n",
       "      <td>184</td>\n",
       "    </tr>\n",
       "    <tr>\n",
       "      <th>2019-07-30</th>\n",
       "      <td>412</td>\n",
       "    </tr>\n",
       "    <tr>\n",
       "      <th>2019-08-01</th>\n",
       "      <td>36141</td>\n",
       "    </tr>\n",
       "    <tr>\n",
       "      <th>2019-08-06</th>\n",
       "      <td>35788</td>\n",
       "    </tr>\n",
       "  </tbody>\n",
       "</table>\n",
       "</div>"
      ],
      "text/plain": [
       "            events\n",
       "date              \n",
       "2019-07-25       9\n",
       "2019-07-26      31\n",
       "2019-07-27      55\n",
       "2019-07-28     105\n",
       "2019-07-29     184\n",
       "2019-07-30     412\n",
       "2019-08-01   36141\n",
       "2019-08-06   35788"
      ]
     },
     "execution_count": 25,
     "metadata": {},
     "output_type": "execute_result"
    }
   ],
   "source": [
    "g246 = datesGroups[datesGroups['group']==246][['events']]\n",
    "g247 = datesGroups[datesGroups['group']==247][['events']]\n",
    "g248 = datesGroups[datesGroups['group']==248][['events']]\n",
    "g246"
   ]
  },
  {
   "cell_type": "code",
   "execution_count": 26,
   "id": "efdffdfc",
   "metadata": {},
   "outputs": [
    {
     "data": {
      "image/png": "[encoded data removed]",
      "text/plain": [
       "<Figure size 1500x500 with 1 Axes>"
      ]
     },
     "metadata": {},
     "output_type": "display_data"
    }
   ],
   "source": [
    "logs_exp.pivot_table(\n",
    "    index='date',  # дата события\n",
    "    columns='group',  # группа\n",
    "    values='event_name',  # события\n",
    "    aggfunc='count'  # количество событий\n",
    ").plot(figsize=(15, 5), grid=True)\n",
    "\n",
    "plt.title('График распределения событий во времени в разрезе групп')\n",
    "plt.xlabel('Дата события')\n",
    "plt.ylabel('Количество событий')\n",
    "plt.legend()\n",
    "plt.show()"
   ]
  },
  {
   "cell_type": "code",
   "execution_count": 27,
   "id": "69b8fe6a",
   "metadata": {},
   "outputs": [
    {
     "data": {
      "image/png": "[encoded data removed]",
      "text/plain": [
       "<Figure size 1500x500 with 1 Axes>"
      ]
     },
     "metadata": {},
     "output_type": "display_data"
    }
   ],
   "source": [
    "logs_exp['dt10m'] = logs_exp['datetime'].dt.round('10T')\n",
    "\n",
    "logs_exp.pivot_table(\n",
    "    index='dt10m',  # дата события\n",
    "    columns='group',  # группа\n",
    "    values='event_name',  # события\n",
    "    aggfunc='count'  # количество событий\n",
    ").plot(figsize=(15, 5), grid=True)\n",
    "plt.title('График распределения событий во времени в разрезе групп')\n",
    "plt.xlabel('Дата и время события')\n",
    "plt.ylabel('Количество событий')\n",
    "plt.legend()\n",
    "plt.show()"
   ]
  },
  {
   "cell_type": "markdown",
   "id": "49819c1f",
   "metadata": {},
   "source": [
    "Первая половина графиков находится около нуля и с 1 августа 2019 года они поднимаются выше 10000. В течение дня они скачат, наибольшее количество событий наблюдается в середине дня. За утро они растут, а вечером падают. Теперь можно с уверенностью утверждать, что данными мы располагаем за первую неделю авгута, а все остальное можно отбросить."
   ]
  },
  {
   "cell_type": "markdown",
   "id": "20eb90ad",
   "metadata": {},
   "source": [
    "***Много ли событий и пользователей потеряли, отбросив старые данные?***"
   ]
  },
  {
   "cell_type": "code",
   "execution_count": 28,
   "id": "92a4d8af",
   "metadata": {},
   "outputs": [
    {
     "data": {
      "text/html": [
       "<div>\n",
       "<style scoped>\n",
       "    .dataframe tbody tr th:only-of-type {\n",
       "        vertical-align: middle;\n",
       "    }\n",
       "\n",
       "    .dataframe tbody tr th {\n",
       "        vertical-align: top;\n",
       "    }\n",
       "\n",
       "    .dataframe thead th {\n",
       "        text-align: right;\n",
       "    }\n",
       "</style>\n",
       "<table border=\"1\" class=\"dataframe\">\n",
       "  <thead>\n",
       "    <tr style=\"text-align: right;\">\n",
       "      <th></th>\n",
       "      <th>event_name</th>\n",
       "      <th>user_id</th>\n",
       "      <th>timestamp</th>\n",
       "      <th>group</th>\n",
       "      <th>datetime</th>\n",
       "      <th>date</th>\n",
       "      <th>dt10m</th>\n",
       "    </tr>\n",
       "  </thead>\n",
       "  <tbody>\n",
       "    <tr>\n",
       "      <th>0</th>\n",
       "      <td>MainScreenAppear</td>\n",
       "      <td>7701922487875823903</td>\n",
       "      <td>1564606857</td>\n",
       "      <td>247</td>\n",
       "      <td>2019-07-31 21:00:57</td>\n",
       "      <td>2019-07-31</td>\n",
       "      <td>2019-07-31 21:00:00</td>\n",
       "    </tr>\n",
       "    <tr>\n",
       "      <th>1</th>\n",
       "      <td>MainScreenAppear</td>\n",
       "      <td>2539077412200498909</td>\n",
       "      <td>1564606905</td>\n",
       "      <td>247</td>\n",
       "      <td>2019-07-31 21:01:45</td>\n",
       "      <td>2019-07-31</td>\n",
       "      <td>2019-07-31 21:00:00</td>\n",
       "    </tr>\n",
       "    <tr>\n",
       "      <th>2</th>\n",
       "      <td>OffersScreenAppear</td>\n",
       "      <td>3286987355161301427</td>\n",
       "      <td>1564606941</td>\n",
       "      <td>248</td>\n",
       "      <td>2019-07-31 21:02:21</td>\n",
       "      <td>2019-07-31</td>\n",
       "      <td>2019-07-31 21:00:00</td>\n",
       "    </tr>\n",
       "    <tr>\n",
       "      <th>3</th>\n",
       "      <td>OffersScreenAppear</td>\n",
       "      <td>3187166762535343300</td>\n",
       "      <td>1564606943</td>\n",
       "      <td>247</td>\n",
       "      <td>2019-07-31 21:02:23</td>\n",
       "      <td>2019-07-31</td>\n",
       "      <td>2019-07-31 21:00:00</td>\n",
       "    </tr>\n",
       "    <tr>\n",
       "      <th>4</th>\n",
       "      <td>MainScreenAppear</td>\n",
       "      <td>1118952406011435924</td>\n",
       "      <td>1564607005</td>\n",
       "      <td>248</td>\n",
       "      <td>2019-07-31 21:03:25</td>\n",
       "      <td>2019-07-31</td>\n",
       "      <td>2019-07-31 21:00:00</td>\n",
       "    </tr>\n",
       "    <tr>\n",
       "      <th>...</th>\n",
       "      <td>...</td>\n",
       "      <td>...</td>\n",
       "      <td>...</td>\n",
       "      <td>...</td>\n",
       "      <td>...</td>\n",
       "      <td>...</td>\n",
       "      <td>...</td>\n",
       "    </tr>\n",
       "    <tr>\n",
       "      <th>241719</th>\n",
       "      <td>MainScreenAppear</td>\n",
       "      <td>4599628364049201812</td>\n",
       "      <td>1565212345</td>\n",
       "      <td>247</td>\n",
       "      <td>2019-08-07 21:12:25</td>\n",
       "      <td>2019-08-07</td>\n",
       "      <td>2019-08-07 21:10:00</td>\n",
       "    </tr>\n",
       "    <tr>\n",
       "      <th>241720</th>\n",
       "      <td>MainScreenAppear</td>\n",
       "      <td>5849806612437486590</td>\n",
       "      <td>1565212439</td>\n",
       "      <td>246</td>\n",
       "      <td>2019-08-07 21:13:59</td>\n",
       "      <td>2019-08-07</td>\n",
       "      <td>2019-08-07 21:10:00</td>\n",
       "    </tr>\n",
       "    <tr>\n",
       "      <th>241721</th>\n",
       "      <td>MainScreenAppear</td>\n",
       "      <td>5746969938801999050</td>\n",
       "      <td>1565212483</td>\n",
       "      <td>246</td>\n",
       "      <td>2019-08-07 21:14:43</td>\n",
       "      <td>2019-08-07</td>\n",
       "      <td>2019-08-07 21:10:00</td>\n",
       "    </tr>\n",
       "    <tr>\n",
       "      <th>241722</th>\n",
       "      <td>MainScreenAppear</td>\n",
       "      <td>5746969938801999050</td>\n",
       "      <td>1565212498</td>\n",
       "      <td>246</td>\n",
       "      <td>2019-08-07 21:14:58</td>\n",
       "      <td>2019-08-07</td>\n",
       "      <td>2019-08-07 21:10:00</td>\n",
       "    </tr>\n",
       "    <tr>\n",
       "      <th>241723</th>\n",
       "      <td>OffersScreenAppear</td>\n",
       "      <td>5746969938801999050</td>\n",
       "      <td>1565212517</td>\n",
       "      <td>246</td>\n",
       "      <td>2019-08-07 21:15:17</td>\n",
       "      <td>2019-08-07</td>\n",
       "      <td>2019-08-07 21:20:00</td>\n",
       "    </tr>\n",
       "  </tbody>\n",
       "</table>\n",
       "<p>241724 rows × 7 columns</p>\n",
       "</div>"
      ],
      "text/plain": [
       "                event_name              user_id   timestamp  group  \\\n",
       "0         MainScreenAppear  7701922487875823903  1564606857    247   \n",
       "1         MainScreenAppear  2539077412200498909  1564606905    247   \n",
       "2       OffersScreenAppear  3286987355161301427  1564606941    248   \n",
       "3       OffersScreenAppear  3187166762535343300  1564606943    247   \n",
       "4         MainScreenAppear  1118952406011435924  1564607005    248   \n",
       "...                    ...                  ...         ...    ...   \n",
       "241719    MainScreenAppear  4599628364049201812  1565212345    247   \n",
       "241720    MainScreenAppear  5849806612437486590  1565212439    246   \n",
       "241721    MainScreenAppear  5746969938801999050  1565212483    246   \n",
       "241722    MainScreenAppear  5746969938801999050  1565212498    246   \n",
       "241723  OffersScreenAppear  5746969938801999050  1565212517    246   \n",
       "\n",
       "                  datetime        date               dt10m  \n",
       "0      2019-07-31 21:00:57  2019-07-31 2019-07-31 21:00:00  \n",
       "1      2019-07-31 21:01:45  2019-07-31 2019-07-31 21:00:00  \n",
       "2      2019-07-31 21:02:21  2019-07-31 2019-07-31 21:00:00  \n",
       "3      2019-07-31 21:02:23  2019-07-31 2019-07-31 21:00:00  \n",
       "4      2019-07-31 21:03:25  2019-07-31 2019-07-31 21:00:00  \n",
       "...                    ...         ...                 ...  \n",
       "241719 2019-08-07 21:12:25  2019-08-07 2019-08-07 21:10:00  \n",
       "241720 2019-08-07 21:13:59  2019-08-07 2019-08-07 21:10:00  \n",
       "241721 2019-08-07 21:14:43  2019-08-07 2019-08-07 21:10:00  \n",
       "241722 2019-08-07 21:14:58  2019-08-07 2019-08-07 21:10:00  \n",
       "241723 2019-08-07 21:15:17  2019-08-07 2019-08-07 21:20:00  \n",
       "\n",
       "[241724 rows x 7 columns]"
      ]
     },
     "execution_count": 28,
     "metadata": {},
     "output_type": "execute_result"
    }
   ],
   "source": [
    "cleared_data = logs_exp[logs_exp['datetime'] > '2019-07-31 21:00:00'].reset_index(drop=True)\n",
    "cleared_data"
   ]
  },
  {
   "cell_type": "code",
   "execution_count": 29,
   "id": "7bb8e6bb",
   "metadata": {},
   "outputs": [
    {
     "name": "stdout",
     "output_type": "stream",
     "text": [
      "Потеря cоставила:  13 пользователей.\n",
      "Доля потери пользователей составляет: 0.17 %\n"
     ]
    }
   ],
   "source": [
    "#cleared_user = logs_exp['user_id'].nunique()\n",
    "print('Потеря cоставила: ', logs_exp['user_id'].nunique() - cleared_data['user_id'].nunique(), 'пользователей.')\n",
    "print(\n",
    "    'Доля потери пользователей составляет:',\n",
    "      round(\n",
    "          (logs_exp['user_id'].nunique() - cleared_data['user_id'].nunique())/logs_exp['user_id'].nunique()*100,\n",
    "          2),\n",
    "      '%'\n",
    "     )"
   ]
  },
  {
   "cell_type": "code",
   "execution_count": 30,
   "id": "e06a1529",
   "metadata": {},
   "outputs": [
    {
     "name": "stdout",
     "output_type": "stream",
     "text": [
      "\n",
      "Потеря составила 1989 событий.\n",
      "Доля потери событий составляет: 0.82 %\n"
     ]
    }
   ],
   "source": [
    "print()\n",
    "print('Потеря составила', logs_exp['event_name'].count() - cleared_data['event_name'].count(), 'событий.')\n",
    "print('Доля потери событий составляет:', round((logs_exp['event_name'].count() - cleared_data['event_name'].count())/logs_exp['event_name'].count()*100, 2), '%')"
   ]
  },
  {
   "cell_type": "markdown",
   "id": "675b996c",
   "metadata": {},
   "source": [
    "После того как мы отбросили старые данные потеря пользователей составила 0,17%, а событий 0,82%. Это вполне допустимые значения, так как данных получилось отбросить меньше 1%."
   ]
  },
  {
   "cell_type": "markdown",
   "id": "20a9624c",
   "metadata": {},
   "source": [
    "***Проверим, что есть пользователи из всех трёх экспериментальных групп.***"
   ]
  },
  {
   "cell_type": "code",
   "execution_count": 31,
   "id": "3266a785",
   "metadata": {},
   "outputs": [
    {
     "data": {
      "text/plain": [
       "group\n",
       "246    2484\n",
       "247    2517\n",
       "248    2537\n",
       "Name: user_id, dtype: int64"
      ]
     },
     "execution_count": 31,
     "metadata": {},
     "output_type": "execute_result"
    }
   ],
   "source": [
    "cleared_data.groupby('group')['user_id'].nunique()"
   ]
  },
  {
   "cell_type": "markdown",
   "id": "de159260",
   "metadata": {},
   "source": [
    "Количество уникальных пользователей распределяется по группам примерно одинаково."
   ]
  },
  {
   "cell_type": "markdown",
   "id": "f359f08d",
   "metadata": {},
   "source": [
    "#### Вывод:\n",
    "Всего в логе 243713 событий из них 5 уникальных. Количество ползователей - 7551. В среднем на одного пользователя приходится 32 события, но так как в данных имеются выбрасы возьмем медианное значени которое равно 20 событиям на пользователя. Мы расплагаем данными за 13 дней, но из них собылия захватывают лишь 7. Остальное пришлось удалить. В результате мы потеряли данные по 13 пользователям и 1989 событиям. Эти потери не превылисли 1%."
   ]
  },
  {
   "cell_type": "markdown",
   "id": "f74b4c03",
   "metadata": {},
   "source": [
    "#### 4. Изучим воронку событий:"
   ]
  },
  {
   "cell_type": "markdown",
   "id": "7a3f8afc",
   "metadata": {},
   "source": [
    "***Посмотрим, какие события есть в логах, как часто они встречаются. Отсортируем события по частоте.***"
   ]
  },
  {
   "cell_type": "code",
   "execution_count": 32,
   "id": "a9f6ae05",
   "metadata": {},
   "outputs": [
    {
     "data": {
      "text/plain": [
       "array(['MainScreenAppear', 'OffersScreenAppear',\n",
       "       'PaymentScreenSuccessful', 'CartScreenAppear', 'Tutorial'],\n",
       "      dtype=object)"
      ]
     },
     "execution_count": 32,
     "metadata": {},
     "output_type": "execute_result"
    }
   ],
   "source": [
    "cleared_data['event_name'].unique()"
   ]
  },
  {
   "cell_type": "code",
   "execution_count": 33,
   "id": "12a5962c",
   "metadata": {},
   "outputs": [
    {
     "data": {
      "text/plain": [
       "MainScreenAppear           117889\n",
       "OffersScreenAppear          46531\n",
       "CartScreenAppear            42343\n",
       "PaymentScreenSuccessful     33951\n",
       "Tutorial                     1010\n",
       "Name: event_name, dtype: int64"
      ]
     },
     "execution_count": 33,
     "metadata": {},
     "output_type": "execute_result"
    }
   ],
   "source": [
    "cleared_data['event_name'].value_counts()"
   ]
  },
  {
   "cell_type": "markdown",
   "id": "8852771c",
   "metadata": {},
   "source": [
    "Всего пять уникальных событий, самое часто встречающееся событие это \"MainScreenAppear\" их 117992, а самые редкие это \"Tutorial\" их 1044."
   ]
  },
  {
   "cell_type": "markdown",
   "id": "f5345d3a",
   "metadata": {},
   "source": [
    "***Посчитаем, сколько пользователей совершали каждое из этих событий. Отсортируем события по числу пользователей. Посчитаем долю пользователей, которые хоть раз совершали событие.***"
   ]
  },
  {
   "cell_type": "code",
   "execution_count": 34,
   "id": "cf012ff3",
   "metadata": {},
   "outputs": [
    {
     "data": {
      "text/plain": [
       "event_name\n",
       "MainScreenAppear           7423\n",
       "OffersScreenAppear         4597\n",
       "CartScreenAppear           3736\n",
       "PaymentScreenSuccessful    3540\n",
       "Tutorial                    843\n",
       "Name: user_id, dtype: int64"
      ]
     },
     "execution_count": 34,
     "metadata": {},
     "output_type": "execute_result"
    }
   ],
   "source": [
    "cleared_data.groupby('event_name')['user_id'].nunique().sort_values(ascending=False)"
   ]
  },
  {
   "cell_type": "code",
   "execution_count": 35,
   "id": "c65dfcf4",
   "metadata": {},
   "outputs": [
    {
     "data": {
      "text/html": [
       "<div>\n",
       "<style scoped>\n",
       "    .dataframe tbody tr th:only-of-type {\n",
       "        vertical-align: middle;\n",
       "    }\n",
       "\n",
       "    .dataframe tbody tr th {\n",
       "        vertical-align: top;\n",
       "    }\n",
       "\n",
       "    .dataframe thead th {\n",
       "        text-align: right;\n",
       "    }\n",
       "</style>\n",
       "<table border=\"1\" class=\"dataframe\">\n",
       "  <thead>\n",
       "    <tr style=\"text-align: right;\">\n",
       "      <th></th>\n",
       "      <th>event_count</th>\n",
       "      <th>user_count</th>\n",
       "      <th>users_share</th>\n",
       "    </tr>\n",
       "    <tr>\n",
       "      <th>event_name</th>\n",
       "      <th></th>\n",
       "      <th></th>\n",
       "      <th></th>\n",
       "    </tr>\n",
       "  </thead>\n",
       "  <tbody>\n",
       "    <tr>\n",
       "      <th>MainScreenAppear</th>\n",
       "      <td>117889</td>\n",
       "      <td>7423</td>\n",
       "      <td>98.47</td>\n",
       "    </tr>\n",
       "    <tr>\n",
       "      <th>OffersScreenAppear</th>\n",
       "      <td>46531</td>\n",
       "      <td>4597</td>\n",
       "      <td>60.98</td>\n",
       "    </tr>\n",
       "    <tr>\n",
       "      <th>CartScreenAppear</th>\n",
       "      <td>42343</td>\n",
       "      <td>3736</td>\n",
       "      <td>49.56</td>\n",
       "    </tr>\n",
       "    <tr>\n",
       "      <th>PaymentScreenSuccessful</th>\n",
       "      <td>33951</td>\n",
       "      <td>3540</td>\n",
       "      <td>46.96</td>\n",
       "    </tr>\n",
       "    <tr>\n",
       "      <th>Tutorial</th>\n",
       "      <td>1010</td>\n",
       "      <td>843</td>\n",
       "      <td>11.18</td>\n",
       "    </tr>\n",
       "  </tbody>\n",
       "</table>\n",
       "</div>"
      ],
      "text/plain": [
       "                         event_count  user_count  users_share\n",
       "event_name                                                   \n",
       "MainScreenAppear              117889        7423        98.47\n",
       "OffersScreenAppear             46531        4597        60.98\n",
       "CartScreenAppear               42343        3736        49.56\n",
       "PaymentScreenSuccessful        33951        3540        46.96\n",
       "Tutorial                        1010         843        11.18"
      ]
     },
     "execution_count": 35,
     "metadata": {},
     "output_type": "execute_result"
    }
   ],
   "source": [
    "user_data = cleared_data.groupby('event_name').agg({'event_name': 'count', 'user_id': 'nunique'})\n",
    "user_data.columns = ['event_count', 'user_count']\n",
    "user_data['users_share'] = (user_data['user_count']/cleared_data['user_id'].nunique()*100).round(2)\n",
    "user_data = user_data.sort_values(by='users_share', ascending=False)\n",
    "user_data"
   ]
  },
  {
   "cell_type": "markdown",
   "id": "ecd76d24",
   "metadata": {},
   "source": [
    "#### Вывод:\n",
    "Получили варонку событий. Самым популярным событием является MainScreenAppear (Появление главного экрана). Доля пользователей этого события составляет 98.47%. Не все пользователи совершили это событие, возможно это связанно с тем, что некоторые пользователи прошли по ссылке с рекламой определенного продукта минуя главный экран. Самым не популярным является Tutorial (Руководство) - 11.18% пользователей.  "
   ]
  },
  {
   "cell_type": "markdown",
   "id": "7340a964",
   "metadata": {},
   "source": [
    "***Предположим, в каком порядке происходят события. Все ли они выстраиваются в последовательную цепочку?***"
   ]
  },
  {
   "cell_type": "markdown",
   "id": "4a0390c4",
   "metadata": {},
   "source": [
    "В переводе на русский язык события такие:\n",
    "- MainScreenAppear - Появление главного экрана;\n",
    "- OffersScreenAppear - Появляется экран предложений;\n",
    "- CartScreenAppear - Появление экрана корзины;\n",
    "- PaymentScreenSuccessful - Экран оплаты прошел успешно;\n",
    "- Tutorial - Руководство.\n",
    "\n",
    "Можно предположить, что события шли по такой цепочке: MainScreenAppear → OffersScreenAppear → CartScreenAppear → PaymentScreenSuccessful → Tutorial. То есть сначала пользователь открыл гланый экран с набором предложений, затем кликом перешел в нужное предложение. После того как выбран нужный товар и добавлен в корзину, ползователь переходит в корзину и открывается экран корзины где оформляется заказ. После оформления заказа открывается экран на котором видна информация о результате оплаты. Завершает цепочку руководство по получению оплаченного товара. Возможно последнее событие может быть инструкцией по оформлению заказа или использованию приложения. В зависимости от назначения это событие можно поставить как в конц, так и в начало цепочки. Отвечая на вопрос \"Все ли они выстраиваются в последовательную цепочку?\" стоит выделить как раз событие \"Tutorial\", которе можно изключить из этой цепочки."
   ]
  },
  {
   "cell_type": "markdown",
   "id": "353241d6",
   "metadata": {},
   "source": [
    "***По воронке событий посчитаем, какая доля пользователей проходит на следующий шаг воронки (от числа пользователей на предыдущем). То есть для последовательности событий A → B → C посчитать отношение числа пользователей с событием B к количеству пользователей с событием A, а также отношение числа пользователей с событием C к количеству пользователей с событием B.***"
   ]
  },
  {
   "cell_type": "code",
   "execution_count": 36,
   "id": "1f4becdf",
   "metadata": {},
   "outputs": [
    {
     "data": {
      "text/html": [
       "<div>\n",
       "<style scoped>\n",
       "    .dataframe tbody tr th:only-of-type {\n",
       "        vertical-align: middle;\n",
       "    }\n",
       "\n",
       "    .dataframe tbody tr th {\n",
       "        vertical-align: top;\n",
       "    }\n",
       "\n",
       "    .dataframe thead th {\n",
       "        text-align: right;\n",
       "    }\n",
       "</style>\n",
       "<table border=\"1\" class=\"dataframe\">\n",
       "  <thead>\n",
       "    <tr style=\"text-align: right;\">\n",
       "      <th></th>\n",
       "      <th>event_count</th>\n",
       "      <th>user_count</th>\n",
       "      <th>users_share</th>\n",
       "      <th>conversion</th>\n",
       "    </tr>\n",
       "    <tr>\n",
       "      <th>event_name</th>\n",
       "      <th></th>\n",
       "      <th></th>\n",
       "      <th></th>\n",
       "      <th></th>\n",
       "    </tr>\n",
       "  </thead>\n",
       "  <tbody>\n",
       "    <tr>\n",
       "      <th>MainScreenAppear</th>\n",
       "      <td>117889</td>\n",
       "      <td>7423</td>\n",
       "      <td>98.47</td>\n",
       "      <td>100.0</td>\n",
       "    </tr>\n",
       "    <tr>\n",
       "      <th>OffersScreenAppear</th>\n",
       "      <td>46531</td>\n",
       "      <td>4597</td>\n",
       "      <td>60.98</td>\n",
       "      <td>62.0</td>\n",
       "    </tr>\n",
       "    <tr>\n",
       "      <th>CartScreenAppear</th>\n",
       "      <td>42343</td>\n",
       "      <td>3736</td>\n",
       "      <td>49.56</td>\n",
       "      <td>81.0</td>\n",
       "    </tr>\n",
       "    <tr>\n",
       "      <th>PaymentScreenSuccessful</th>\n",
       "      <td>33951</td>\n",
       "      <td>3540</td>\n",
       "      <td>46.96</td>\n",
       "      <td>95.0</td>\n",
       "    </tr>\n",
       "    <tr>\n",
       "      <th>Tutorial</th>\n",
       "      <td>1010</td>\n",
       "      <td>843</td>\n",
       "      <td>11.18</td>\n",
       "      <td>24.0</td>\n",
       "    </tr>\n",
       "  </tbody>\n",
       "</table>\n",
       "</div>"
      ],
      "text/plain": [
       "                         event_count  user_count  users_share  conversion\n",
       "event_name                                                               \n",
       "MainScreenAppear              117889        7423        98.47       100.0\n",
       "OffersScreenAppear             46531        4597        60.98        62.0\n",
       "CartScreenAppear               42343        3736        49.56        81.0\n",
       "PaymentScreenSuccessful        33951        3540        46.96        95.0\n",
       "Tutorial                        1010         843        11.18        24.0"
      ]
     },
     "execution_count": 36,
     "metadata": {},
     "output_type": "execute_result"
    }
   ],
   "source": [
    "user_data['conversion'] = round(user_data['user_count'] / user_data['user_count'].shift(periods=1, fill_value=7423), 2)*100\n",
    "user_data"
   ]
  },
  {
   "cell_type": "markdown",
   "id": "233a959b",
   "metadata": {},
   "source": [
    "***На каком шаге теряется больше всего пользователей?***"
   ]
  },
  {
   "cell_type": "markdown",
   "id": "3f7f5aaf",
   "metadata": {},
   "source": [
    "Значительная потеря пользователей происходит на втором шаге, когда происходит переход с обшего экрана на экран с предложением. "
   ]
  },
  {
   "cell_type": "markdown",
   "id": "07724105",
   "metadata": {},
   "source": [
    "***Какая доля пользователей доходит от первого события до оплаты?***"
   ]
  },
  {
   "cell_type": "code",
   "execution_count": 37,
   "id": "500c8919",
   "metadata": {},
   "outputs": [
    {
     "data": {
      "text/plain": [
       "48.0"
      ]
     },
     "execution_count": 37,
     "metadata": {},
     "output_type": "execute_result"
    }
   ],
   "source": [
    "round(user_data['user_count'][3]/user_data['user_count'][0], 2)*100"
   ]
  },
  {
   "cell_type": "markdown",
   "id": "5c2534fb",
   "metadata": {},
   "source": [
    "#### Вывод:\n",
    "Установили последовательность событий и построили воронку. Всего 62% пользователей перешли с главного экрана на экран предложений. Далее потери не такие значительные. На экран корзины преходит 81%, с корзины на экран оплаты 95%. По итогу 48% пользователей доходит от первого события до оплаты и это хороший показатель. Событие Tutorial решили не включать в воронку, так как оно выбивается из последовательной цепочки."
   ]
  },
  {
   "cell_type": "markdown",
   "id": "16a91a57",
   "metadata": {},
   "source": [
    "#### 5. Изучим результаты эксперимента:"
   ]
  },
  {
   "cell_type": "markdown",
   "id": "b485c61d",
   "metadata": {},
   "source": [
    "***Сколько пользователей в каждой экспериментальной группе?***"
   ]
  },
  {
   "cell_type": "code",
   "execution_count": 38,
   "id": "e9e0ff8e",
   "metadata": {},
   "outputs": [
    {
     "name": "stdout",
     "output_type": "stream",
     "text": [
      "В группе 247 - 2517 пользователей.\n",
      "В группе 248 - 2537 пользователей.\n",
      "В группе 246 - 2484 пользователей.\n"
     ]
    }
   ],
   "source": [
    "group = cleared_data['group'].unique()\n",
    "for i in group:\n",
    "    print(\"В группе\", i,\"-\", cleared_data[cleared_data['group'] == i]['user_id'].nunique(), \"пользователей.\")"
   ]
  },
  {
   "cell_type": "code",
   "execution_count": 39,
   "id": "02caa0c9",
   "metadata": {},
   "outputs": [
    {
     "name": "stdout",
     "output_type": "stream",
     "text": [
      "id пользователей из группы 247 попавшие в группу 246: []\n",
      "id пользователей из группы 248 попавшие в группу 246: Series([], Name: user_id, dtype: int64)\n",
      "\n"
     ]
    }
   ],
   "source": [
    "gr_246 = cleared_data[cleared_data['group']==246]['user_id'].unique()\n",
    "gr_247 = cleared_data[cleared_data['group']==247].query('user_id in @gr_246')['user_id']\n",
    "gr_247 = gr_247.unique()\n",
    "print('id пользователей из группы 247 попавшие в группу 246:', gr_247)\n",
    "gr_248 = cleared_data[cleared_data['group']==248].query('user_id in @gr_246')['user_id']\n",
    "print('id пользователей из группы 248 попавшие в группу 246:', gr_248)\n",
    "print()"
   ]
  },
  {
   "cell_type": "markdown",
   "id": "359b8f95",
   "metadata": {},
   "source": [
    "***Есть 2 контрольные группы для А/А-эксперимента, чтобы проверить корректность всех механизмов и расчётов. Проверим, находят ли статистические критерии разницу между выборками 246 и 247.***"
   ]
  },
  {
   "cell_type": "markdown",
   "id": "d6a110b9",
   "metadata": {},
   "source": [
    "***Выбрем самое популярное событие. Посчитаем число пользователей, совершивших это событие в каждой из контрольных групп. Посчитаем долю пользователей, совершивших это событие. Проверим, будет ли отличие между группами статистически достоверным. Выполним то же самое для всех других событий.***"
   ]
  },
  {
   "cell_type": "markdown",
   "id": "f237086d",
   "metadata": {},
   "source": [
    "Критерии успешного A/A-теста:\n",
    "\n",
    "    - Количество пользователей в различных группах различается не более, чем на 1%;\n",
    "\n",
    "    - Для всех групп фиксируют и отправляют в системы аналитики данные об одном и том же;\n",
    "\n",
    "    - Различие ключевых метрик по группам не превышает 1% и не имеет статистической значимости;\n",
    "\n",
    "    - Попавший в одну из групп посетитель остаётся в этой группе до конца теста. Если пользователь видит разные версии исследуемой страницы в ходе одного исследования, неизвестно, какая именно повлияла на его решения. Значит, и результаты такого теста нельзя интерпретировать однозначно."
   ]
  },
  {
   "cell_type": "markdown",
   "id": "5a911a2b",
   "metadata": {},
   "source": [
    "#### Вывод:\n",
    "В данном проекте можем учитывать не все критерии. Проверим корректость выбора групп по **первому** критерию:"
   ]
  },
  {
   "cell_type": "code",
   "execution_count": 40,
   "id": "2eff66d1",
   "metadata": {},
   "outputs": [
    {
     "name": "stdout",
     "output_type": "stream",
     "text": [
      "Количество пользователей в группах 246 и 247 различается на  1 %\n"
     ]
    }
   ],
   "source": [
    "user_group = cleared_data.groupby('group')['user_id'].nunique()\n",
    "print(\"Количество пользователей в группах 246 и 247 различается на \", round((user_group[247] - user_group[246])/user_group[247]*100), \"%\")"
   ]
  },
  {
   "cell_type": "markdown",
   "id": "4fd65879",
   "metadata": {},
   "source": [
    "По **второму** критерию в рамких этого проекта проверить не сможем. По **последнему** критерю мы убедились, что пользователей попавших в обе группы одновременно нет. Остался пункт **\"Различие ключевых метрик по группам не превышает 1% и не имеет статистической значимости\"** который мы проверим далее."
   ]
  },
  {
   "cell_type": "code",
   "execution_count": 41,
   "id": "5693c642",
   "metadata": {},
   "outputs": [
    {
     "data": {
      "text/plain": [
       "group\n",
       "246    2484\n",
       "247    2517\n",
       "248    2537\n",
       "Name: user_id, dtype: int64"
      ]
     },
     "execution_count": 41,
     "metadata": {},
     "output_type": "execute_result"
    }
   ],
   "source": [
    "user_group = cleared_data.groupby('group')['user_id'].nunique()\n",
    "user_group"
   ]
  },
  {
   "cell_type": "code",
   "execution_count": 42,
   "id": "ef7afa64",
   "metadata": {},
   "outputs": [
    {
     "data": {
      "text/html": [
       "<div>\n",
       "<style scoped>\n",
       "    .dataframe tbody tr th:only-of-type {\n",
       "        vertical-align: middle;\n",
       "    }\n",
       "\n",
       "    .dataframe tbody tr th {\n",
       "        vertical-align: top;\n",
       "    }\n",
       "\n",
       "    .dataframe thead th {\n",
       "        text-align: right;\n",
       "    }\n",
       "</style>\n",
       "<table border=\"1\" class=\"dataframe\">\n",
       "  <thead>\n",
       "    <tr style=\"text-align: right;\">\n",
       "      <th></th>\n",
       "      <th>CartScreenAppear</th>\n",
       "      <th>MainScreenAppear</th>\n",
       "      <th>OffersScreenAppear</th>\n",
       "      <th>PaymentScreenSuccessful</th>\n",
       "      <th>total</th>\n",
       "    </tr>\n",
       "    <tr>\n",
       "      <th>group</th>\n",
       "      <th></th>\n",
       "      <th></th>\n",
       "      <th></th>\n",
       "      <th></th>\n",
       "      <th></th>\n",
       "    </tr>\n",
       "  </thead>\n",
       "  <tbody>\n",
       "    <tr>\n",
       "      <th>246</th>\n",
       "      <td>1266</td>\n",
       "      <td>2450</td>\n",
       "      <td>1542</td>\n",
       "      <td>1200</td>\n",
       "      <td>2484</td>\n",
       "    </tr>\n",
       "    <tr>\n",
       "      <th>247</th>\n",
       "      <td>1239</td>\n",
       "      <td>2479</td>\n",
       "      <td>1524</td>\n",
       "      <td>1158</td>\n",
       "      <td>2517</td>\n",
       "    </tr>\n",
       "    <tr>\n",
       "      <th>248</th>\n",
       "      <td>1231</td>\n",
       "      <td>2494</td>\n",
       "      <td>1531</td>\n",
       "      <td>1182</td>\n",
       "      <td>2537</td>\n",
       "    </tr>\n",
       "  </tbody>\n",
       "</table>\n",
       "</div>"
      ],
      "text/plain": [
       "       CartScreenAppear  MainScreenAppear  OffersScreenAppear  \\\n",
       "group                                                           \n",
       "246                1266              2450                1542   \n",
       "247                1239              2479                1524   \n",
       "248                1231              2494                1531   \n",
       "\n",
       "       PaymentScreenSuccessful  total  \n",
       "group                                  \n",
       "246                       1200   2484  \n",
       "247                       1158   2517  \n",
       "248                       1182   2537  "
      ]
     },
     "execution_count": 42,
     "metadata": {},
     "output_type": "execute_result"
    }
   ],
   "source": [
    "tab_group = cleared_data[cleared_data['event_name'] != 'Tutorial'].pivot_table(index='group', columns = 'event_name', values='user_id',aggfunc='nunique')\n",
    "tab_group = tab_group.merge(user_group, left_on=['group'], right_on=['group']).rename(columns={'user_id': 'total'})\n",
    "tab_group"
   ]
  },
  {
   "cell_type": "code",
   "execution_count": 43,
   "id": "7591eb7c",
   "metadata": {},
   "outputs": [],
   "source": [
    "def stst_test(successes, trials, alpha):\n",
    "    \n",
    "    # пропорция успехов в первой группе:\n",
    "    p1 = successes[0]/trials[0]\n",
    "\n",
    "    # пропорция успехов во второй группе:\n",
    "    p2 = successes[1]/trials[1]\n",
    "\n",
    "    # пропорция успехов в комбинированном датасете:\n",
    "    p_combined = (successes[0] + successes[1]) / (trials[0] + trials[1])\n",
    "\n",
    "    # разница пропорций в датасетах\n",
    "    difference = p1 - p2 \n",
    "\n",
    "\n",
    "    # считаем статистику в ст.отклонениях стандартного нормального распределения\n",
    "    z_value = difference / mth.sqrt(p_combined * (1 - p_combined) * (1/trials[0] + 1/trials[1]))\n",
    "\n",
    "    # задаем стандартное нормальное распределение (среднее 0, ст.отклонение 1)\n",
    "    distr = st.norm(0, 1)  \n",
    "\n",
    "    p_value = (1 - distr.cdf(abs(z_value))) * 2\n",
    "\n",
    "    print('p-значение: ', p_value)\n",
    "\n",
    "    if p_value < alpha:\n",
    "        print('Отвергаем нулевую гипотезу: между долями есть значимая разница')\n",
    "    else:\n",
    "        print('Не получилось отвергнуть нулевую гипотезу, нет оснований считать доли разными') "
   ]
  },
  {
   "cell_type": "code",
   "execution_count": 44,
   "id": "0fac8538",
   "metadata": {},
   "outputs": [],
   "source": [
    "CartScreenAppear = ([tab_group['CartScreenAppear'][246], tab_group['CartScreenAppear'][247]])\n",
    "MainScreenAppear = ([tab_group['MainScreenAppear'][246], tab_group['MainScreenAppear'][247]])\n",
    "OffersScreenAppear = ([tab_group['OffersScreenAppear'][246], tab_group['OffersScreenAppear'][247]])\n",
    "PaymentScreenSuccessful = ([tab_group['PaymentScreenSuccessful'][246], tab_group['PaymentScreenSuccessful'][247]])\n",
    "total = ([tab_group['total'][246], tab_group['total'][247]])"
   ]
  },
  {
   "cell_type": "markdown",
   "id": "e00660ad",
   "metadata": {},
   "source": [
    "- Нулевая гипотеза: между долями двух выборок нет значимой разницы.\n",
    "- Альтернативня гипотеза: доли двух выборок различаются."
   ]
  },
  {
   "cell_type": "markdown",
   "id": "4305ec24",
   "metadata": {},
   "source": [
    "Проверим на статистически значимое различие групп **А1/A2 (246/247)** по самому популярному событию:\n",
    "\n",
    "Выберем уровень значимости **alpha=0.01**."
   ]
  },
  {
   "cell_type": "code",
   "execution_count": 45,
   "id": "a4d1b9ee",
   "metadata": {},
   "outputs": [
    {
     "name": "stdout",
     "output_type": "stream",
     "text": [
      "p-значение:  0.6756217702005545\n",
      "Не получилось отвергнуть нулевую гипотезу, нет оснований считать доли разными\n"
     ]
    }
   ],
   "source": [
    "stst_test(MainScreenAppear, total, 0.01)"
   ]
  },
  {
   "cell_type": "markdown",
   "id": "1278d05c",
   "metadata": {},
   "source": [
    "А так же остальные события:"
   ]
  },
  {
   "cell_type": "code",
   "execution_count": 46,
   "id": "710c3237",
   "metadata": {},
   "outputs": [
    {
     "name": "stdout",
     "output_type": "stream",
     "text": [
      "p-значение:  0.2182812140633792\n",
      "Не получилось отвергнуть нулевую гипотезу, нет оснований считать доли разными\n"
     ]
    }
   ],
   "source": [
    "stst_test(CartScreenAppear, total, 0.01)"
   ]
  },
  {
   "cell_type": "code",
   "execution_count": 47,
   "id": "c83940e7",
   "metadata": {},
   "outputs": [
    {
     "name": "stdout",
     "output_type": "stream",
     "text": [
      "p-значение:  0.26698769175859516\n",
      "Не получилось отвергнуть нулевую гипотезу, нет оснований считать доли разными\n"
     ]
    }
   ],
   "source": [
    "stst_test(OffersScreenAppear, total, 0.01)"
   ]
  },
  {
   "cell_type": "code",
   "execution_count": 48,
   "id": "c8b4097f",
   "metadata": {},
   "outputs": [
    {
     "name": "stdout",
     "output_type": "stream",
     "text": [
      "p-значение:  0.10298394982948822\n",
      "Не получилось отвергнуть нулевую гипотезу, нет оснований считать доли разными\n"
     ]
    }
   ],
   "source": [
    "stst_test(PaymentScreenSuccessful, total, 0.01)"
   ]
  },
  {
   "cell_type": "markdown",
   "id": "364e5a40",
   "metadata": {},
   "source": [
    "После проверки по всем критерям, можно считать, что разбивка на группы бала прведена корректно. Статистически значимых различий не выявлено. Теперь можно проводить А/В тест."
   ]
  },
  {
   "cell_type": "markdown",
   "id": "f7d90964",
   "metadata": {},
   "source": [
    "Самым популярным событием является \"MainScreenAppear\"(Появление главного экрана) доля пользователей его составляет 98,47%."
   ]
  },
  {
   "cell_type": "code",
   "execution_count": 49,
   "id": "38474cc8",
   "metadata": {},
   "outputs": [
    {
     "data": {
      "text/plain": [
       "group\n",
       "246    2450\n",
       "247    2479\n",
       "248    2494\n",
       "Name: user_id, dtype: int64"
      ]
     },
     "execution_count": 49,
     "metadata": {},
     "output_type": "execute_result"
    }
   ],
   "source": [
    "# число пользователей, совершивших это событие в каждой из контрольных групп:\n",
    "user_MSA = cleared_data[cleared_data['event_name']=='MainScreenAppear'].groupby('group')['user_id'].nunique()\n",
    "user_MSA"
   ]
  },
  {
   "cell_type": "code",
   "execution_count": 50,
   "id": "c4a60156",
   "metadata": {},
   "outputs": [
    {
     "data": {
      "text/plain": [
       "group\n",
       "246    98.6\n",
       "247    98.5\n",
       "248    98.3\n",
       "dtype: float64"
      ]
     },
     "execution_count": 50,
     "metadata": {},
     "output_type": "execute_result"
    }
   ],
   "source": [
    "# доля пользователей, совершивших это событие:\n",
    "conv_MSA = round(tab_group['MainScreenAppear'] / tab_group['total'] * 100, 1)\n",
    "conv_MSA"
   ]
  },
  {
   "cell_type": "markdown",
   "id": "b932dcaa",
   "metadata": {},
   "source": [
    "***Аналогично поступим с группой с изменённым шрифтом. Сравним результаты с каждой из контрольных групп в отдельности по каждому событию. Сравним результаты с объединённой контрольной группой.***"
   ]
  },
  {
   "cell_type": "code",
   "execution_count": 51,
   "id": "30f25aca",
   "metadata": {},
   "outputs": [],
   "source": [
    "CartScreenAppear = ([tab_group['CartScreenAppear'][246], tab_group['CartScreenAppear'][248]])\n",
    "MainScreenAppear = ([tab_group['MainScreenAppear'][246], tab_group['MainScreenAppear'][248]])\n",
    "OffersScreenAppear = ([tab_group['OffersScreenAppear'][246], tab_group['OffersScreenAppear'][248]])\n",
    "PaymentScreenSuccessful = ([tab_group['PaymentScreenSuccessful'][246], tab_group['PaymentScreenSuccessful'][248]])\n",
    "total = ([tab_group['total'][246], tab_group['total'][248]])"
   ]
  },
  {
   "cell_type": "markdown",
   "id": "047c5100",
   "metadata": {},
   "source": [
    "Проверим на статистически значимое различие групп **А1/В (246/248)**:\n",
    "\n",
    "Выберем уровень значимости **alpha=0.05**."
   ]
  },
  {
   "cell_type": "code",
   "execution_count": 52,
   "id": "77be2e55",
   "metadata": {},
   "outputs": [
    {
     "name": "stdout",
     "output_type": "stream",
     "text": [
      "p-значение:  0.34705881021236484\n",
      "Не получилось отвергнуть нулевую гипотезу, нет оснований считать доли разными\n"
     ]
    }
   ],
   "source": [
    "stst_test(MainScreenAppear, total, 0.05)"
   ]
  },
  {
   "cell_type": "code",
   "execution_count": 53,
   "id": "c26c75e0",
   "metadata": {},
   "outputs": [
    {
     "name": "stdout",
     "output_type": "stream",
     "text": [
      "p-значение:  0.08328412977507749\n",
      "Не получилось отвергнуть нулевую гипотезу, нет оснований считать доли разными\n"
     ]
    }
   ],
   "source": [
    "stst_test(CartScreenAppear, total, 0.05)"
   ]
  },
  {
   "cell_type": "code",
   "execution_count": 54,
   "id": "d72125b3",
   "metadata": {},
   "outputs": [
    {
     "name": "stdout",
     "output_type": "stream",
     "text": [
      "p-значение:  0.20836205402738917\n",
      "Не получилось отвергнуть нулевую гипотезу, нет оснований считать доли разными\n"
     ]
    }
   ],
   "source": [
    "stst_test(OffersScreenAppear, total, 0.05)"
   ]
  },
  {
   "cell_type": "code",
   "execution_count": 55,
   "id": "2661e9bf",
   "metadata": {},
   "outputs": [
    {
     "name": "stdout",
     "output_type": "stream",
     "text": [
      "p-значение:  0.22269358994682742\n",
      "Не получилось отвергнуть нулевую гипотезу, нет оснований считать доли разными\n"
     ]
    }
   ],
   "source": [
    "stst_test(PaymentScreenSuccessful, total, 0.05)"
   ]
  },
  {
   "cell_type": "markdown",
   "id": "56c89580",
   "metadata": {},
   "source": [
    "Теперь проверим различие групп **А2/В (247/248)**:"
   ]
  },
  {
   "cell_type": "code",
   "execution_count": 56,
   "id": "4d850f95",
   "metadata": {},
   "outputs": [],
   "source": [
    "CartScreenAppear = ([tab_group['CartScreenAppear'][247], tab_group['CartScreenAppear'][248]])\n",
    "MainScreenAppear = ([tab_group['MainScreenAppear'][247], tab_group['MainScreenAppear'][248]])\n",
    "OffersScreenAppear = ([tab_group['OffersScreenAppear'][247], tab_group['OffersScreenAppear'][248]])\n",
    "PaymentScreenSuccessful = ([tab_group['PaymentScreenSuccessful'][247], tab_group['PaymentScreenSuccessful'][248]])\n",
    "total = ([tab_group['total'][247], tab_group['total'][248]])"
   ]
  },
  {
   "cell_type": "code",
   "execution_count": 57,
   "id": "ce98d601",
   "metadata": {},
   "outputs": [
    {
     "name": "stdout",
     "output_type": "stream",
     "text": [
      "p-значение:  0.6001661582453706\n",
      "Не получилось отвергнуть нулевую гипотезу, нет оснований считать доли разными\n"
     ]
    }
   ],
   "source": [
    "stst_test(MainScreenAppear, total, 0.05)"
   ]
  },
  {
   "cell_type": "code",
   "execution_count": 58,
   "id": "1c0b5cb4",
   "metadata": {},
   "outputs": [
    {
     "name": "stdout",
     "output_type": "stream",
     "text": [
      "p-значение:  0.6169517476996997\n",
      "Не получилось отвергнуть нулевую гипотезу, нет оснований считать доли разными\n"
     ]
    }
   ],
   "source": [
    "stst_test(CartScreenAppear, total, 0.05)"
   ]
  },
  {
   "cell_type": "code",
   "execution_count": 59,
   "id": "5c27164f",
   "metadata": {},
   "outputs": [
    {
     "name": "stdout",
     "output_type": "stream",
     "text": [
      "p-значение:  0.8835956656016957\n",
      "Не получилось отвергнуть нулевую гипотезу, нет оснований считать доли разными\n"
     ]
    }
   ],
   "source": [
    "stst_test(OffersScreenAppear, total, 0.05)"
   ]
  },
  {
   "cell_type": "code",
   "execution_count": 60,
   "id": "394ee363",
   "metadata": {},
   "outputs": [
    {
     "name": "stdout",
     "output_type": "stream",
     "text": [
      "p-значение:  0.6775413642906454\n",
      "Не получилось отвергнуть нулевую гипотезу, нет оснований считать доли разными\n"
     ]
    }
   ],
   "source": [
    "stst_test(PaymentScreenSuccessful, total, 0.05)"
   ]
  },
  {
   "cell_type": "markdown",
   "id": "f6d4bb18",
   "metadata": {},
   "source": [
    "Объеденим контрольные группы 246 и 247 в одну:"
   ]
  },
  {
   "cell_type": "code",
   "execution_count": 61,
   "id": "5e57f859",
   "metadata": {},
   "outputs": [
    {
     "data": {
      "text/html": [
       "<div>\n",
       "<style scoped>\n",
       "    .dataframe tbody tr th:only-of-type {\n",
       "        vertical-align: middle;\n",
       "    }\n",
       "\n",
       "    .dataframe tbody tr th {\n",
       "        vertical-align: top;\n",
       "    }\n",
       "\n",
       "    .dataframe thead th {\n",
       "        text-align: right;\n",
       "    }\n",
       "</style>\n",
       "<table border=\"1\" class=\"dataframe\">\n",
       "  <thead>\n",
       "    <tr style=\"text-align: right;\">\n",
       "      <th></th>\n",
       "      <th>CartScreenAppear</th>\n",
       "      <th>MainScreenAppear</th>\n",
       "      <th>OffersScreenAppear</th>\n",
       "      <th>PaymentScreenSuccessful</th>\n",
       "      <th>total</th>\n",
       "    </tr>\n",
       "    <tr>\n",
       "      <th>group</th>\n",
       "      <th></th>\n",
       "      <th></th>\n",
       "      <th></th>\n",
       "      <th></th>\n",
       "      <th></th>\n",
       "    </tr>\n",
       "  </thead>\n",
       "  <tbody>\n",
       "    <tr>\n",
       "      <th>246</th>\n",
       "      <td>1266</td>\n",
       "      <td>2450</td>\n",
       "      <td>1542</td>\n",
       "      <td>1200</td>\n",
       "      <td>2484</td>\n",
       "    </tr>\n",
       "    <tr>\n",
       "      <th>247</th>\n",
       "      <td>1239</td>\n",
       "      <td>2479</td>\n",
       "      <td>1524</td>\n",
       "      <td>1158</td>\n",
       "      <td>2517</td>\n",
       "    </tr>\n",
       "    <tr>\n",
       "      <th>248</th>\n",
       "      <td>1231</td>\n",
       "      <td>2494</td>\n",
       "      <td>1531</td>\n",
       "      <td>1182</td>\n",
       "      <td>2537</td>\n",
       "    </tr>\n",
       "    <tr>\n",
       "      <th>246/7</th>\n",
       "      <td>2505</td>\n",
       "      <td>4929</td>\n",
       "      <td>3066</td>\n",
       "      <td>2358</td>\n",
       "      <td>5001</td>\n",
       "    </tr>\n",
       "  </tbody>\n",
       "</table>\n",
       "</div>"
      ],
      "text/plain": [
       "       CartScreenAppear  MainScreenAppear  OffersScreenAppear  \\\n",
       "group                                                           \n",
       "246                1266              2450                1542   \n",
       "247                1239              2479                1524   \n",
       "248                1231              2494                1531   \n",
       "246/7              2505              4929                3066   \n",
       "\n",
       "       PaymentScreenSuccessful  total  \n",
       "group                                  \n",
       "246                       1200   2484  \n",
       "247                       1158   2517  \n",
       "248                       1182   2537  \n",
       "246/7                     2358   5001  "
      ]
     },
     "execution_count": 61,
     "metadata": {},
     "output_type": "execute_result"
    }
   ],
   "source": [
    "tab_group.loc['246/7'] = [2505, 4929, 3066, 2358, 5001]\n",
    "tab_group"
   ]
  },
  {
   "cell_type": "code",
   "execution_count": 62,
   "id": "3f3f48d8",
   "metadata": {},
   "outputs": [
    {
     "data": {
      "text/plain": [
       "[2505, 1231]"
      ]
     },
     "execution_count": 62,
     "metadata": {},
     "output_type": "execute_result"
    }
   ],
   "source": [
    "CartScreenAppear = ([tab_group['CartScreenAppear']['246/7'], tab_group['CartScreenAppear'][248]])\n",
    "MainScreenAppear = ([tab_group['MainScreenAppear']['246/7'], tab_group['MainScreenAppear'][248]])\n",
    "OffersScreenAppear = ([tab_group['OffersScreenAppear']['246/7'], tab_group['OffersScreenAppear'][248]])\n",
    "PaymentScreenSuccessful = ([tab_group['PaymentScreenSuccessful']['246/7'], tab_group['PaymentScreenSuccessful'][248]])\n",
    "total = ([tab_group['total']['246/7'], tab_group['total'][248]])\n",
    "CartScreenAppear"
   ]
  },
  {
   "cell_type": "markdown",
   "id": "22486d64",
   "metadata": {},
   "source": [
    "Проверим различие групп **А3/В** (246/7 и 248):"
   ]
  },
  {
   "cell_type": "code",
   "execution_count": 63,
   "id": "5a04fb11",
   "metadata": {},
   "outputs": [
    {
     "name": "stdout",
     "output_type": "stream",
     "text": [
      "p-значение:  0.39298914928006035\n",
      "Не получилось отвергнуть нулевую гипотезу, нет оснований считать доли разными\n"
     ]
    }
   ],
   "source": [
    "stst_test(MainScreenAppear, total, 0.05)"
   ]
  },
  {
   "cell_type": "code",
   "execution_count": 64,
   "id": "19c09bae",
   "metadata": {},
   "outputs": [
    {
     "name": "stdout",
     "output_type": "stream",
     "text": [
      "p-значение:  0.19819340844527744\n",
      "Не получилось отвергнуть нулевую гипотезу, нет оснований считать доли разными\n"
     ]
    }
   ],
   "source": [
    "stst_test(CartScreenAppear, total, 0.05)"
   ]
  },
  {
   "cell_type": "code",
   "execution_count": 65,
   "id": "40b0a4b9",
   "metadata": {},
   "outputs": [
    {
     "name": "stdout",
     "output_type": "stream",
     "text": [
      "p-значение:  0.418998284007599\n",
      "Не получилось отвергнуть нулевую гипотезу, нет оснований считать доли разными\n"
     ]
    }
   ],
   "source": [
    "stst_test(OffersScreenAppear, total, 0.05)"
   ]
  },
  {
   "cell_type": "code",
   "execution_count": 66,
   "id": "6ad771c9",
   "metadata": {},
   "outputs": [
    {
     "name": "stdout",
     "output_type": "stream",
     "text": [
      "p-значение:  0.6452057673098244\n",
      "Не получилось отвергнуть нулевую гипотезу, нет оснований считать доли разными\n"
     ]
    }
   ],
   "source": [
    "stst_test(PaymentScreenSuccessful, total, 0.05)"
   ]
  },
  {
   "cell_type": "markdown",
   "id": "2799f120",
   "metadata": {},
   "source": [
    "По итогам теста статистически значимых различий между группами А1/В и группами А2/В нет. А так же между объединенной группой А3 и В статистически значимых различий по всем событиям нет."
   ]
  },
  {
   "cell_type": "markdown",
   "id": "fc21e602",
   "metadata": {},
   "source": [
    "***Посчитаем, сколько проверок статистических гипотез сделано.***"
   ]
  },
  {
   "cell_type": "markdown",
   "id": "8cf0bf00",
   "metadata": {},
   "source": [
    "В результате проверки было проведено четыре А/А теста и двенадцать А/В тестов."
   ]
  },
  {
   "cell_type": "markdown",
   "id": "afa8096b",
   "metadata": {},
   "source": [
    "В А/В тесте я спользовала уровень значимости alpha=0.05. Проверим вероятность ошибки по формуле $1-(1-a)^n$: 1 - (1 - 0,05)^16 = 0,56. Полученная вероятность выше уровня значимости, значит необходимо его скорректировать.\n",
    "Воспользуемся методом Бонферрони:  bonferroni_alpha = alpha / 16, выходит уроветь значимости теперь 0.003, что еще мньше. Во всех экспериментах p_value превышало alpha, а это значит, что не имеет смысла проводить все тесты вновь с скорректированным уровнем значимости. В любом случае теперь мы снизили вероятность ошибки и результатам можно больше доверять.  "
   ]
  },
  {
   "cell_type": "markdown",
   "id": "0b941f18",
   "metadata": {},
   "source": [
    "### 6. Вывод:\n",
    "\n",
    "Я располагала данными о пользователях (их уникальный номер) которые совершали определенные события при использовании приложения, такие как:\n",
    " - Появление главного экрана;\n",
    " - Появляется экран предложений;\n",
    " - Появление экрана корзины;\n",
    " - Экран оплаты прошел успешно;\n",
    " - Руководство.\n",
    " \n",
    "Так же период использования приложения двумя контрольными группами, которые использовали приложение со старым шрифтом и одной экспериментальной группой с новым. Самым полупьяным событием было \"Появление главного экрана\". Чтобы дать ответ повлияет ли изменение шрифта на использование данного приложения,  я провела несколько тестов на проверку гипотез о равенстве долей по всем событиям кроме \"Руководство\". Так как данное событие не участвует в воронке. Во всех событиях тесты показали одинаковый результат.\n",
    "В итоге можно заключить, что на пользователей никак не повлияло изменение шрифта приложения. Но стоит заметить, что данные пришлось урезать,  и мы располагали лишь одной неделею.  Было бы лучше провести это исследование,  располагая большим периодом, хотя бы двумя неделями."
   ]
  }
 ],
 "metadata": {
  "ExecuteTimeLog": [
   {
    "duration": 1232,
    "start_time": "2023-10-13T18:34:59.334Z"
   },
   {
    "duration": 570,
    "start_time": "2023-10-13T18:35:00.568Z"
   },
   {
    "duration": 24,
    "start_time": "2023-10-13T18:35:01.140Z"
   },
   {
    "duration": 205,
    "start_time": "2023-10-13T18:35:01.166Z"
   },
   {
    "duration": 851,
    "start_time": "2023-10-13T18:35:01.372Z"
   },
   {
    "duration": 565,
    "start_time": "2023-10-13T18:35:02.225Z"
   },
   {
    "duration": 76,
    "start_time": "2023-10-13T18:35:02.791Z"
   },
   {
    "duration": 95,
    "start_time": "2023-10-13T18:35:02.868Z"
   },
   {
    "duration": 20,
    "start_time": "2023-10-13T18:35:02.965Z"
   },
   {
    "duration": 20,
    "start_time": "2023-10-13T18:35:02.987Z"
   },
   {
    "duration": 23,
    "start_time": "2023-10-13T18:35:03.009Z"
   },
   {
    "duration": 16,
    "start_time": "2023-10-13T18:35:03.034Z"
   },
   {
    "duration": 100,
    "start_time": "2023-10-13T18:35:03.052Z"
   },
   {
    "duration": 32,
    "start_time": "2023-10-13T18:35:03.154Z"
   },
   {
    "duration": 28,
    "start_time": "2023-10-13T18:35:03.188Z"
   },
   {
    "duration": 42,
    "start_time": "2023-10-13T18:35:03.218Z"
   },
   {
    "duration": 14,
    "start_time": "2023-10-13T18:35:03.262Z"
   },
   {
    "duration": 32,
    "start_time": "2023-10-13T18:35:03.277Z"
   },
   {
    "duration": 479,
    "start_time": "2023-10-13T18:35:03.311Z"
   },
   {
    "duration": 417,
    "start_time": "2023-10-13T18:35:03.791Z"
   },
   {
    "duration": 6,
    "start_time": "2023-10-13T18:35:04.210Z"
   },
   {
    "duration": 14,
    "start_time": "2023-10-13T18:35:04.219Z"
   },
   {
    "duration": 30,
    "start_time": "2023-10-13T18:35:04.235Z"
   },
   {
    "duration": 68,
    "start_time": "2023-10-13T18:35:04.267Z"
   },
   {
    "duration": 11,
    "start_time": "2023-10-13T18:35:04.336Z"
   },
   {
    "duration": 447,
    "start_time": "2023-10-13T18:35:04.348Z"
   },
   {
    "duration": 326,
    "start_time": "2023-10-13T18:35:04.797Z"
   },
   {
    "duration": 137,
    "start_time": "2023-10-13T18:35:05.126Z"
   },
   {
    "duration": 35,
    "start_time": "2023-10-13T18:35:05.266Z"
   },
   {
    "duration": 57,
    "start_time": "2023-10-13T18:35:05.304Z"
   },
   {
    "duration": 53,
    "start_time": "2023-10-13T18:35:05.363Z"
   },
   {
    "duration": 24,
    "start_time": "2023-10-13T18:35:05.418Z"
   },
   {
    "duration": 29,
    "start_time": "2023-10-13T18:35:05.445Z"
   },
   {
    "duration": 75,
    "start_time": "2023-10-13T18:35:05.476Z"
   },
   {
    "duration": 81,
    "start_time": "2023-10-13T18:35:05.552Z"
   },
   {
    "duration": 3,
    "start_time": "2023-10-13T18:35:05.635Z"
   },
   {
    "duration": 40,
    "start_time": "2023-10-13T18:35:05.640Z"
   },
   {
    "duration": 16,
    "start_time": "2023-10-13T18:35:05.681Z"
   },
   {
    "duration": 46,
    "start_time": "2023-10-13T18:35:05.699Z"
   },
   {
    "duration": 37,
    "start_time": "2023-10-13T18:35:05.747Z"
   },
   {
    "duration": 41,
    "start_time": "2023-10-13T18:35:05.786Z"
   },
   {
    "duration": 123,
    "start_time": "2023-10-13T18:35:05.828Z"
   },
   {
    "duration": 5,
    "start_time": "2023-10-13T18:35:05.954Z"
   },
   {
    "duration": 40,
    "start_time": "2023-10-13T18:35:05.961Z"
   },
   {
    "duration": 23,
    "start_time": "2023-10-13T18:35:06.003Z"
   },
   {
    "duration": 39,
    "start_time": "2023-10-13T18:35:06.028Z"
   },
   {
    "duration": 36,
    "start_time": "2023-10-13T18:35:06.069Z"
   },
   {
    "duration": 31,
    "start_time": "2023-10-13T18:35:06.107Z"
   },
   {
    "duration": 63,
    "start_time": "2023-10-13T18:35:06.139Z"
   },
   {
    "duration": 51,
    "start_time": "2023-10-13T18:35:06.204Z"
   },
   {
    "duration": 13,
    "start_time": "2023-10-13T18:35:06.257Z"
   },
   {
    "duration": 12,
    "start_time": "2023-10-13T18:35:06.272Z"
   },
   {
    "duration": 21,
    "start_time": "2023-10-13T18:35:06.286Z"
   },
   {
    "duration": 8,
    "start_time": "2023-10-13T18:35:06.309Z"
   },
   {
    "duration": 5,
    "start_time": "2023-10-13T18:35:06.319Z"
   },
   {
    "duration": 13,
    "start_time": "2023-10-13T18:35:06.326Z"
   },
   {
    "duration": 20,
    "start_time": "2023-10-13T18:35:06.341Z"
   },
   {
    "duration": 19,
    "start_time": "2023-10-13T18:35:06.362Z"
   },
   {
    "duration": 14,
    "start_time": "2023-10-13T18:35:06.383Z"
   },
   {
    "duration": 10,
    "start_time": "2023-10-13T18:35:06.398Z"
   },
   {
    "duration": 22,
    "start_time": "2023-10-13T18:35:06.410Z"
   },
   {
    "duration": 19,
    "start_time": "2023-10-13T18:35:06.433Z"
   },
   {
    "duration": 27,
    "start_time": "2023-10-13T18:35:06.453Z"
   },
   {
    "duration": 13,
    "start_time": "2023-10-13T18:35:06.482Z"
   },
   {
    "duration": 24,
    "start_time": "2023-10-13T18:35:06.497Z"
   },
   {
    "duration": 12,
    "start_time": "2023-10-13T18:35:06.523Z"
   },
   {
    "duration": 1136,
    "start_time": "2023-10-15T17:38:07.842Z"
   },
   {
    "duration": 218,
    "start_time": "2023-10-15T17:38:08.980Z"
   },
   {
    "duration": 30,
    "start_time": "2023-10-15T17:38:09.200Z"
   },
   {
    "duration": 13,
    "start_time": "2023-10-15T17:38:09.232Z"
   },
   {
    "duration": 9,
    "start_time": "2023-10-15T17:38:09.247Z"
   },
   {
    "duration": 24,
    "start_time": "2023-10-15T17:38:09.258Z"
   },
   {
    "duration": 93,
    "start_time": "2023-10-15T17:38:09.283Z"
   },
   {
    "duration": 92,
    "start_time": "2023-10-15T17:38:09.378Z"
   },
   {
    "duration": 19,
    "start_time": "2023-10-15T17:38:09.472Z"
   },
   {
    "duration": 5,
    "start_time": "2023-10-15T17:38:09.494Z"
   },
   {
    "duration": 26,
    "start_time": "2023-10-15T17:38:09.500Z"
   },
   {
    "duration": 8,
    "start_time": "2023-10-15T17:38:09.528Z"
   },
   {
    "duration": 98,
    "start_time": "2023-10-15T17:38:09.538Z"
   },
   {
    "duration": 32,
    "start_time": "2023-10-15T17:38:09.638Z"
   },
   {
    "duration": 15,
    "start_time": "2023-10-15T17:38:09.671Z"
   },
   {
    "duration": 54,
    "start_time": "2023-10-15T17:38:09.687Z"
   },
   {
    "duration": 9,
    "start_time": "2023-10-15T17:38:09.742Z"
   },
   {
    "duration": 8,
    "start_time": "2023-10-15T17:38:09.753Z"
   },
   {
    "duration": 162,
    "start_time": "2023-10-15T17:38:09.763Z"
   },
   {
    "duration": 384,
    "start_time": "2023-10-15T17:38:09.927Z"
   },
   {
    "duration": 13,
    "start_time": "2023-10-15T17:38:10.313Z"
   },
   {
    "duration": 8,
    "start_time": "2023-10-15T17:38:10.328Z"
   },
   {
    "duration": 7,
    "start_time": "2023-10-15T17:38:10.338Z"
   },
   {
    "duration": 46,
    "start_time": "2023-10-15T17:38:10.347Z"
   },
   {
    "duration": 35,
    "start_time": "2023-10-15T17:38:10.395Z"
   },
   {
    "duration": 368,
    "start_time": "2023-10-15T17:38:10.432Z"
   },
   {
    "duration": 336,
    "start_time": "2023-10-15T17:38:10.802Z"
   },
   {
    "duration": 110,
    "start_time": "2023-10-15T17:38:11.143Z"
   },
   {
    "duration": 21,
    "start_time": "2023-10-15T17:38:11.255Z"
   },
   {
    "duration": 66,
    "start_time": "2023-10-15T17:38:11.277Z"
   },
   {
    "duration": 28,
    "start_time": "2023-10-15T17:38:11.345Z"
   },
   {
    "duration": 16,
    "start_time": "2023-10-15T17:38:11.375Z"
   },
   {
    "duration": 44,
    "start_time": "2023-10-15T17:38:11.393Z"
   },
   {
    "duration": 52,
    "start_time": "2023-10-15T17:38:11.438Z"
   },
   {
    "duration": 91,
    "start_time": "2023-10-15T17:38:11.492Z"
   },
   {
    "duration": 12,
    "start_time": "2023-10-15T17:38:11.586Z"
   },
   {
    "duration": 5,
    "start_time": "2023-10-15T17:38:11.600Z"
   },
   {
    "duration": 45,
    "start_time": "2023-10-15T17:38:11.606Z"
   },
   {
    "duration": 31,
    "start_time": "2023-10-15T17:38:11.653Z"
   },
   {
    "duration": 48,
    "start_time": "2023-10-15T17:38:11.686Z"
   },
   {
    "duration": 30,
    "start_time": "2023-10-15T17:38:11.736Z"
   },
   {
    "duration": 114,
    "start_time": "2023-10-15T17:38:11.767Z"
   },
   {
    "duration": 5,
    "start_time": "2023-10-15T17:38:11.883Z"
   },
   {
    "duration": 12,
    "start_time": "2023-10-15T17:38:11.889Z"
   },
   {
    "duration": 13,
    "start_time": "2023-10-15T17:38:11.903Z"
   },
   {
    "duration": 5,
    "start_time": "2023-10-15T17:38:11.924Z"
   },
   {
    "duration": 8,
    "start_time": "2023-10-15T17:38:11.930Z"
   },
   {
    "duration": 6,
    "start_time": "2023-10-15T17:38:11.940Z"
   },
   {
    "duration": 44,
    "start_time": "2023-10-15T17:38:11.949Z"
   },
   {
    "duration": 6,
    "start_time": "2023-10-15T17:38:12.025Z"
   },
   {
    "duration": 9,
    "start_time": "2023-10-15T17:38:12.033Z"
   },
   {
    "duration": 21,
    "start_time": "2023-10-15T17:38:12.044Z"
   },
   {
    "duration": 15,
    "start_time": "2023-10-15T17:38:12.067Z"
   },
   {
    "duration": 9,
    "start_time": "2023-10-15T17:38:12.084Z"
   },
   {
    "duration": 17,
    "start_time": "2023-10-15T17:38:12.095Z"
   },
   {
    "duration": 4,
    "start_time": "2023-10-15T17:38:12.114Z"
   },
   {
    "duration": 9,
    "start_time": "2023-10-15T17:38:12.120Z"
   },
   {
    "duration": 6,
    "start_time": "2023-10-15T17:38:12.131Z"
   },
   {
    "duration": 4,
    "start_time": "2023-10-15T17:38:12.139Z"
   },
   {
    "duration": 8,
    "start_time": "2023-10-15T17:38:12.145Z"
   },
   {
    "duration": 11,
    "start_time": "2023-10-15T17:38:12.154Z"
   },
   {
    "duration": 8,
    "start_time": "2023-10-15T17:38:12.167Z"
   },
   {
    "duration": 8,
    "start_time": "2023-10-15T17:38:12.176Z"
   },
   {
    "duration": 6,
    "start_time": "2023-10-15T17:38:12.185Z"
   },
   {
    "duration": 35,
    "start_time": "2023-10-15T17:38:12.193Z"
   },
   {
    "duration": 9,
    "start_time": "2023-10-15T17:38:12.230Z"
   },
   {
    "duration": 1205,
    "start_time": "2023-10-15T17:42:03.501Z"
   },
   {
    "duration": 225,
    "start_time": "2023-10-15T17:42:04.708Z"
   },
   {
    "duration": 24,
    "start_time": "2023-10-15T17:42:04.935Z"
   },
   {
    "duration": 11,
    "start_time": "2023-10-15T17:42:04.961Z"
   },
   {
    "duration": 14,
    "start_time": "2023-10-15T17:42:04.975Z"
   },
   {
    "duration": 42,
    "start_time": "2023-10-15T17:42:04.991Z"
   },
   {
    "duration": 70,
    "start_time": "2023-10-15T17:42:05.034Z"
   },
   {
    "duration": 97,
    "start_time": "2023-10-15T17:42:05.105Z"
   },
   {
    "duration": 30,
    "start_time": "2023-10-15T17:42:05.204Z"
   },
   {
    "duration": 13,
    "start_time": "2023-10-15T17:42:05.235Z"
   },
   {
    "duration": 14,
    "start_time": "2023-10-15T17:42:05.250Z"
   },
   {
    "duration": 20,
    "start_time": "2023-10-15T17:42:05.265Z"
   },
   {
    "duration": 84,
    "start_time": "2023-10-15T17:42:05.287Z"
   },
   {
    "duration": 30,
    "start_time": "2023-10-15T17:42:05.375Z"
   },
   {
    "duration": 25,
    "start_time": "2023-10-15T17:42:05.407Z"
   },
   {
    "duration": 33,
    "start_time": "2023-10-15T17:42:05.434Z"
   },
   {
    "duration": 17,
    "start_time": "2023-10-15T17:42:05.469Z"
   },
   {
    "duration": 21,
    "start_time": "2023-10-15T17:42:05.487Z"
   },
   {
    "duration": 169,
    "start_time": "2023-10-15T17:42:05.510Z"
   },
   {
    "duration": 477,
    "start_time": "2023-10-15T17:42:05.681Z"
   },
   {
    "duration": 6,
    "start_time": "2023-10-15T17:42:06.159Z"
   },
   {
    "duration": 10,
    "start_time": "2023-10-15T17:42:06.166Z"
   },
   {
    "duration": 10,
    "start_time": "2023-10-15T17:42:06.178Z"
   },
   {
    "duration": 65,
    "start_time": "2023-10-15T17:42:06.189Z"
   },
   {
    "duration": 11,
    "start_time": "2023-10-15T17:42:06.255Z"
   },
   {
    "duration": 380,
    "start_time": "2023-10-15T17:42:06.268Z"
   },
   {
    "duration": 348,
    "start_time": "2023-10-15T17:42:06.650Z"
   },
   {
    "duration": 42,
    "start_time": "2023-10-15T17:42:07.000Z"
   },
   {
    "duration": 155,
    "start_time": "2023-10-15T17:42:07.044Z"
   },
   {
    "duration": 264,
    "start_time": "2023-10-15T17:42:07.201Z"
   },
   {
    "duration": 36,
    "start_time": "2023-10-15T17:42:07.467Z"
   },
   {
    "duration": 26,
    "start_time": "2023-10-15T17:42:07.505Z"
   },
   {
    "duration": 59,
    "start_time": "2023-10-15T17:42:07.533Z"
   },
   {
    "duration": 152,
    "start_time": "2023-10-15T17:42:07.593Z"
   },
   {
    "duration": 88,
    "start_time": "2023-10-15T17:42:07.746Z"
   },
   {
    "duration": 12,
    "start_time": "2023-10-15T17:42:07.835Z"
   },
   {
    "duration": 25,
    "start_time": "2023-10-15T17:42:07.849Z"
   },
   {
    "duration": 39,
    "start_time": "2023-10-15T17:42:07.876Z"
   },
   {
    "duration": 62,
    "start_time": "2023-10-15T17:42:07.917Z"
   },
   {
    "duration": 36,
    "start_time": "2023-10-15T17:42:07.981Z"
   },
   {
    "duration": 35,
    "start_time": "2023-10-15T17:42:08.021Z"
   },
   {
    "duration": 127,
    "start_time": "2023-10-15T17:42:08.058Z"
   },
   {
    "duration": 6,
    "start_time": "2023-10-15T17:42:08.186Z"
   },
   {
    "duration": 67,
    "start_time": "2023-10-15T17:42:08.194Z"
   },
   {
    "duration": 21,
    "start_time": "2023-10-15T17:42:08.263Z"
   },
   {
    "duration": 10,
    "start_time": "2023-10-15T17:42:08.286Z"
   },
   {
    "duration": 33,
    "start_time": "2023-10-15T17:42:08.298Z"
   },
   {
    "duration": 57,
    "start_time": "2023-10-15T17:42:08.333Z"
   },
   {
    "duration": 53,
    "start_time": "2023-10-15T17:42:08.392Z"
   },
   {
    "duration": 33,
    "start_time": "2023-10-15T17:42:08.447Z"
   },
   {
    "duration": 25,
    "start_time": "2023-10-15T17:42:08.481Z"
   },
   {
    "duration": 18,
    "start_time": "2023-10-15T17:42:08.508Z"
   },
   {
    "duration": 17,
    "start_time": "2023-10-15T17:42:08.528Z"
   },
   {
    "duration": 16,
    "start_time": "2023-10-15T17:42:08.546Z"
   },
   {
    "duration": 23,
    "start_time": "2023-10-15T17:42:08.564Z"
   },
   {
    "duration": 12,
    "start_time": "2023-10-15T17:42:08.588Z"
   },
   {
    "duration": 28,
    "start_time": "2023-10-15T17:42:08.602Z"
   },
   {
    "duration": 56,
    "start_time": "2023-10-15T17:42:08.633Z"
   },
   {
    "duration": 13,
    "start_time": "2023-10-15T17:42:08.691Z"
   },
   {
    "duration": 38,
    "start_time": "2023-10-15T17:42:08.706Z"
   },
   {
    "duration": 59,
    "start_time": "2023-10-15T17:42:08.746Z"
   },
   {
    "duration": 61,
    "start_time": "2023-10-15T17:42:08.807Z"
   },
   {
    "duration": 32,
    "start_time": "2023-10-15T17:42:08.869Z"
   },
   {
    "duration": 18,
    "start_time": "2023-10-15T17:42:08.903Z"
   },
   {
    "duration": 55,
    "start_time": "2023-10-15T17:42:08.922Z"
   },
   {
    "duration": 28,
    "start_time": "2023-10-15T17:42:08.979Z"
   }
  ],
  "kernelspec": {
   "display_name": "Python 3 (ipykernel)",
   "language": "python",
   "name": "python3"
  },
  "language_info": {
   "codemirror_mode": {
    "name": "ipython",
    "version": 3
   },
   "file_extension": ".py",
   "mimetype": "text/x-python",
   "name": "python",
   "nbconvert_exporter": "python",
   "pygments_lexer": "ipython3",
   "version": "3.10.9"
  },
  "toc": {
   "base_numbering": 1,
   "nav_menu": {},
   "number_sections": true,
   "sideBar": true,
   "skip_h1_title": true,
   "title_cell": "Table of Contents",
   "title_sidebar": "Contents",
   "toc_cell": false,
   "toc_position": {},
   "toc_section_display": true,
   "toc_window_display": false
  }
 },
 "nbformat": 4,
 "nbformat_minor": 5
}
