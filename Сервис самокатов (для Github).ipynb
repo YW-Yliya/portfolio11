{
 "cells": [
  {
   "cell_type": "markdown",
   "id": "466d8b9c",
   "metadata": {},
   "source": [
    "# Проект: Статистический анализ данных\n",
    "\n",
    "\n",
    "Вы аналитик популярного сервиса аренды самокатов GoFast. Вам передали данные о некоторых пользователях из нескольких городов, а также об их поездках. Проанализируйте данные и проверьте некоторые гипотезы, которые могут помочь бизнесу вырасти.\n",
    "\n",
    "Чтобы совершать поездки по городу, пользователи сервиса GoFast пользуются мобильным приложением. Сервисом можно пользоваться:\n",
    "\n",
    "<b>без подписки</b>\n",
    "- абонентская плата отсутствует;\n",
    "- стоимость одной минуты поездки - 8 рублей;\n",
    "- стоимость старта (начала поездки) - 50 рублей;\n",
    "\n",
    "<b>с подпиской Ultra<b>\n",
    "- абонентская плата - 199 рублей в месяц;\n",
    "- стоимость одной минуты поездки - 6 рублей;\n",
    "- стоимость старта бесплатно.\n",
    "    \n",
    "В данном проекте необходимо проанализировать данные из популярного сервиса аренды самокатов GoFast. Основные данные собержатся в трех датафреймах: users_go.csv (данные о пользователях) в которых есть идентификатор пользователя, его имя, возраст, город и тип подписки;  rides_go.csv (данные о поездках) здесь помимо id пользователя содержится информация о расстоянии, которое проехал пользователь за сессию, продолжительность поездки и дата поездки; subscriptions_go.csv (данные по подписках) здесь тип подписки, стоимость одной минуты по подписке, стоимость начала поездки, стоимость ежедневного платежа по подписке.\n",
    "    \n",
    "<b>Цель исследования:<b>\n",
    "    \n",
    "- Проанализировать данные, расчитать выручку которую принесли пользователи по подписке и без нее. Проверить гипотезы такие как \"выгоднее поезки с подпиской или без нее\". Дать рекомендации о ток как наилучшим способом можно увеличить число пользователей с подпиской.\n",
    "    \n",
    "<b>Ход исследования:<b>\n",
    "    \n",
    "Загрузить данные из датафреймов и проверить их на пропуски и дубликаты, создать новые стобцы. Объеденить три датафрейма в один и на основе данного датафрейма создать новые с агрегированными данныи для дальнейшего исследования. Построить графики для иллюстрации данных. проверить гипотезу с помощью биноминарного распределения и нормальной аппроксимацией биноминарного распределения. \n",
    "    \n",
    "<b>Этапы исследования:<b> \n",
    "    \n",
    "1. Загрузить данные из файлов /datasets/users_go.csv, /datasets/rides_go.csv, /datasets/subscriptions_go.csv и изучить общую информацию.\n",
    "2. Выполнить предобработку данных на пропуски, дубликаты, привести данные в столбце с датой к типу даты pаndas, создать новый столбец с номером месяца.\n",
    "3. Описать и визуализировать общую информацию о пользователях и поездках.\n",
    "4. Объеденить данные из датафреймов и на его основе создать новые датафреймы с данными о пользователях с подпиский и без подписки.\n",
    "5. Подсчитать помесячную выручку по каждому пользователю.\n",
    "6. Проверить гипотезы.\n",
    "7. Сделать общий вывод"
   ]
  },
  {
   "cell_type": "code",
   "execution_count": 1,
   "id": "72576667",
   "metadata": {},
   "outputs": [],
   "source": [
    "import pandas as pd\n",
    "import matplotlib.pyplot as plt\n",
    "import numpy as np\n",
    "from scipy import stats as st\n",
    "from math import factorial"
   ]
  },
  {
   "cell_type": "markdown",
   "id": "c42cbe00",
   "metadata": {},
   "source": [
    "#### Шаг 1. Загрузка данных"
   ]
  },
  {
   "cell_type": "code",
   "execution_count": 2,
   "id": "eff9f206",
   "metadata": {},
   "outputs": [],
   "source": [
    "users = pd.read_csv('users_go.csv')\n",
    "rides = pd.read_csv('rides_go.csv')\n",
    "subscriptions = pd.read_csv('subscriptions_go.csv')"
   ]
  },
  {
   "cell_type": "code",
   "execution_count": 3,
   "id": "dec61180",
   "metadata": {},
   "outputs": [
    {
     "data": {
      "text/html": [
       "<div>\n",
       "<style scoped>\n",
       "    .dataframe tbody tr th:only-of-type {\n",
       "        vertical-align: middle;\n",
       "    }\n",
       "\n",
       "    .dataframe tbody tr th {\n",
       "        vertical-align: top;\n",
       "    }\n",
       "\n",
       "    .dataframe thead th {\n",
       "        text-align: right;\n",
       "    }\n",
       "</style>\n",
       "<table border=\"1\" class=\"dataframe\">\n",
       "  <thead>\n",
       "    <tr style=\"text-align: right;\">\n",
       "      <th></th>\n",
       "      <th>Unnamed: 0</th>\n",
       "      <th>user_id</th>\n",
       "      <th>name</th>\n",
       "      <th>age</th>\n",
       "      <th>city</th>\n",
       "      <th>subscription_type</th>\n",
       "    </tr>\n",
       "  </thead>\n",
       "  <tbody>\n",
       "    <tr>\n",
       "      <th>0</th>\n",
       "      <td>0</td>\n",
       "      <td>1</td>\n",
       "      <td>Кира</td>\n",
       "      <td>22</td>\n",
       "      <td>Тюмень</td>\n",
       "      <td>ultra</td>\n",
       "    </tr>\n",
       "    <tr>\n",
       "      <th>1</th>\n",
       "      <td>1</td>\n",
       "      <td>2</td>\n",
       "      <td>Станислав</td>\n",
       "      <td>31</td>\n",
       "      <td>Омск</td>\n",
       "      <td>ultra</td>\n",
       "    </tr>\n",
       "    <tr>\n",
       "      <th>2</th>\n",
       "      <td>2</td>\n",
       "      <td>3</td>\n",
       "      <td>Алексей</td>\n",
       "      <td>20</td>\n",
       "      <td>Москва</td>\n",
       "      <td>ultra</td>\n",
       "    </tr>\n",
       "    <tr>\n",
       "      <th>3</th>\n",
       "      <td>3</td>\n",
       "      <td>4</td>\n",
       "      <td>Константин</td>\n",
       "      <td>26</td>\n",
       "      <td>Ростов-на-Дону</td>\n",
       "      <td>ultra</td>\n",
       "    </tr>\n",
       "    <tr>\n",
       "      <th>4</th>\n",
       "      <td>4</td>\n",
       "      <td>5</td>\n",
       "      <td>Адель</td>\n",
       "      <td>28</td>\n",
       "      <td>Омск</td>\n",
       "      <td>ultra</td>\n",
       "    </tr>\n",
       "  </tbody>\n",
       "</table>\n",
       "</div>"
      ],
      "text/plain": [
       "   Unnamed: 0  user_id        name  age            city subscription_type\n",
       "0           0        1        Кира   22          Тюмень             ultra\n",
       "1           1        2   Станислав   31            Омск             ultra\n",
       "2           2        3     Алексей   20          Москва             ultra\n",
       "3           3        4  Константин   26  Ростов-на-Дону             ultra\n",
       "4           4        5       Адель   28            Омск             ultra"
      ]
     },
     "execution_count": 3,
     "metadata": {},
     "output_type": "execute_result"
    }
   ],
   "source": [
    "#познакомимся с общей информацией датафреймов:\n",
    "users.head() #пользователи"
   ]
  },
  {
   "cell_type": "code",
   "execution_count": 4,
   "id": "b9609d95",
   "metadata": {},
   "outputs": [
    {
     "data": {
      "text/html": [
       "<div>\n",
       "<style scoped>\n",
       "    .dataframe tbody tr th:only-of-type {\n",
       "        vertical-align: middle;\n",
       "    }\n",
       "\n",
       "    .dataframe tbody tr th {\n",
       "        vertical-align: top;\n",
       "    }\n",
       "\n",
       "    .dataframe thead th {\n",
       "        text-align: right;\n",
       "    }\n",
       "</style>\n",
       "<table border=\"1\" class=\"dataframe\">\n",
       "  <thead>\n",
       "    <tr style=\"text-align: right;\">\n",
       "      <th></th>\n",
       "      <th>Unnamed: 0</th>\n",
       "      <th>user_id</th>\n",
       "      <th>distance</th>\n",
       "      <th>duration</th>\n",
       "      <th>date</th>\n",
       "    </tr>\n",
       "  </thead>\n",
       "  <tbody>\n",
       "    <tr>\n",
       "      <th>0</th>\n",
       "      <td>0</td>\n",
       "      <td>1</td>\n",
       "      <td>4409.919140</td>\n",
       "      <td>25.599769</td>\n",
       "      <td>2021-01-01</td>\n",
       "    </tr>\n",
       "    <tr>\n",
       "      <th>1</th>\n",
       "      <td>1</td>\n",
       "      <td>1</td>\n",
       "      <td>2617.592153</td>\n",
       "      <td>15.816871</td>\n",
       "      <td>2021-01-18</td>\n",
       "    </tr>\n",
       "    <tr>\n",
       "      <th>2</th>\n",
       "      <td>2</td>\n",
       "      <td>1</td>\n",
       "      <td>754.159807</td>\n",
       "      <td>6.232113</td>\n",
       "      <td>2021-04-20</td>\n",
       "    </tr>\n",
       "    <tr>\n",
       "      <th>3</th>\n",
       "      <td>3</td>\n",
       "      <td>1</td>\n",
       "      <td>2694.783254</td>\n",
       "      <td>18.511000</td>\n",
       "      <td>2021-08-11</td>\n",
       "    </tr>\n",
       "    <tr>\n",
       "      <th>4</th>\n",
       "      <td>4</td>\n",
       "      <td>1</td>\n",
       "      <td>4028.687306</td>\n",
       "      <td>26.265803</td>\n",
       "      <td>2021-08-28</td>\n",
       "    </tr>\n",
       "  </tbody>\n",
       "</table>\n",
       "</div>"
      ],
      "text/plain": [
       "   Unnamed: 0  user_id     distance   duration        date\n",
       "0           0        1  4409.919140  25.599769  2021-01-01\n",
       "1           1        1  2617.592153  15.816871  2021-01-18\n",
       "2           2        1   754.159807   6.232113  2021-04-20\n",
       "3           3        1  2694.783254  18.511000  2021-08-11\n",
       "4           4        1  4028.687306  26.265803  2021-08-28"
      ]
     },
     "execution_count": 4,
     "metadata": {},
     "output_type": "execute_result"
    }
   ],
   "source": [
    "rides.head() #поездки"
   ]
  },
  {
   "cell_type": "code",
   "execution_count": 5,
   "id": "60e0900d",
   "metadata": {},
   "outputs": [
    {
     "data": {
      "text/html": [
       "<div>\n",
       "<style scoped>\n",
       "    .dataframe tbody tr th:only-of-type {\n",
       "        vertical-align: middle;\n",
       "    }\n",
       "\n",
       "    .dataframe tbody tr th {\n",
       "        vertical-align: top;\n",
       "    }\n",
       "\n",
       "    .dataframe thead th {\n",
       "        text-align: right;\n",
       "    }\n",
       "</style>\n",
       "<table border=\"1\" class=\"dataframe\">\n",
       "  <thead>\n",
       "    <tr style=\"text-align: right;\">\n",
       "      <th></th>\n",
       "      <th>Unnamed: 0</th>\n",
       "      <th>subscription_type</th>\n",
       "      <th>minute_price</th>\n",
       "      <th>start_ride_price</th>\n",
       "      <th>subscription_fee</th>\n",
       "    </tr>\n",
       "  </thead>\n",
       "  <tbody>\n",
       "    <tr>\n",
       "      <th>0</th>\n",
       "      <td>0</td>\n",
       "      <td>free</td>\n",
       "      <td>8</td>\n",
       "      <td>50</td>\n",
       "      <td>0</td>\n",
       "    </tr>\n",
       "    <tr>\n",
       "      <th>1</th>\n",
       "      <td>1</td>\n",
       "      <td>ultra</td>\n",
       "      <td>6</td>\n",
       "      <td>0</td>\n",
       "      <td>199</td>\n",
       "    </tr>\n",
       "  </tbody>\n",
       "</table>\n",
       "</div>"
      ],
      "text/plain": [
       "   Unnamed: 0 subscription_type  minute_price  start_ride_price  \\\n",
       "0           0              free             8                50   \n",
       "1           1             ultra             6                 0   \n",
       "\n",
       "   subscription_fee  \n",
       "0                 0  \n",
       "1               199  "
      ]
     },
     "execution_count": 5,
     "metadata": {},
     "output_type": "execute_result"
    }
   ],
   "source": [
    "subscriptions.head() #подписки"
   ]
  },
  {
   "cell_type": "code",
   "execution_count": 6,
   "id": "cba6142e",
   "metadata": {},
   "outputs": [
    {
     "name": "stdout",
     "output_type": "stream",
     "text": [
      "<class 'pandas.core.frame.DataFrame'>\n",
      "RangeIndex: 1565 entries, 0 to 1564\n",
      "Data columns (total 6 columns):\n",
      " #   Column             Non-Null Count  Dtype \n",
      "---  ------             --------------  ----- \n",
      " 0   Unnamed: 0         1565 non-null   int64 \n",
      " 1   user_id            1565 non-null   int64 \n",
      " 2   name               1565 non-null   object\n",
      " 3   age                1565 non-null   int64 \n",
      " 4   city               1565 non-null   object\n",
      " 5   subscription_type  1565 non-null   object\n",
      "dtypes: int64(3), object(3)\n",
      "memory usage: 73.5+ KB\n"
     ]
    }
   ],
   "source": [
    "users.info()"
   ]
  },
  {
   "cell_type": "code",
   "execution_count": 7,
   "id": "6730faa4",
   "metadata": {},
   "outputs": [
    {
     "name": "stdout",
     "output_type": "stream",
     "text": [
      "<class 'pandas.core.frame.DataFrame'>\n",
      "RangeIndex: 18068 entries, 0 to 18067\n",
      "Data columns (total 5 columns):\n",
      " #   Column      Non-Null Count  Dtype  \n",
      "---  ------      --------------  -----  \n",
      " 0   Unnamed: 0  18068 non-null  int64  \n",
      " 1   user_id     18068 non-null  int64  \n",
      " 2   distance    18068 non-null  float64\n",
      " 3   duration    18068 non-null  float64\n",
      " 4   date        18068 non-null  object \n",
      "dtypes: float64(2), int64(2), object(1)\n",
      "memory usage: 705.9+ KB\n"
     ]
    }
   ],
   "source": [
    "rides.info()"
   ]
  },
  {
   "cell_type": "code",
   "execution_count": 8,
   "id": "b38c393e",
   "metadata": {},
   "outputs": [
    {
     "name": "stdout",
     "output_type": "stream",
     "text": [
      "<class 'pandas.core.frame.DataFrame'>\n",
      "RangeIndex: 2 entries, 0 to 1\n",
      "Data columns (total 5 columns):\n",
      " #   Column             Non-Null Count  Dtype \n",
      "---  ------             --------------  ----- \n",
      " 0   Unnamed: 0         2 non-null      int64 \n",
      " 1   subscription_type  2 non-null      object\n",
      " 2   minute_price       2 non-null      int64 \n",
      " 3   start_ride_price   2 non-null      int64 \n",
      " 4   subscription_fee   2 non-null      int64 \n",
      "dtypes: int64(4), object(1)\n",
      "memory usage: 208.0+ bytes\n"
     ]
    }
   ],
   "source": [
    "subscriptions.info()"
   ]
  },
  {
   "cell_type": "markdown",
   "id": "6f3b9073",
   "metadata": {},
   "source": [
    "Итак, в первой таблице пять столбцов. Тип данных — `object`, `int64`.\n",
    "\n",
    "Согласно документации к данным:\n",
    "* `userID` — идентификатор пользователя;\n",
    "* `name` — имя пользователя;  \n",
    "* `age` — возраст;\n",
    "* `city` — город;\n",
    "* `subscripton_type` — тип подписки (free? ultra);\n",
    "\n",
    "во втророй таблице 4 столбца. Тип данных - `object`, `int64`.\n",
    "* `userID` — идентификатор пользователя;\n",
    "* `distance` — расстояние, которое пользователь проехал в текущей сессии (в метрах);  \n",
    "* `duration` — продолжительность сессии (в минутах) — время с того момента, как пользователь нажал кнопку «Начать поездку» до момента, как он нажал кнопку «Завершить поездку»;\n",
    "* `date` — дата совершения поездки;\n",
    "\n",
    "в третьей таблице 4 столбца. Тип данных - `object`, `int64`.\n",
    "* `subscription_type` — тип подписки;\n",
    "* `minute_price` — стоимость одной минуты поездки по данной подписке;  \n",
    "* `start_ride_price` — стоимость начала поездки;\n",
    "* `subscription_fee` — стоимость ежемесячного платежа;\n",
    "\n",
    "Количество значений в столбцах во всех таблицах не различаются. Предварительно можно утверждать, что, данных достаточно для проверки гипотез."
   ]
  },
  {
   "cell_type": "markdown",
   "id": "e95ebca7",
   "metadata": {},
   "source": [
    "#### Шаг 2. Предобработка данных"
   ]
  },
  {
   "cell_type": "code",
   "execution_count": 9,
   "id": "30e838df",
   "metadata": {},
   "outputs": [
    {
     "name": "stdout",
     "output_type": "stream",
     "text": [
      "[2021]\n"
     ]
    }
   ],
   "source": [
    "#изменим тип столбца date к типу даты pandas:\n",
    "rides['date'] = pd.to_datetime(rides['date'], format = '%Y-%m-%d')\n",
    "print(rides['date'].dt.year.unique())"
   ]
  },
  {
   "cell_type": "code",
   "execution_count": 10,
   "id": "64401ffc",
   "metadata": {},
   "outputs": [],
   "source": [
    "#создадим новый столбец month с номером месяца:\n",
    "rides['month'] = rides['date'].dt.month"
   ]
  },
  {
   "cell_type": "code",
   "execution_count": 11,
   "id": "5fb70dbf",
   "metadata": {},
   "outputs": [
    {
     "data": {
      "text/plain": [
       "Unnamed: 0           0\n",
       "user_id              0\n",
       "name                 0\n",
       "age                  0\n",
       "city                 0\n",
       "subscription_type    0\n",
       "dtype: int64"
      ]
     },
     "execution_count": 11,
     "metadata": {},
     "output_type": "execute_result"
    }
   ],
   "source": [
    "#проверим наличие пропущенных значений:\n",
    "users.isna().sum()"
   ]
  },
  {
   "cell_type": "code",
   "execution_count": 12,
   "id": "901c1a9c",
   "metadata": {},
   "outputs": [
    {
     "data": {
      "text/plain": [
       "Unnamed: 0    0\n",
       "user_id       0\n",
       "distance      0\n",
       "duration      0\n",
       "date          0\n",
       "month         0\n",
       "dtype: int64"
      ]
     },
     "execution_count": 12,
     "metadata": {},
     "output_type": "execute_result"
    }
   ],
   "source": [
    "rides.isna().sum()"
   ]
  },
  {
   "cell_type": "code",
   "execution_count": 13,
   "id": "af6d202c",
   "metadata": {},
   "outputs": [
    {
     "data": {
      "text/plain": [
       "Unnamed: 0           0\n",
       "subscription_type    0\n",
       "minute_price         0\n",
       "start_ride_price     0\n",
       "subscription_fee     0\n",
       "dtype: int64"
      ]
     },
     "execution_count": 13,
     "metadata": {},
     "output_type": "execute_result"
    }
   ],
   "source": [
    "subscriptions.isna().sum()"
   ]
  },
  {
   "cell_type": "code",
   "execution_count": 14,
   "id": "e10466fa",
   "metadata": {},
   "outputs": [
    {
     "data": {
      "text/plain": [
       "0"
      ]
     },
     "execution_count": 14,
     "metadata": {},
     "output_type": "execute_result"
    }
   ],
   "source": [
    "#проверим наличие дубликатов в датафреймах:\n",
    "users.duplicated().sum()"
   ]
  },
  {
   "cell_type": "code",
   "execution_count": 15,
   "id": "f3810b08",
   "metadata": {},
   "outputs": [
    {
     "data": {
      "text/plain": [
       "0"
      ]
     },
     "execution_count": 15,
     "metadata": {},
     "output_type": "execute_result"
    }
   ],
   "source": [
    "rides.duplicated().sum()"
   ]
  },
  {
   "cell_type": "code",
   "execution_count": 16,
   "id": "ba28cc39",
   "metadata": {},
   "outputs": [
    {
     "data": {
      "text/plain": [
       "0"
      ]
     },
     "execution_count": 16,
     "metadata": {},
     "output_type": "execute_result"
    }
   ],
   "source": [
    "subscriptions.duplicated().sum()"
   ]
  },
  {
   "cell_type": "code",
   "execution_count": 17,
   "id": "4306d1de",
   "metadata": {},
   "outputs": [
    {
     "name": "stdout",
     "output_type": "stream",
     "text": [
      "Index(['Unnamed: 0', 'user_id', 'name', 'age', 'city', 'subscription_type'], dtype='object')\n"
     ]
    },
    {
     "data": {
      "text/plain": [
       "0"
      ]
     },
     "execution_count": 17,
     "metadata": {},
     "output_type": "execute_result"
    }
   ],
   "source": [
    "#обработаем датафрейм users на присутствующие дубликаты:\n",
    "print(users.columns)\n",
    "users = users.drop_duplicates() #удаление явных дубликатов (с удалением старых индексов и формированием новых)\n",
    "users.duplicated().sum() #проверка на отсутствие дубликатов"
   ]
  },
  {
   "cell_type": "markdown",
   "id": "d8b1bf37",
   "metadata": {},
   "source": [
    "***В таблице с данными о пользователях обнарудилось 31 дубликат. Удалили все явные дубликаты.***"
   ]
  },
  {
   "cell_type": "markdown",
   "id": "1bb8bdf8",
   "metadata": {},
   "source": [
    "## Вывод\n",
    "\n",
    "Предобработка обнаружила одну проблему - явные дубликаты в таблице users. Все дубликаты пришлось удалить. Пропуски, во всех таблицах, не обнаружены. Перевела данные столбца с датой из таблицы rides к типу данных pandas, а также добавила столбец с месяцем. Данные впорядке с ними можно продолжать работать."
   ]
  },
  {
   "cell_type": "markdown",
   "id": "212593c7",
   "metadata": {},
   "source": [
    "#### Шаг 3. Исследовательский анализ данных"
   ]
  },
  {
   "cell_type": "code",
   "execution_count": 18,
   "id": "6f576768",
   "metadata": {},
   "outputs": [
    {
     "data": {
      "image/png": "[encoded data removed]",
      "text/plain": [
       "<Figure size 432x288 with 1 Axes>"
      ]
     },
     "metadata": {
      "needs_background": "light"
     },
     "output_type": "display_data"
    }
   ],
   "source": [
    "import seaborn as sns\n",
    "\n",
    "#создадим график для гастоты городов:\n",
    "users['city'].value_counts().plot.bar();\n",
    "plt.title('Частота встречаемости городов', fontsize=14, fontweight=\"bold\")\n",
    "plt.xlabel('город', fontsize=10, fontweight=\"bold\")\n",
    "plt.ylabel('число пользователей', fontsize=10, fontweight=\"bold\")\n",
    "plt.show();"
   ]
  },
  {
   "cell_type": "code",
   "execution_count": 19,
   "id": "c85526a6",
   "metadata": {},
   "outputs": [
    {
     "data": {
      "image/png": "[encoded data removed]",
      "text/plain": [
       "<Figure size 432x288 with 1 Axes>"
      ]
     },
     "metadata": {},
     "output_type": "display_data"
    }
   ],
   "source": [
    "#создадим круговую диаграмму для соотношения пользователей с подпиской и без:\n",
    "subscription_type = users.pivot_table(index='subscription_type', values='user_id')\n",
    "fig, ax = plt.subplots()\n",
    "colors = sns.color_palette('bright')[ 0:5 ]\n",
    "plt.pie(subscription_type['user_id'], labels = ['с подпиской', 'без подписки'], colors = colors, autopct='%.0f%%')\n",
    "plt.title('Соотношение пользователей с подпиской и без подписки', fontsize=14, fontweight=\"bold\")\n",
    "plt.show()"
   ]
  },
  {
   "cell_type": "code",
   "execution_count": 20,
   "id": "e3a4274c",
   "metadata": {},
   "outputs": [
    {
     "data": {
      "image/png": "[encoded data removed]",
      "text/plain": [
       "<Figure size 432x288 with 1 Axes>"
      ]
     },
     "metadata": {
      "needs_background": "light"
     },
     "output_type": "display_data"
    }
   ],
   "source": [
    "#создадим график возроста пользователей:\n",
    "age = users.pivot_table(index='age', values='user_id', aggfunc='count').plot.bar()\n",
    "plt.title('Возраст пользователей', fontsize=14, fontweight=\"bold\")\n",
    "plt.xlabel('возраст', fontsize=10, fontweight=\"bold\")\n",
    "plt.ylabel('число пользователей', fontsize=10, fontweight=\"bold\")\n",
    "plt.show()"
   ]
  },
  {
   "cell_type": "markdown",
   "id": "87a1ba6f",
   "metadata": {},
   "source": [
    "# Вывод\n",
    "\n",
    "Наибольшее число пользователей сервиса в Пятигорске, далее по убыванию в Екатеринбурге, Ростове на дону, Краснодаре, Сочи, Омск, Тюмень и Москва. Максимальное количество, всреднем 250 (Пятигорск) и минимальное 170 (Москва) пользователей.\n",
    "Подпиской есть лишь у 24%, а оствльные 76% пользователей подписки не имеют. Самые часто встречающиеся пользователи в возрасте от 22 до 28 лет. Больше всего 25 летних в среднем 145."
   ]
  },
  {
   "cell_type": "code",
   "execution_count": 21,
   "id": "c5279a20",
   "metadata": {},
   "outputs": [
    {
     "data": {
      "image/png": "[encoded data removed]",
      "text/plain": [
       "<Figure size 432x288 with 1 Axes>"
      ]
     },
     "metadata": {
      "needs_background": "light"
     },
     "output_type": "display_data"
    },
    {
     "data": {
      "text/plain": [
       "user_id\n",
       "1236       27\n",
       "783        26\n",
       "1063       26\n",
       "1204       24\n",
       "1149       23\n",
       "           ..\n",
       "354         3\n",
       "139         3\n",
       "567         3\n",
       "342         2\n",
       "366         2\n",
       "Length: 1534, dtype: int64"
      ]
     },
     "execution_count": 21,
     "metadata": {},
     "output_type": "execute_result"
    }
   ],
   "source": [
    "distance = rides.pivot_table(index='distance', values='user_id')\n",
    "rides.plot(y='distance', kind='hist', bins=100)\n",
    "plt.title('Расстояние за одну поездку', fontsize=14, fontweight=\"bold\")\n",
    "plt.xlabel('расстояние в метрах', fontsize=10, fontweight=\"bold\")\n",
    "plt.ylabel('число пользователей', fontsize=10, fontweight=\"bold\")\n",
    "plt.show()\n",
    "\n",
    "distance.value_counts()"
   ]
  },
  {
   "cell_type": "code",
   "execution_count": 22,
   "id": "a67e59f4",
   "metadata": {},
   "outputs": [
    {
     "name": "stdout",
     "output_type": "stream",
     "text": [
      "          duration\n",
      "user_id           \n",
      "1534     18.153846\n",
      "1533     18.923077\n",
      "1532     16.923077\n",
      "1531     18.217391\n",
      "1530     17.705882\n",
      "...            ...\n",
      "5        16.363636\n",
      "4        20.928571\n",
      "3        19.916667\n",
      "2        18.454545\n",
      "1        17.583333\n",
      "\n",
      "[1534 rows x 1 columns]\n"
     ]
    },
    {
     "data": {
      "image/png": "[encoded data removed]",
      "text/plain": [
       "<Figure size 432x288 with 1 Axes>"
      ]
     },
     "metadata": {
      "needs_background": "light"
     },
     "output_type": "display_data"
    },
    {
     "data": {
      "text/plain": [
       "duration \n",
       "19.000000    29\n",
       "18.000000    27\n",
       "17.000000    24\n",
       "20.000000    17\n",
       "21.000000    15\n",
       "             ..\n",
       "17.423077     1\n",
       "17.411765     1\n",
       "17.409091     1\n",
       "17.384615     1\n",
       "26.600000     1\n",
       "Length: 618, dtype: int64"
      ]
     },
     "execution_count": 22,
     "metadata": {},
     "output_type": "execute_result"
    },
    {
     "data": {
      "image/png": "[encoded data removed]",
      "text/plain": [
       "<Figure size 432x288 with 1 Axes>"
      ]
     },
     "metadata": {
      "needs_background": "light"
     },
     "output_type": "display_data"
    }
   ],
   "source": [
    "rides['duration'] = np.ceil(rides['duration'])\n",
    "duration = rides.pivot_table(index='user_id', values='duration')\n",
    "print(duration.sort_values(by='user_id', ascending=False))\n",
    "rides.plot(y='duration', kind='hist', bins=40);\n",
    "plt.title('Продолжительность поездок', fontsize=14, fontweight=\"bold\")\n",
    "plt.xlabel('продолжительность поездки в минутах', fontsize=10, fontweight=\"bold\")\n",
    "plt.ylabel('число пользователей', fontsize=10, fontweight=\"bold\")\n",
    "plt.show()\n",
    "ax = rides['duration'].plot.box();\n",
    "plt.title('Диаграмма размаха', fontsize=14, fontweight=\"bold\")\n",
    "duration.value_counts()"
   ]
  },
  {
   "cell_type": "markdown",
   "id": "b1725aaf",
   "metadata": {},
   "source": [
    "## Вывод\n",
    "\n",
    "График показывает нормальное распределение, значит данные впорядке но замечены выбросы. Самый явный выброс около 0, это можно объяснить тем, что некоторые люди желая воспользоваться самокатом включили программу, но его заряд оказался критически малым, или необходиой суммы на счету не хватило, или попросту программа для проката оказалась для них слишком сложна... По диаграмме размаха этот выброс более показателе, а также выдны выбросы выше 35. Все выбросы сравнительно небольшие убирать их не будем. "
   ]
  },
  {
   "cell_type": "markdown",
   "id": "4ef51331",
   "metadata": {},
   "source": [
    "#### Шаг 4. Объединение данных"
   ]
  },
  {
   "cell_type": "code",
   "execution_count": 23,
   "id": "a65370e3",
   "metadata": {},
   "outputs": [
    {
     "data": {
      "text/plain": [
       "(1565, 6)"
      ]
     },
     "execution_count": 23,
     "metadata": {},
     "output_type": "execute_result"
    }
   ],
   "source": [
    "#проверим размер датасетов которые ходим объеденить:\n",
    "users.shape"
   ]
  },
  {
   "cell_type": "code",
   "execution_count": 24,
   "id": "79b99f76",
   "metadata": {},
   "outputs": [
    {
     "data": {
      "text/plain": [
       "(18068, 6)"
      ]
     },
     "execution_count": 24,
     "metadata": {},
     "output_type": "execute_result"
    }
   ],
   "source": [
    "rides.shape"
   ]
  },
  {
   "cell_type": "code",
   "execution_count": 25,
   "id": "65da9fc6",
   "metadata": {},
   "outputs": [
    {
     "data": {
      "text/plain": [
       "(2, 5)"
      ]
     },
     "execution_count": 25,
     "metadata": {},
     "output_type": "execute_result"
    }
   ],
   "source": [
    "subscriptions.shape"
   ]
  },
  {
   "cell_type": "code",
   "execution_count": 26,
   "id": "0befc981",
   "metadata": {},
   "outputs": [
    {
     "data": {
      "text/html": [
       "<div>\n",
       "<style scoped>\n",
       "    .dataframe tbody tr th:only-of-type {\n",
       "        vertical-align: middle;\n",
       "    }\n",
       "\n",
       "    .dataframe tbody tr th {\n",
       "        vertical-align: top;\n",
       "    }\n",
       "\n",
       "    .dataframe thead th {\n",
       "        text-align: right;\n",
       "    }\n",
       "</style>\n",
       "<table border=\"1\" class=\"dataframe\">\n",
       "  <thead>\n",
       "    <tr style=\"text-align: right;\">\n",
       "      <th></th>\n",
       "      <th>Unnamed: 0_x</th>\n",
       "      <th>user_id</th>\n",
       "      <th>name</th>\n",
       "      <th>age</th>\n",
       "      <th>city</th>\n",
       "      <th>subscription_type</th>\n",
       "      <th>Unnamed: 0_y</th>\n",
       "      <th>distance</th>\n",
       "      <th>duration</th>\n",
       "      <th>date</th>\n",
       "      <th>month</th>\n",
       "      <th>Unnamed: 0</th>\n",
       "      <th>minute_price</th>\n",
       "      <th>start_ride_price</th>\n",
       "      <th>subscription_fee</th>\n",
       "    </tr>\n",
       "  </thead>\n",
       "  <tbody>\n",
       "    <tr>\n",
       "      <th>18383</th>\n",
       "      <td>698</td>\n",
       "      <td>699</td>\n",
       "      <td>Оксана</td>\n",
       "      <td>22</td>\n",
       "      <td>Москва</td>\n",
       "      <td>ultra</td>\n",
       "      <td>6495</td>\n",
       "      <td>3973.046497</td>\n",
       "      <td>25.0</td>\n",
       "      <td>2021-08-29</td>\n",
       "      <td>8</td>\n",
       "      <td>1</td>\n",
       "      <td>6</td>\n",
       "      <td>0</td>\n",
       "      <td>199</td>\n",
       "    </tr>\n",
       "    <tr>\n",
       "      <th>18384</th>\n",
       "      <td>698</td>\n",
       "      <td>699</td>\n",
       "      <td>Оксана</td>\n",
       "      <td>22</td>\n",
       "      <td>Москва</td>\n",
       "      <td>ultra</td>\n",
       "      <td>6496</td>\n",
       "      <td>3288.702563</td>\n",
       "      <td>16.0</td>\n",
       "      <td>2021-09-12</td>\n",
       "      <td>9</td>\n",
       "      <td>1</td>\n",
       "      <td>6</td>\n",
       "      <td>0</td>\n",
       "      <td>199</td>\n",
       "    </tr>\n",
       "    <tr>\n",
       "      <th>18385</th>\n",
       "      <td>698</td>\n",
       "      <td>699</td>\n",
       "      <td>Оксана</td>\n",
       "      <td>22</td>\n",
       "      <td>Москва</td>\n",
       "      <td>ultra</td>\n",
       "      <td>6497</td>\n",
       "      <td>3076.159348</td>\n",
       "      <td>15.0</td>\n",
       "      <td>2021-09-26</td>\n",
       "      <td>9</td>\n",
       "      <td>1</td>\n",
       "      <td>6</td>\n",
       "      <td>0</td>\n",
       "      <td>199</td>\n",
       "    </tr>\n",
       "    <tr>\n",
       "      <th>18386</th>\n",
       "      <td>698</td>\n",
       "      <td>699</td>\n",
       "      <td>Оксана</td>\n",
       "      <td>22</td>\n",
       "      <td>Москва</td>\n",
       "      <td>ultra</td>\n",
       "      <td>6498</td>\n",
       "      <td>4707.845501</td>\n",
       "      <td>16.0</td>\n",
       "      <td>2021-10-17</td>\n",
       "      <td>10</td>\n",
       "      <td>1</td>\n",
       "      <td>6</td>\n",
       "      <td>0</td>\n",
       "      <td>199</td>\n",
       "    </tr>\n",
       "    <tr>\n",
       "      <th>18387</th>\n",
       "      <td>698</td>\n",
       "      <td>699</td>\n",
       "      <td>Оксана</td>\n",
       "      <td>22</td>\n",
       "      <td>Москва</td>\n",
       "      <td>ultra</td>\n",
       "      <td>6499</td>\n",
       "      <td>3202.890770</td>\n",
       "      <td>26.0</td>\n",
       "      <td>2021-12-03</td>\n",
       "      <td>12</td>\n",
       "      <td>1</td>\n",
       "      <td>6</td>\n",
       "      <td>0</td>\n",
       "      <td>199</td>\n",
       "    </tr>\n",
       "  </tbody>\n",
       "</table>\n",
       "</div>"
      ],
      "text/plain": [
       "       Unnamed: 0_x  user_id    name  age    city subscription_type  \\\n",
       "18383           698      699  Оксана   22  Москва             ultra   \n",
       "18384           698      699  Оксана   22  Москва             ultra   \n",
       "18385           698      699  Оксана   22  Москва             ultra   \n",
       "18386           698      699  Оксана   22  Москва             ultra   \n",
       "18387           698      699  Оксана   22  Москва             ultra   \n",
       "\n",
       "       Unnamed: 0_y     distance  duration       date  month  Unnamed: 0  \\\n",
       "18383          6495  3973.046497      25.0 2021-08-29      8           1   \n",
       "18384          6496  3288.702563      16.0 2021-09-12      9           1   \n",
       "18385          6497  3076.159348      15.0 2021-09-26      9           1   \n",
       "18386          6498  4707.845501      16.0 2021-10-17     10           1   \n",
       "18387          6499  3202.890770      26.0 2021-12-03     12           1   \n",
       "\n",
       "       minute_price  start_ride_price  subscription_fee  \n",
       "18383             6                 0               199  \n",
       "18384             6                 0               199  \n",
       "18385             6                 0               199  \n",
       "18386             6                 0               199  \n",
       "18387             6                 0               199  "
      ]
     },
     "metadata": {},
     "output_type": "display_data"
    }
   ],
   "source": [
    "#воспользуемся методом merge() для объединения:\n",
    "data = users.merge(rides, on='user_id', how='right')\n",
    "data = data.merge(subscriptions, on='subscription_type', how='right')\n",
    "# объединили данные из трёх датафреймов\n",
    "display(data.tail())"
   ]
  },
  {
   "cell_type": "code",
   "execution_count": 27,
   "id": "03bfd549",
   "metadata": {},
   "outputs": [
    {
     "data": {
      "text/html": [
       "<div>\n",
       "<style scoped>\n",
       "    .dataframe tbody tr th:only-of-type {\n",
       "        vertical-align: middle;\n",
       "    }\n",
       "\n",
       "    .dataframe tbody tr th {\n",
       "        vertical-align: top;\n",
       "    }\n",
       "\n",
       "    .dataframe thead th {\n",
       "        text-align: right;\n",
       "    }\n",
       "</style>\n",
       "<table border=\"1\" class=\"dataframe\">\n",
       "  <thead>\n",
       "    <tr style=\"text-align: right;\">\n",
       "      <th></th>\n",
       "      <th>Unnamed: 0_x</th>\n",
       "      <th>user_id</th>\n",
       "      <th>age</th>\n",
       "      <th>Unnamed: 0_y</th>\n",
       "      <th>distance</th>\n",
       "      <th>duration</th>\n",
       "      <th>month</th>\n",
       "      <th>Unnamed: 0</th>\n",
       "      <th>minute_price</th>\n",
       "      <th>start_ride_price</th>\n",
       "      <th>subscription_fee</th>\n",
       "    </tr>\n",
       "  </thead>\n",
       "  <tbody>\n",
       "    <tr>\n",
       "      <th>count</th>\n",
       "      <td>18388.000000</td>\n",
       "      <td>18388.000000</td>\n",
       "      <td>18388.000000</td>\n",
       "      <td>18388.000000</td>\n",
       "      <td>18388.000000</td>\n",
       "      <td>18388.000000</td>\n",
       "      <td>18388.000000</td>\n",
       "      <td>18388.000000</td>\n",
       "      <td>18388.000000</td>\n",
       "      <td>18388.000000</td>\n",
       "      <td>18388.000000</td>\n",
       "    </tr>\n",
       "    <tr>\n",
       "      <th>mean</th>\n",
       "      <td>854.171851</td>\n",
       "      <td>839.017946</td>\n",
       "      <td>24.904775</td>\n",
       "      <td>8987.777844</td>\n",
       "      <td>3070.784675</td>\n",
       "      <td>18.305308</td>\n",
       "      <td>6.489395</td>\n",
       "      <td>0.362845</td>\n",
       "      <td>7.274309</td>\n",
       "      <td>31.857733</td>\n",
       "      <td>72.206221</td>\n",
       "    </tr>\n",
       "    <tr>\n",
       "      <th>std</th>\n",
       "      <td>440.739877</td>\n",
       "      <td>435.286472</td>\n",
       "      <td>4.566414</td>\n",
       "      <td>5216.854879</td>\n",
       "      <td>1115.665502</td>\n",
       "      <td>6.091969</td>\n",
       "      <td>3.436572</td>\n",
       "      <td>0.480834</td>\n",
       "      <td>0.961668</td>\n",
       "      <td>24.041691</td>\n",
       "      <td>95.685932</td>\n",
       "    </tr>\n",
       "    <tr>\n",
       "      <th>min</th>\n",
       "      <td>0.000000</td>\n",
       "      <td>1.000000</td>\n",
       "      <td>12.000000</td>\n",
       "      <td>0.000000</td>\n",
       "      <td>0.855683</td>\n",
       "      <td>1.000000</td>\n",
       "      <td>1.000000</td>\n",
       "      <td>0.000000</td>\n",
       "      <td>6.000000</td>\n",
       "      <td>0.000000</td>\n",
       "      <td>0.000000</td>\n",
       "    </tr>\n",
       "    <tr>\n",
       "      <th>25%</th>\n",
       "      <td>495.000000</td>\n",
       "      <td>480.750000</td>\n",
       "      <td>22.000000</td>\n",
       "      <td>4459.750000</td>\n",
       "      <td>2544.865262</td>\n",
       "      <td>14.000000</td>\n",
       "      <td>4.000000</td>\n",
       "      <td>0.000000</td>\n",
       "      <td>6.000000</td>\n",
       "      <td>0.000000</td>\n",
       "      <td>0.000000</td>\n",
       "    </tr>\n",
       "    <tr>\n",
       "      <th>50%</th>\n",
       "      <td>900.000000</td>\n",
       "      <td>885.000000</td>\n",
       "      <td>25.000000</td>\n",
       "      <td>8982.500000</td>\n",
       "      <td>3134.506980</td>\n",
       "      <td>18.000000</td>\n",
       "      <td>6.000000</td>\n",
       "      <td>0.000000</td>\n",
       "      <td>8.000000</td>\n",
       "      <td>50.000000</td>\n",
       "      <td>0.000000</td>\n",
       "    </tr>\n",
       "    <tr>\n",
       "      <th>75%</th>\n",
       "      <td>1229.000000</td>\n",
       "      <td>1211.000000</td>\n",
       "      <td>28.000000</td>\n",
       "      <td>13506.250000</td>\n",
       "      <td>3774.408076</td>\n",
       "      <td>22.000000</td>\n",
       "      <td>9.000000</td>\n",
       "      <td>1.000000</td>\n",
       "      <td>8.000000</td>\n",
       "      <td>50.000000</td>\n",
       "      <td>199.000000</td>\n",
       "    </tr>\n",
       "    <tr>\n",
       "      <th>max</th>\n",
       "      <td>1564.000000</td>\n",
       "      <td>1534.000000</td>\n",
       "      <td>43.000000</td>\n",
       "      <td>18067.000000</td>\n",
       "      <td>7211.007745</td>\n",
       "      <td>41.000000</td>\n",
       "      <td>12.000000</td>\n",
       "      <td>1.000000</td>\n",
       "      <td>8.000000</td>\n",
       "      <td>50.000000</td>\n",
       "      <td>199.000000</td>\n",
       "    </tr>\n",
       "  </tbody>\n",
       "</table>\n",
       "</div>"
      ],
      "text/plain": [
       "       Unnamed: 0_x       user_id           age  Unnamed: 0_y      distance  \\\n",
       "count  18388.000000  18388.000000  18388.000000  18388.000000  18388.000000   \n",
       "mean     854.171851    839.017946     24.904775   8987.777844   3070.784675   \n",
       "std      440.739877    435.286472      4.566414   5216.854879   1115.665502   \n",
       "min        0.000000      1.000000     12.000000      0.000000      0.855683   \n",
       "25%      495.000000    480.750000     22.000000   4459.750000   2544.865262   \n",
       "50%      900.000000    885.000000     25.000000   8982.500000   3134.506980   \n",
       "75%     1229.000000   1211.000000     28.000000  13506.250000   3774.408076   \n",
       "max     1564.000000   1534.000000     43.000000  18067.000000   7211.007745   \n",
       "\n",
       "           duration         month    Unnamed: 0  minute_price  \\\n",
       "count  18388.000000  18388.000000  18388.000000  18388.000000   \n",
       "mean      18.305308      6.489395      0.362845      7.274309   \n",
       "std        6.091969      3.436572      0.480834      0.961668   \n",
       "min        1.000000      1.000000      0.000000      6.000000   \n",
       "25%       14.000000      4.000000      0.000000      6.000000   \n",
       "50%       18.000000      6.000000      0.000000      8.000000   \n",
       "75%       22.000000      9.000000      1.000000      8.000000   \n",
       "max       41.000000     12.000000      1.000000      8.000000   \n",
       "\n",
       "       start_ride_price  subscription_fee  \n",
       "count      18388.000000      18388.000000  \n",
       "mean          31.857733         72.206221  \n",
       "std           24.041691         95.685932  \n",
       "min            0.000000          0.000000  \n",
       "25%            0.000000          0.000000  \n",
       "50%           50.000000          0.000000  \n",
       "75%           50.000000        199.000000  \n",
       "max           50.000000        199.000000  "
      ]
     },
     "execution_count": 27,
     "metadata": {},
     "output_type": "execute_result"
    }
   ],
   "source": [
    "#проверим основные характеристики новой таблицы\n",
    "data.describe()"
   ]
  },
  {
   "cell_type": "code",
   "execution_count": 28,
   "id": "6d6660c5",
   "metadata": {},
   "outputs": [],
   "source": [
    "#создадим переменную с данными о пользователях без подписки\n",
    "type_free = data.query('subscription_type == \"free\"') \n",
    "#создадим переменную с данными о пользователях с подпиской\n",
    "type_ultra = data.query('subscription_type == \"ultra\"')"
   ]
  },
  {
   "cell_type": "code",
   "execution_count": 29,
   "id": "44a6cf8b",
   "metadata": {},
   "outputs": [
    {
     "data": {
      "image/png": "[encoded data removed]",
      "text/plain": [
       "<Figure size 432x288 with 2 Axes>"
      ]
     },
     "metadata": {
      "needs_background": "light"
     },
     "output_type": "display_data"
    }
   ],
   "source": [
    "#создадим график зависимости для пользователей без подписки:\n",
    "type_free.sort_values(by='distance').plot(x='distance', y='duration', kind='hexbin', gridsize=15, sharex=False)\n",
    "plt.title('зависимость времени поездок от расстояния без подписки', fontsize=14, fontweight=\"bold\")\n",
    "plt.xlabel('расстояние', fontsize=10, fontweight=\"bold\")\n",
    "plt.ylabel('продолжительность', fontsize=10, fontweight=\"bold\")\n",
    "plt.show()"
   ]
  },
  {
   "cell_type": "code",
   "execution_count": 30,
   "id": "6bf288b5",
   "metadata": {},
   "outputs": [
    {
     "data": {
      "image/png": "[encoded data removed]",
      "text/plain": [
       "<Figure size 432x288 with 2 Axes>"
      ]
     },
     "metadata": {
      "needs_background": "light"
     },
     "output_type": "display_data"
    }
   ],
   "source": [
    "type_ultra.sort_values(by='distance').plot(x='distance', y='duration', kind='hexbin', gridsize=15, sharex=False)\n",
    "plt.title('зависимость времени поездок от расстояния с подпиской', fontsize=14, fontweight=\"bold\")\n",
    "plt.xlabel('расстояние', fontsize=10, fontweight=\"bold\")\n",
    "plt.ylabel('продолжительность', fontsize=10, fontweight=\"bold\")\n",
    "plt.show()"
   ]
  },
  {
   "cell_type": "code",
   "execution_count": 31,
   "id": "cc32a23c",
   "metadata": {},
   "outputs": [
    {
     "data": {
      "image/png": "[encoded data removed]",
      "text/plain": [
       "<Figure size 432x288 with 1 Axes>"
      ]
     },
     "metadata": {
      "needs_background": "light"
     },
     "output_type": "display_data"
    },
    {
     "data": {
      "image/png": "[encoded data removed]",
      "text/plain": [
       "<Figure size 432x288 with 1 Axes>"
      ]
     },
     "metadata": {
      "needs_background": "light"
     },
     "output_type": "display_data"
    }
   ],
   "source": [
    "#type_free.plot(y='distance', kind='hist', bins=50, figsize=(10, 8))\n",
    "#plt.show()\n",
    "#type_ultra.plot(y='distance', kind='hist', bins=50, figsize=(10, 8))\n",
    "#plt.show()\n",
    "#type_free.plot(y='duration', kind='hist', bins=50, figsize=(10, 8))\n",
    "#plt.show()\n",
    "#type_ultra.plot(y='duration', kind='hist', bins=50, figsize=(10, 8))\n",
    "#plt.show()\n",
    "ax = type_free.plot(kind='hist', y='distance', histtype='step', range=(0,7000), bins=25, linewidth=5, alpha=0.7, label='free',)\n",
    "type_ultra.plot(\n",
    "    kind='hist',\n",
    "    y='distance',\n",
    "    histtype='step',\n",
    "    range=(0,7000),\n",
    "    bins=25,\n",
    "    linewidth=5,\n",
    "    alpha=0.7,\n",
    "    label='ultra',\n",
    "    ax=ax,\n",
    "    grid=True,\n",
    "    legend=True,\n",
    ")\n",
    "plt.title('Данные о расстоянии для двух категорий', fontsize=14, fontweight=\"bold\")\n",
    "plt.xlabel('расстояние', fontsize=10, fontweight=\"bold\")\n",
    "plt.ylabel('количество пользователей', fontsize=10, fontweight=\"bold\")\n",
    "plt.show()\n",
    "ax = type_free.plot(kind='hist', y='duration', histtype='step', range=(0,40), bins=20, linewidth=5, alpha=0.7, label='free',)\n",
    "type_ultra.plot(\n",
    "    kind='hist',\n",
    "    y='duration',\n",
    "    histtype='step',\n",
    "    range=(0,40),\n",
    "    bins=20,\n",
    "    linewidth=5,\n",
    "    alpha=0.7,\n",
    "    label='ultra',\n",
    "    ax=ax,\n",
    "    grid=True,\n",
    "    legend=True,\n",
    ")\n",
    "plt.title('Данные о времени поездок для двух категорий', fontsize=14, fontweight=\"bold\")\n",
    "plt.xlabel('продолжительность поездок', fontsize=10, fontweight=\"bold\")\n",
    "plt.ylabel('количество пользователей', fontsize=10, fontweight=\"bold\")\n",
    "plt.show()"
   ]
  },
  {
   "cell_type": "markdown",
   "id": "d7df67d0",
   "metadata": {},
   "source": [
    "## Вывод\n",
    "\n",
    "Время поездки зависит от дистанции это очевидно по первым двум графикам. Для категрии пользователей без подписки группа ячеек больше чем для подписок, а также она немного ближе к меньшим значениям дистанции. Расстояния которые преодолевают пользователи с подпиской, их более 1200, в среднем от 2700 до 3300 метров. Пользователи без подписки проезжают в основном от 2200 до 3300 метров, диапазон шире, но и меньше по количеству от 1000 до 1100. А время на поездки они затрачивают одинаковое, хотя по количеству пользователей с подпиской, в одних и техде пределах времени, их на 500 меньше, чем без подписки. Это вполне объяснимо так как по общему числу подписку имеют почти в три раза меньше пользователей сервиса. "
   ]
  },
  {
   "cell_type": "markdown",
   "id": "402d620f",
   "metadata": {},
   "source": [
    "#### Шаг 5. Подсчёт выручки"
   ]
  },
  {
   "cell_type": "code",
   "execution_count": 32,
   "id": "53049e0a",
   "metadata": {},
   "outputs": [
    {
     "data": {
      "text/html": [
       "<div>\n",
       "<style scoped>\n",
       "    .dataframe tbody tr th:only-of-type {\n",
       "        vertical-align: middle;\n",
       "    }\n",
       "\n",
       "    .dataframe tbody tr th {\n",
       "        vertical-align: top;\n",
       "    }\n",
       "\n",
       "    .dataframe thead tr th {\n",
       "        text-align: left;\n",
       "    }\n",
       "\n",
       "    .dataframe thead tr:last-of-type th {\n",
       "        text-align: right;\n",
       "    }\n",
       "</style>\n",
       "<table border=\"1\" class=\"dataframe\">\n",
       "  <thead>\n",
       "    <tr>\n",
       "      <th></th>\n",
       "      <th></th>\n",
       "      <th colspan=\"2\" halign=\"left\">distance</th>\n",
       "      <th>duration</th>\n",
       "      <th>minute_price</th>\n",
       "      <th>start_ride_price</th>\n",
       "      <th>subscription_fee</th>\n",
       "      <th>proceeds</th>\n",
       "    </tr>\n",
       "    <tr>\n",
       "      <th></th>\n",
       "      <th></th>\n",
       "      <th>sum</th>\n",
       "      <th>count</th>\n",
       "      <th>sum</th>\n",
       "      <th>first</th>\n",
       "      <th>first</th>\n",
       "      <th>first</th>\n",
       "      <th></th>\n",
       "    </tr>\n",
       "    <tr>\n",
       "      <th>user_id</th>\n",
       "      <th>month</th>\n",
       "      <th></th>\n",
       "      <th></th>\n",
       "      <th></th>\n",
       "      <th></th>\n",
       "      <th></th>\n",
       "      <th></th>\n",
       "      <th></th>\n",
       "    </tr>\n",
       "  </thead>\n",
       "  <tbody>\n",
       "    <tr>\n",
       "      <th rowspan=\"5\" valign=\"top\">1</th>\n",
       "      <th>1</th>\n",
       "      <td>7027.511294</td>\n",
       "      <td>2</td>\n",
       "      <td>42.0</td>\n",
       "      <td>6</td>\n",
       "      <td>0</td>\n",
       "      <td>199</td>\n",
       "      <td>451.0</td>\n",
       "    </tr>\n",
       "    <tr>\n",
       "      <th>4</th>\n",
       "      <td>754.159807</td>\n",
       "      <td>1</td>\n",
       "      <td>7.0</td>\n",
       "      <td>6</td>\n",
       "      <td>0</td>\n",
       "      <td>199</td>\n",
       "      <td>241.0</td>\n",
       "    </tr>\n",
       "    <tr>\n",
       "      <th>8</th>\n",
       "      <td>6723.470560</td>\n",
       "      <td>2</td>\n",
       "      <td>46.0</td>\n",
       "      <td>6</td>\n",
       "      <td>0</td>\n",
       "      <td>199</td>\n",
       "      <td>475.0</td>\n",
       "    </tr>\n",
       "    <tr>\n",
       "      <th>10</th>\n",
       "      <td>5809.911100</td>\n",
       "      <td>2</td>\n",
       "      <td>32.0</td>\n",
       "      <td>6</td>\n",
       "      <td>0</td>\n",
       "      <td>199</td>\n",
       "      <td>391.0</td>\n",
       "    </tr>\n",
       "    <tr>\n",
       "      <th>11</th>\n",
       "      <td>7003.499363</td>\n",
       "      <td>3</td>\n",
       "      <td>56.0</td>\n",
       "      <td>6</td>\n",
       "      <td>0</td>\n",
       "      <td>199</td>\n",
       "      <td>535.0</td>\n",
       "    </tr>\n",
       "    <tr>\n",
       "      <th>...</th>\n",
       "      <th>...</th>\n",
       "      <td>...</td>\n",
       "      <td>...</td>\n",
       "      <td>...</td>\n",
       "      <td>...</td>\n",
       "      <td>...</td>\n",
       "      <td>...</td>\n",
       "      <td>...</td>\n",
       "    </tr>\n",
       "    <tr>\n",
       "      <th rowspan=\"5\" valign=\"top\">1534</th>\n",
       "      <th>6</th>\n",
       "      <td>3409.468534</td>\n",
       "      <td>2</td>\n",
       "      <td>26.0</td>\n",
       "      <td>8</td>\n",
       "      <td>50</td>\n",
       "      <td>0</td>\n",
       "      <td>308.0</td>\n",
       "    </tr>\n",
       "    <tr>\n",
       "      <th>8</th>\n",
       "      <td>7622.453034</td>\n",
       "      <td>2</td>\n",
       "      <td>48.0</td>\n",
       "      <td>8</td>\n",
       "      <td>50</td>\n",
       "      <td>0</td>\n",
       "      <td>484.0</td>\n",
       "    </tr>\n",
       "    <tr>\n",
       "      <th>9</th>\n",
       "      <td>4928.173852</td>\n",
       "      <td>1</td>\n",
       "      <td>23.0</td>\n",
       "      <td>8</td>\n",
       "      <td>50</td>\n",
       "      <td>0</td>\n",
       "      <td>234.0</td>\n",
       "    </tr>\n",
       "    <tr>\n",
       "      <th>11</th>\n",
       "      <td>13350.015305</td>\n",
       "      <td>4</td>\n",
       "      <td>78.0</td>\n",
       "      <td>8</td>\n",
       "      <td>50</td>\n",
       "      <td>0</td>\n",
       "      <td>824.0</td>\n",
       "    </tr>\n",
       "    <tr>\n",
       "      <th>12</th>\n",
       "      <td>2371.711192</td>\n",
       "      <td>1</td>\n",
       "      <td>16.0</td>\n",
       "      <td>8</td>\n",
       "      <td>50</td>\n",
       "      <td>0</td>\n",
       "      <td>178.0</td>\n",
       "    </tr>\n",
       "  </tbody>\n",
       "</table>\n",
       "<p>11331 rows × 7 columns</p>\n",
       "</div>"
      ],
      "text/plain": [
       "                   distance       duration minute_price start_ride_price  \\\n",
       "                        sum count      sum        first            first   \n",
       "user_id month                                                              \n",
       "1       1       7027.511294     2     42.0            6                0   \n",
       "        4        754.159807     1      7.0            6                0   \n",
       "        8       6723.470560     2     46.0            6                0   \n",
       "        10      5809.911100     2     32.0            6                0   \n",
       "        11      7003.499363     3     56.0            6                0   \n",
       "...                     ...   ...      ...          ...              ...   \n",
       "1534    6       3409.468534     2     26.0            8               50   \n",
       "        8       7622.453034     2     48.0            8               50   \n",
       "        9       4928.173852     1     23.0            8               50   \n",
       "        11     13350.015305     4     78.0            8               50   \n",
       "        12      2371.711192     1     16.0            8               50   \n",
       "\n",
       "              subscription_fee proceeds  \n",
       "                         first           \n",
       "user_id month                            \n",
       "1       1                  199    451.0  \n",
       "        4                  199    241.0  \n",
       "        8                  199    475.0  \n",
       "        10                 199    391.0  \n",
       "        11                 199    535.0  \n",
       "...                        ...      ...  \n",
       "1534    6                    0    308.0  \n",
       "        8                    0    484.0  \n",
       "        9                    0    234.0  \n",
       "        11                   0    824.0  \n",
       "        12                   0    178.0  \n",
       "\n",
       "[11331 rows x 7 columns]"
      ]
     },
     "execution_count": 32,
     "metadata": {},
     "output_type": "execute_result"
    }
   ],
   "source": [
    "data_table = data.groupby(['user_id', 'month']).agg({'distance': ['sum', 'count'], 'duration': 'sum', 'minute_price': 'first', 'start_ride_price': 'first', 'subscription_fee': 'first'})\n",
    "data_table['proceeds'] = (data_table[('start_ride_price', 'first')] * data_table[('distance', 'count')]) + (data_table[('minute_price', 'first')] * data_table[('duration', 'sum')]) + data_table[('subscription_fee', 'first')]\n",
    "#проверим на пропуски получившуюся таблицу:\n",
    "data_table.isna().sum()\n",
    "data_table"
   ]
  },
  {
   "cell_type": "markdown",
   "id": "41545ac0",
   "metadata": {},
   "source": [
    "#### Шаг 6. Проверка гипотез"
   ]
  },
  {
   "cell_type": "markdown",
   "id": "ccf15e6e",
   "metadata": {},
   "source": [
    "## Гипотеза:\n",
    "\n",
    "Пользователи с подпиской тратят больше времени на поездки, чем пользователи без подписки."
   ]
  },
  {
   "cell_type": "markdown",
   "id": "c2f2bdb5",
   "metadata": {},
   "source": [
    "- Нулевая гипотеза: средние значения траты времени на поездки пользователей из двух групп равны.\n",
    "- Альтернативная гипотеза: среднее значение траты времени на поездки пользователей с подпиской больше, чем среднее значение траты времени на поездки пользователей без подписки."
   ]
  },
  {
   "cell_type": "code",
   "execution_count": 33,
   "id": "23ea867b",
   "metadata": {},
   "outputs": [
    {
     "name": "stdout",
     "output_type": "stream",
     "text": [
      "p-value: 1.7537999615675762e-36\n",
      "Отвергаем нулевую гипотезу, время поездок с подпиской больше чем без неё.\n"
     ]
    }
   ],
   "source": [
    "free = data[data['subscription_type'] == 'free']\n",
    "ultra = data[data['subscription_type'] == 'ultra']\n",
    "\n",
    "h0 = ultra['duration']\n",
    "h1 = free['duration']\n",
    "\n",
    "alpha = 0.05\n",
    "\n",
    "results = st.ttest_ind(h0, h1, equal_var=False, alternative='greater')\n",
    "print(f'p-value: {results.pvalue}')\n",
    "if results.pvalue < alpha:\n",
    "    print('Отвергаем нулевую гипотезу, время поездок с подпиской больше чем без неё.')\n",
    "else:\n",
    "    print('Нет оснований отвергнуть нулевую гипотезу, время на поездки равны.')"
   ]
  },
  {
   "cell_type": "markdown",
   "id": "990797e5",
   "metadata": {},
   "source": [
    "## Гипотеза:\n",
    "\n",
    "Расстояние которое проезжают пользователи с подпиской за одну поездку, не превышает 3130 метров."
   ]
  },
  {
   "cell_type": "markdown",
   "id": "a343f70e",
   "metadata": {},
   "source": [
    "- Нулевая гипотиза: расстояние, которое проезжают пользователи с подпиской за одну поездку не превышает 3130 метров.\n",
    "- Альтернативная гипотиза: расстояние, которое проезжают пользователи с подпиской за одну поездку больше 3130 метров."
   ]
  },
  {
   "cell_type": "code",
   "execution_count": 34,
   "id": "813df82a",
   "metadata": {},
   "outputs": [
    {
     "name": "stdout",
     "output_type": "stream",
     "text": [
      "p-значение: 0.9224525735508029\n",
      "Не отвергаем нулевую гипотезу, расстояние не превышает 3130 метров\n"
     ]
    }
   ],
   "source": [
    "distance_ultra = ultra['distance']\n",
    "\n",
    "distance = 3130\n",
    "\n",
    "alpha = 0.05\n",
    "\n",
    "results = st.ttest_1samp(\n",
    "    distance_ultra, \n",
    "    distance,\n",
    "      alternative='greater')\n",
    "print('p-значение:', results.pvalue)\n",
    "\n",
    "if (results.pvalue < alpha):\n",
    "    print('Отвергаем нулевую гипотезу, расстояние больше 3130 метров')\n",
    "else:\n",
    "    print('Не отвергаем нулевую гипотезу, расстояние не превышает 3130 метров') "
   ]
  },
  {
   "cell_type": "markdown",
   "id": "06fe6947",
   "metadata": {},
   "source": [
    "# Вывод\n",
    "\n",
    "Проверив гипотизу о том, что расстояние, которое проезжают пользователи с подпиской за одну поездку, не превышает 3130 метров, можно заключить, что если пользователей с подписками станет больше, то это не отразится на износе самокатов."
   ]
  },
  {
   "cell_type": "markdown",
   "id": "1d7beb8d",
   "metadata": {},
   "source": [
    "## Гипотеза:\n",
    "\n",
    "Помесячная выручка от пользователей с подпиской будет выше, чем выручка от пользователей без подписки."
   ]
  },
  {
   "cell_type": "markdown",
   "id": "bad5e045",
   "metadata": {},
   "source": [
    "- Нулевая гипотеза: средние значения выручки пользователей из двух групп равны.\n",
    "\n",
    "- Альтернативная гипотеза: среднее значение выручки пользователей с подпиской больше, чем среднее значение выручки пользователей без подписки"
   ]
  },
  {
   "cell_type": "code",
   "execution_count": 35,
   "id": "2c7a8971",
   "metadata": {},
   "outputs": [
    {
     "name": "stdout",
     "output_type": "stream",
     "text": [
      "p-value: 1.5258168675601446e-36\n",
      "Отвергаем нулевую гипотезу, помесячная выручка с подпиской выше, чем без неё.\n"
     ]
    }
   ],
   "source": [
    "free_price = data_table[data_table[('start_ride_price', 'first')] != 0]\n",
    "ultra_price = data_table[data_table[('start_ride_price', 'first')] == 0]\n",
    "\n",
    "l0 = ultra_price['proceeds']\n",
    "l1 = free_price['proceeds']\n",
    "\n",
    "alpha = 0.05\n",
    "\n",
    "results = st.ttest_ind(l0, l1, equal_var=False, alternative='greater')\n",
    "print(f'p-value: {results.pvalue}')\n",
    "\n",
    "if results.pvalue < alpha:\n",
    "    print('Отвергаем нулевую гипотезу, помесячная выручка с подпиской выше, чем без неё.')\n",
    "else:\n",
    "    print('Нет оснований отвергнуть нулевую гипотезу, выручки равны.')"
   ]
  },
  {
   "cell_type": "markdown",
   "id": "562247c9",
   "metadata": {},
   "source": [
    "# Вывод\n",
    "\n",
    "С подпиской действительно выручка будет больше, чем без нее. Но это пока не говорит о том, что подписка не выгодна пользователям, ведь они тратят больше времени на поездки."
   ]
  },
  {
   "cell_type": "markdown",
   "id": "49ad86cf",
   "metadata": {},
   "source": [
    "## Представьте такую ситуацию: техническая команда сервиса обновила сервера, с которыми взаимодействует мобильное приложение. Она надеется, что из-за этого количество обращений в техподдержку значимо снизилось. Некоторый файл содержит для каждого пользователя данные о количестве обращений до обновления и после него. Какой тест вам понадобился бы для проверки этой гипотезы?\n",
    "\n",
    "Выборки в этом случае будут зависимыми, иначе — парными. Парная выборка означает, что некоторая переменная измеряется дважды для одних и тех же объектов. В нашем примере это пара измерений для каждого пользователя — до и после изменения расчёта.\n",
    "Чтобы проверить гипотезу о равенстве среднего генеральной совокупности для зависимых (парных) выборок в Python, применим метод scipy.stats.ttest_rel()."
   ]
  },
  {
   "cell_type": "markdown",
   "id": "61213c5e",
   "metadata": {},
   "source": [
    "#### Шаг 7. Распределения"
   ]
  },
  {
   "cell_type": "markdown",
   "id": "d276eebe",
   "metadata": {},
   "source": [
    "Отделу маркетинга GoFast поставили задачу: нужно провести акцию с раздачей промокодов на один бесплатный месяц подписки, в рамках которой как минимум 100 существующих клиентов должны продлить эту подписку. То есть по завершении периода действия подписки пользователь может либо отказаться от неё, либо продлить, совершив соответствующий платёж. \n",
    "Эта акция уже проводилась ранее и по итогу выяснилось, что после бесплатного пробного периода подписку продлевают 10% пользователей. Выясните, какое минимальное количество промокодов нужно разослать, чтобы вероятность не выполнить план была примерно 5 %. Подберите параметры распределения, описывающего эту ситуацию, постройте график распределения и сформулируйте ответ на вопрос о количестве промокодов."
   ]
  },
  {
   "cell_type": "code",
   "execution_count": 36,
   "id": "95cd1d51",
   "metadata": {},
   "outputs": [
    {
     "data": {
      "text/plain": [
       "<BarContainer object of 151 artists>"
      ]
     },
     "execution_count": 36,
     "metadata": {},
     "output_type": "execute_result"
    },
    {
     "data": {
      "image/png": "[encoded data removed]",
      "text/plain": [
       "<Figure size 432x288 with 1 Axes>"
      ]
     },
     "metadata": {
      "needs_background": "light"
     },
     "output_type": "display_data"
    }
   ],
   "source": [
    "n = 150 # количество попыток\n",
    "p = 0.1 # вероятность успеха\n",
    "\n",
    "distr = []\n",
    "\n",
    "for k in range(0, n + 1):\n",
    "    choose = factorial(n) / (factorial(k) * factorial(n - k))\n",
    "    prob = choose * p**k * (1 - p)**(n - k) \n",
    "    distr.append(prob)\n",
    "    \n",
    "plt.bar(range(0, n + 1), distr)"
   ]
  },
  {
   "cell_type": "code",
   "execution_count": 37,
   "id": "c7adb507",
   "metadata": {},
   "outputs": [
    {
     "name": "stdout",
     "output_type": "stream",
     "text": [
      "0.04323813274683286\n"
     ]
    }
   ],
   "source": [
    "mu = 150\n",
    "\n",
    "sigma = 15\n",
    "\n",
    "distr = st.norm(150, 7) \n",
    "\n",
    "x = 162\n",
    "\n",
    "result = 1 - distr.cdf(x)\n",
    "\n",
    "print(result)"
   ]
  },
  {
   "cell_type": "markdown",
   "id": "51f2b2ed",
   "metadata": {},
   "source": [
    "# Вывод\n",
    "\n",
    "Если разослать 150 промокодов мы получим в среднем 10% пользователей, которые продлят подписку. Еслиже нам нужно выполнить план на 95% (по усл. чтобы вероятность не выполнить план была примерно 5%) необходимо разослать 162 промокода."
   ]
  },
  {
   "cell_type": "code",
   "execution_count": 38,
   "id": "332a9c8c",
   "metadata": {},
   "outputs": [
    {
     "name": "stdout",
     "output_type": "stream",
     "text": [
      "0.0666454559999925\n"
     ]
    }
   ],
   "source": [
    "mu = 1000000\n",
    "\n",
    "n = 1000000\n",
    "p = 0.4\n",
    "sigma = n * p\n",
    "\n",
    "distr = st.norm(mu, sigma) \n",
    "\n",
    "# значение, для которого хотим найти вероятность\n",
    "x = 399500\n",
    "\n",
    "# считаем вероятность получить значение, равное x или меньше \n",
    "result = distr.cdf(x)\n",
    "\n",
    "print(result)"
   ]
  },
  {
   "cell_type": "code",
   "execution_count": 39,
   "id": "b820d2ad",
   "metadata": {},
   "outputs": [
    {
     "data": {
      "image/png": "[encoded data removed]",
      "text/plain": [
       "<Figure size 432x288 with 1 Axes>"
      ]
     },
     "metadata": {
      "needs_background": "light"
     },
     "output_type": "display_data"
    },
    {
     "name": "stdout",
     "output_type": "stream",
     "text": [
      "Условие выполняется\n"
     ]
    }
   ],
   "source": [
    "from math import sqrt\n",
    "from scipy.stats import binom, norm\n",
    " \n",
    "# зададим функцию, которая выдаёт <num> чисел,\n",
    "# равномерно распределённых от <start> до <stop>\n",
    "# (понадобится для визуализации нормального распределения)\n",
    "def linspace(start, stop, num):\n",
    "    step = (stop - start) / (num - 1)\n",
    "    result = []\n",
    "    for i in range(num):\n",
    "        result.append(start + step * i)\n",
    "    return result\n",
    " \n",
    "# задаём параметры биномиального распределения\n",
    "n = 1000000\n",
    "p = 0.4\n",
    "\n",
    "# границы промежутка, в котором будем строить аппроксимацию - от n*p минус 4 ст.отклонения бином.распределения\n",
    "# до n*p плюс 4 ст.отклонения бином.распределения (там, где вероятности значений почти не равны нулю)\n",
    "left = int(n * p - 4 * sqrt(n * p * (1 - p)))\n",
    "right = int(n * p + 4 * sqrt(n * p * (1 - p)))\n",
    " \n",
    "# зададим набор значений биномиальной величины на выбранном промежутке:\n",
    "# все неотрицательные целые числа от left до right\n",
    "x = list(range(max(0, left), right))\n",
    "# рисуем график биномиального распределения\n",
    "ax = plt.subplot()\n",
    "# используем синие о-образные маркеры и размер маркера 5\n",
    "ax.plot(x, binom.pmf(x, n, p), 'bo', ms=5, label='вероятности биномиального распределения')\n",
    "\n",
    "# зададим параметры нормального распределения равными мат.ожиданию и дисперсии биномиального распределения\n",
    "mu = n * p\n",
    "sigma = sqrt(n * p * (1 - p))\n",
    " \n",
    "# рисуем график нормального распределения: получим список из 100 чисел от left до right\n",
    "x = linspace(left, right, 100)\n",
    "# используем красную линию ширины 3 и прозрачности 0.3\n",
    "ax.plot(x, norm.pdf(x, mu, sigma), 'r-', lw=3, alpha=0.3, label='плотность вероятности нормального распределения')\n",
    " \n",
    "# зададим подписи по оси x в пределах ± 3 ст.отклонений от мат.ожидания\n",
    "# (последний аргумент в методе range - интервал между подписями)\n",
    "x_ticks = list(range(int(mu - 3 * sigma), int(mu + 3 * sigma), 1))\n",
    "ax.set_xticks(x_ticks)\n",
    "\n",
    "# настраиваем оптимальное расположение легенды и выводим график\n",
    "ax.legend(loc='best')\n",
    "plt.show()\n",
    "\n",
    "# выводим, выполняется ли наше условие аппроксимации: лежит ли mu ± 3 sigma в промежутке от 0 до n:\n",
    "if (mu - (3 * sigma) >= 0) and ((mu + (3 * sigma) <= n)):\n",
    "    print('Условие выполняется')\n",
    "else:\n",
    "    print('Условие не выполняется')"
   ]
  },
  {
   "cell_type": "code",
   "execution_count": 40,
   "id": "5623deb9",
   "metadata": {},
   "outputs": [
    {
     "name": "stdout",
     "output_type": "stream",
     "text": [
      "0.15371708296369768\n"
     ]
    }
   ],
   "source": [
    "# задаём параметры биномиального распределения\n",
    "n = 1000000\n",
    "p = 0.4\n",
    "\n",
    "# задаём параметры нормального распределения равными\n",
    "# мат.ожиданию и дисперсии биномиального распределения\n",
    "mu = n * p\n",
    "sigma = sqrt(n * p * (1 - p))\n",
    "\n",
    "# задаём нормальное распределение\n",
    "distr = st.norm(mu, sigma) \n",
    "\n",
    "# считаем вероятность хвоста слева от 399.5 тысяч\n",
    "result = distr.cdf(399500)\n",
    "print(result)"
   ]
  },
  {
   "cell_type": "markdown",
   "id": "41737383",
   "metadata": {},
   "source": [
    "# Вывод\n",
    "\n",
    "Вероятность того, что уведомление откроют не более 399,5 тыс. пользователей равно примерно 15%. Значит, соответственно 85% того, что 399,5 тыс. и больше пользователи откроют уведомление. Достаточно хороший результат на который можно расчитывать."
   ]
  },
  {
   "cell_type": "markdown",
   "id": "55468101",
   "metadata": {},
   "source": [
    "## Заключение:\n",
    "\n",
    "**в ходе исследования**\n",
    "- были исследованы данные о пользователях сервиса аренды самоказов.\n",
    "- посчитана выручка по каждой категории ползователей\n",
    "- были проверены гипотезы о продолжительности поездок, выручке и акции.\n",
    "\n",
    "Исходя из полученных резутьтатов подписка действительно приходится дороже для пользователей и их намного меньше по количеству, чем тех кто не имеет ее. Но при этом с подпиской люди имеют большую продолжительность использования самокатов. Думаю если провести дополнительные исследования в которых показать среднюю стоимость минуты для пользователей с подпиской и без, будет на много ястнее. Акции со скидками действительно привлекают к подключению подписки и как выяснилось из 1 млн. разосланных промокодов срабатывают почи 400 тыс., это не плохой результат. Думаю можно проводить еще акции не только для привлечения новых пользователей подписки, но и для тех кто уже ее подключил. Например скидки в будние дни скажем с 8:00 до 16:00 или в праздничные дни. Можно ввести бонусные баллы, за пройденные метры или минуты. Это поможет не терять имеющихся подписчиков и может привлеч новых ведь выгода станет намного явнее."
   ]
  }
 ],
 "metadata": {
  "ExecuteTimeLog": [
   {
    "duration": 429,
    "start_time": "2023-07-21T09:47:57.000Z"
   },
   {
    "duration": 197,
    "start_time": "2023-07-21T09:47:58.704Z"
   },
   {
    "duration": 70,
    "start_time": "2023-07-21T09:48:37.423Z"
   },
   {
    "duration": 75,
    "start_time": "2023-07-21T10:18:20.786Z"
   },
   {
    "duration": 7,
    "start_time": "2023-07-21T10:18:40.238Z"
   },
   {
    "duration": 79,
    "start_time": "2023-07-21T10:18:50.699Z"
   },
   {
    "duration": 7,
    "start_time": "2023-07-21T10:18:54.131Z"
   },
   {
    "duration": 7,
    "start_time": "2023-07-21T10:19:30.708Z"
   },
   {
    "duration": 45,
    "start_time": "2023-07-21T10:21:34.596Z"
   },
   {
    "duration": 19,
    "start_time": "2023-07-21T10:23:54.532Z"
   },
   {
    "duration": 78,
    "start_time": "2023-07-21T10:25:44.378Z"
   },
   {
    "duration": 85,
    "start_time": "2023-07-21T10:27:32.190Z"
   },
   {
    "duration": 17,
    "start_time": "2023-07-21T10:30:33.084Z"
   },
   {
    "duration": 95,
    "start_time": "2023-07-21T10:31:18.007Z"
   },
   {
    "duration": 94,
    "start_time": "2023-07-21T10:31:50.798Z"
   },
   {
    "duration": 92,
    "start_time": "2023-07-21T10:32:24.039Z"
   },
   {
    "duration": 16,
    "start_time": "2023-07-21T10:33:17.556Z"
   },
   {
    "duration": 7,
    "start_time": "2023-07-21T10:39:25.160Z"
   },
   {
    "duration": 6,
    "start_time": "2023-07-21T10:40:23.321Z"
   },
   {
    "duration": 10,
    "start_time": "2023-07-21T10:44:25.393Z"
   },
   {
    "duration": 9,
    "start_time": "2023-07-21T10:45:44.993Z"
   },
   {
    "duration": 15,
    "start_time": "2023-07-21T10:49:04.091Z"
   },
   {
    "duration": 12,
    "start_time": "2023-07-21T10:49:24.100Z"
   },
   {
    "duration": 13,
    "start_time": "2023-07-21T10:49:40.170Z"
   },
   {
    "duration": 2157,
    "start_time": "2023-07-21T10:52:39.795Z"
   },
   {
    "duration": 0,
    "start_time": "2023-07-21T11:26:20.968Z"
   },
   {
    "duration": 1894,
    "start_time": "2023-07-21T11:26:33.983Z"
   },
   {
    "duration": 0,
    "start_time": "2023-07-21T11:26:39.081Z"
   },
   {
    "duration": 2889,
    "start_time": "2023-07-21T11:26:47.286Z"
   },
   {
    "duration": 354,
    "start_time": "2023-07-21T11:27:06.780Z"
   },
   {
    "duration": 100,
    "start_time": "2023-07-21T11:27:07.136Z"
   },
   {
    "duration": 19,
    "start_time": "2023-07-21T11:27:07.237Z"
   },
   {
    "duration": 3475,
    "start_time": "2023-07-21T11:27:07.258Z"
   },
   {
    "duration": 10,
    "start_time": "2023-07-21T11:27:51.107Z"
   },
   {
    "duration": 13,
    "start_time": "2023-07-21T11:28:20.239Z"
   },
   {
    "duration": 9,
    "start_time": "2023-07-21T11:29:17.742Z"
   },
   {
    "duration": 13,
    "start_time": "2023-07-21T11:30:24.921Z"
   },
   {
    "duration": 20,
    "start_time": "2023-07-21T11:33:02.176Z"
   },
   {
    "duration": 3264,
    "start_time": "2023-07-21T11:33:37.149Z"
   },
   {
    "duration": 3459,
    "start_time": "2023-07-21T11:33:53.091Z"
   },
   {
    "duration": 21,
    "start_time": "2023-07-21T11:34:06.433Z"
   },
   {
    "duration": 16,
    "start_time": "2023-07-21T11:37:29.064Z"
   },
   {
    "duration": 14,
    "start_time": "2023-07-21T11:37:52.630Z"
   },
   {
    "duration": 24,
    "start_time": "2023-07-21T11:38:15.216Z"
   },
   {
    "duration": 402,
    "start_time": "2023-07-21T12:35:57.511Z"
   },
   {
    "duration": 94,
    "start_time": "2023-07-21T12:35:57.915Z"
   },
   {
    "duration": 18,
    "start_time": "2023-07-21T12:35:58.011Z"
   },
   {
    "duration": 20,
    "start_time": "2023-07-21T12:35:58.031Z"
   },
   {
    "duration": 732,
    "start_time": "2023-07-21T12:40:37.273Z"
   },
   {
    "duration": 142,
    "start_time": "2023-07-21T12:41:45.648Z"
   },
   {
    "duration": 200,
    "start_time": "2023-07-21T12:45:27.301Z"
   },
   {
    "duration": 702,
    "start_time": "2023-07-21T12:45:51.936Z"
   },
   {
    "duration": 95,
    "start_time": "2023-07-21T12:45:52.640Z"
   },
   {
    "duration": 23,
    "start_time": "2023-07-21T12:45:52.739Z"
   },
   {
    "duration": 20,
    "start_time": "2023-07-21T12:45:52.764Z"
   },
   {
    "duration": 153,
    "start_time": "2023-07-21T12:45:52.786Z"
   },
   {
    "duration": 89,
    "start_time": "2023-07-21T12:51:37.466Z"
   },
   {
    "duration": 180,
    "start_time": "2023-07-21T12:51:45.811Z"
   },
   {
    "duration": 118,
    "start_time": "2023-07-21T12:52:48.047Z"
   },
   {
    "duration": 110,
    "start_time": "2023-07-21T12:53:35.948Z"
   },
   {
    "duration": 168,
    "start_time": "2023-07-21T12:53:49.930Z"
   },
   {
    "duration": 242,
    "start_time": "2023-07-21T12:54:07.939Z"
   },
   {
    "duration": 124,
    "start_time": "2023-07-21T12:54:36.307Z"
   },
   {
    "duration": 153,
    "start_time": "2023-07-21T12:55:08.142Z"
   },
   {
    "duration": 120,
    "start_time": "2023-07-21T12:55:37.253Z"
   },
   {
    "duration": 122,
    "start_time": "2023-07-21T12:58:30.810Z"
   },
   {
    "duration": 222,
    "start_time": "2023-07-21T12:59:24.908Z"
   },
   {
    "duration": 247,
    "start_time": "2023-07-21T12:59:45.140Z"
   },
   {
    "duration": 275,
    "start_time": "2023-07-21T13:01:40.071Z"
   },
   {
    "duration": 221,
    "start_time": "2023-07-21T13:01:50.350Z"
   },
   {
    "duration": 213,
    "start_time": "2023-07-21T13:02:12.453Z"
   },
   {
    "duration": 222,
    "start_time": "2023-07-21T13:02:53.581Z"
   },
   {
    "duration": 223,
    "start_time": "2023-07-21T13:04:21.661Z"
   },
   {
    "duration": 503,
    "start_time": "2023-07-21T13:04:59.206Z"
   },
   {
    "duration": 438,
    "start_time": "2023-07-21T13:06:48.909Z"
   },
   {
    "duration": 427,
    "start_time": "2023-07-21T13:06:57.628Z"
   },
   {
    "duration": 419,
    "start_time": "2023-07-21T13:07:15.604Z"
   },
   {
    "duration": 458,
    "start_time": "2023-07-21T13:07:52.391Z"
   },
   {
    "duration": 447,
    "start_time": "2023-07-21T13:11:12.942Z"
   },
   {
    "duration": 14,
    "start_time": "2023-07-21T13:15:34.591Z"
   },
   {
    "duration": 17,
    "start_time": "2023-07-21T13:15:42.567Z"
   },
   {
    "duration": 602,
    "start_time": "2023-07-21T13:20:15.947Z"
   },
   {
    "duration": 93,
    "start_time": "2023-07-21T13:20:16.550Z"
   },
   {
    "duration": 15,
    "start_time": "2023-07-21T13:20:16.645Z"
   },
   {
    "duration": 21,
    "start_time": "2023-07-21T13:20:16.662Z"
   },
   {
    "duration": 502,
    "start_time": "2023-07-21T13:20:16.684Z"
   },
   {
    "duration": 229,
    "start_time": "2023-07-21T13:20:17.188Z"
   },
   {
    "duration": 195,
    "start_time": "2023-07-21T13:20:40.683Z"
   },
   {
    "duration": 286,
    "start_time": "2023-07-21T13:20:57.207Z"
   },
   {
    "duration": 275,
    "start_time": "2023-07-21T13:23:13.759Z"
   },
   {
    "duration": 289,
    "start_time": "2023-07-21T13:26:32.490Z"
   },
   {
    "duration": 18,
    "start_time": "2023-07-21T13:28:22.481Z"
   },
   {
    "duration": 554,
    "start_time": "2023-07-21T13:29:36.151Z"
   },
   {
    "duration": 96,
    "start_time": "2023-07-21T13:29:36.707Z"
   },
   {
    "duration": 14,
    "start_time": "2023-07-21T13:29:36.805Z"
   },
   {
    "duration": 27,
    "start_time": "2023-07-21T13:29:36.822Z"
   },
   {
    "duration": 453,
    "start_time": "2023-07-21T13:29:36.850Z"
   },
   {
    "duration": 291,
    "start_time": "2023-07-21T13:29:37.305Z"
   },
   {
    "duration": 1484,
    "start_time": "2023-07-21T13:29:37.598Z"
   },
   {
    "duration": 298,
    "start_time": "2023-07-21T13:30:05.180Z"
   },
   {
    "duration": 284,
    "start_time": "2023-07-21T13:31:14.196Z"
   },
   {
    "duration": 186,
    "start_time": "2023-07-21T13:32:22.379Z"
   },
   {
    "duration": 179,
    "start_time": "2023-07-21T13:32:33.403Z"
   },
   {
    "duration": 199,
    "start_time": "2023-07-21T13:34:29.988Z"
   },
   {
    "duration": 21,
    "start_time": "2023-07-21T13:35:28.536Z"
   },
   {
    "duration": 184,
    "start_time": "2023-07-21T13:35:40.893Z"
   },
   {
    "duration": 241,
    "start_time": "2023-07-21T13:36:06.523Z"
   },
   {
    "duration": 18,
    "start_time": "2023-07-21T13:37:22.892Z"
   },
   {
    "duration": 201,
    "start_time": "2023-07-21T13:38:58.006Z"
   },
   {
    "duration": 211,
    "start_time": "2023-07-21T13:45:01.599Z"
   },
   {
    "duration": 189,
    "start_time": "2023-07-21T13:47:28.950Z"
   },
   {
    "duration": 174,
    "start_time": "2023-07-21T13:47:46.408Z"
   },
   {
    "duration": 168,
    "start_time": "2023-07-21T13:48:33.905Z"
   },
   {
    "duration": 169,
    "start_time": "2023-07-21T13:49:01.895Z"
   },
   {
    "duration": 172,
    "start_time": "2023-07-21T13:49:08.731Z"
   },
   {
    "duration": 255,
    "start_time": "2023-07-21T13:49:26.612Z"
   },
   {
    "duration": 230,
    "start_time": "2023-07-21T13:51:34.017Z"
   },
   {
    "duration": 313,
    "start_time": "2023-07-21T13:52:15.983Z"
   },
   {
    "duration": 165,
    "start_time": "2023-07-21T13:52:27.039Z"
   },
   {
    "duration": 177,
    "start_time": "2023-07-21T13:53:24.714Z"
   },
   {
    "duration": 186,
    "start_time": "2023-07-21T13:54:31.280Z"
   },
   {
    "duration": 854,
    "start_time": "2023-07-22T08:29:04.195Z"
   },
   {
    "duration": 332,
    "start_time": "2023-07-22T08:29:05.052Z"
   },
   {
    "duration": 20,
    "start_time": "2023-07-22T08:29:05.385Z"
   },
   {
    "duration": 16,
    "start_time": "2023-07-22T08:29:05.406Z"
   },
   {
    "duration": 589,
    "start_time": "2023-07-22T08:29:05.424Z"
   },
   {
    "duration": 382,
    "start_time": "2023-07-22T08:29:06.015Z"
   },
   {
    "duration": 232,
    "start_time": "2023-07-22T08:29:06.399Z"
   },
   {
    "duration": 89,
    "start_time": "2023-07-22T08:29:06.633Z"
   },
   {
    "duration": 23,
    "start_time": "2023-07-22T08:29:34.428Z"
   },
   {
    "duration": 13,
    "start_time": "2023-07-22T08:31:36.244Z"
   },
   {
    "duration": 707,
    "start_time": "2023-07-22T08:35:35.768Z"
   },
   {
    "duration": 101,
    "start_time": "2023-07-22T08:35:36.478Z"
   },
   {
    "duration": 20,
    "start_time": "2023-07-22T08:35:36.581Z"
   },
   {
    "duration": 18,
    "start_time": "2023-07-22T08:35:36.604Z"
   },
   {
    "duration": 598,
    "start_time": "2023-07-22T08:35:36.623Z"
   },
   {
    "duration": 386,
    "start_time": "2023-07-22T08:35:37.223Z"
   },
   {
    "duration": 242,
    "start_time": "2023-07-22T08:35:37.611Z"
   },
   {
    "duration": 21,
    "start_time": "2023-07-22T08:35:37.854Z"
   },
   {
    "duration": 19,
    "start_time": "2023-07-22T08:37:53.111Z"
   },
   {
    "duration": 29,
    "start_time": "2023-07-22T08:38:24.810Z"
   },
   {
    "duration": 29,
    "start_time": "2023-07-22T08:39:01.545Z"
   },
   {
    "duration": 26,
    "start_time": "2023-07-22T10:39:35.410Z"
   },
   {
    "duration": 792,
    "start_time": "2023-07-22T10:47:27.106Z"
   },
   {
    "duration": 102,
    "start_time": "2023-07-22T10:47:27.900Z"
   },
   {
    "duration": 22,
    "start_time": "2023-07-22T10:47:28.004Z"
   },
   {
    "duration": 39,
    "start_time": "2023-07-22T10:47:28.029Z"
   },
   {
    "duration": 631,
    "start_time": "2023-07-22T10:47:28.070Z"
   },
   {
    "duration": 430,
    "start_time": "2023-07-22T10:47:28.703Z"
   },
   {
    "duration": 264,
    "start_time": "2023-07-22T10:47:29.134Z"
   },
   {
    "duration": 139,
    "start_time": "2023-07-22T10:47:29.400Z"
   },
   {
    "duration": 27,
    "start_time": "2023-07-22T10:48:11.564Z"
   },
   {
    "duration": 56,
    "start_time": "2023-07-22T10:48:53.592Z"
   },
   {
    "duration": 38,
    "start_time": "2023-07-22T10:49:03.570Z"
   },
   {
    "duration": 1202,
    "start_time": "2023-07-22T10:53:43.899Z"
   },
   {
    "duration": 784,
    "start_time": "2023-07-22T10:54:48.389Z"
   },
   {
    "duration": 645,
    "start_time": "2023-07-22T10:55:09.086Z"
   },
   {
    "duration": 609,
    "start_time": "2023-07-22T10:55:34.007Z"
   },
   {
    "duration": 568,
    "start_time": "2023-07-22T11:00:46.000Z"
   },
   {
    "duration": 562,
    "start_time": "2023-07-22T11:02:05.790Z"
   },
   {
    "duration": 563,
    "start_time": "2023-07-22T11:02:33.589Z"
   },
   {
    "duration": 548,
    "start_time": "2023-07-22T11:02:41.029Z"
   },
   {
    "duration": 455,
    "start_time": "2023-07-22T11:04:25.838Z"
   },
   {
    "duration": 596,
    "start_time": "2023-07-22T11:04:45.191Z"
   },
   {
    "duration": 587,
    "start_time": "2023-07-22T11:05:53.991Z"
   },
   {
    "duration": 494,
    "start_time": "2023-07-22T11:06:58.886Z"
   },
   {
    "duration": 793,
    "start_time": "2023-07-22T11:14:15.651Z"
   },
   {
    "duration": 143,
    "start_time": "2023-07-22T11:14:16.446Z"
   },
   {
    "duration": 27,
    "start_time": "2023-07-22T11:14:16.592Z"
   },
   {
    "duration": 48,
    "start_time": "2023-07-22T11:14:16.621Z"
   },
   {
    "duration": 769,
    "start_time": "2023-07-22T11:14:16.672Z"
   },
   {
    "duration": 482,
    "start_time": "2023-07-22T11:14:17.443Z"
   },
   {
    "duration": 347,
    "start_time": "2023-07-22T11:14:17.928Z"
   },
   {
    "duration": 769,
    "start_time": "2023-07-22T11:15:33.840Z"
   },
   {
    "duration": 103,
    "start_time": "2023-07-22T11:15:34.611Z"
   },
   {
    "duration": 19,
    "start_time": "2023-07-22T11:15:34.716Z"
   },
   {
    "duration": 30,
    "start_time": "2023-07-22T11:15:34.750Z"
   },
   {
    "duration": 634,
    "start_time": "2023-07-22T11:15:34.783Z"
   },
   {
    "duration": 425,
    "start_time": "2023-07-22T11:15:35.419Z"
   },
   {
    "duration": 252,
    "start_time": "2023-07-22T11:15:35.845Z"
   },
   {
    "duration": 508,
    "start_time": "2023-07-22T11:15:36.098Z"
   },
   {
    "duration": 777,
    "start_time": "2023-07-22T11:17:42.368Z"
   },
   {
    "duration": 178,
    "start_time": "2023-07-22T11:17:43.147Z"
   },
   {
    "duration": 36,
    "start_time": "2023-07-22T11:17:43.327Z"
   },
   {
    "duration": 25,
    "start_time": "2023-07-22T11:17:43.373Z"
   },
   {
    "duration": 744,
    "start_time": "2023-07-22T11:17:43.401Z"
   },
   {
    "duration": 548,
    "start_time": "2023-07-22T11:17:44.147Z"
   },
   {
    "duration": 354,
    "start_time": "2023-07-22T11:17:44.698Z"
   },
   {
    "duration": 660,
    "start_time": "2023-07-22T11:17:45.055Z"
   },
   {
    "duration": 294,
    "start_time": "2023-07-22T11:17:45.717Z"
   },
   {
    "duration": 570,
    "start_time": "2023-07-22T11:18:39.193Z"
   },
   {
    "duration": 1208,
    "start_time": "2023-07-22T11:19:50.599Z"
   },
   {
    "duration": 188,
    "start_time": "2023-07-22T11:29:28.043Z"
   },
   {
    "duration": 433,
    "start_time": "2023-07-22T11:31:19.549Z"
   },
   {
    "duration": 363,
    "start_time": "2023-07-22T11:31:35.916Z"
   },
   {
    "duration": 469,
    "start_time": "2023-07-22T11:37:23.805Z"
   },
   {
    "duration": 504,
    "start_time": "2023-07-22T11:39:28.968Z"
   },
   {
    "duration": 46,
    "start_time": "2023-07-24T08:36:13.679Z"
   },
   {
    "duration": 847,
    "start_time": "2023-07-24T08:36:21.726Z"
   },
   {
    "duration": 319,
    "start_time": "2023-07-24T08:36:22.575Z"
   },
   {
    "duration": 19,
    "start_time": "2023-07-24T08:36:22.895Z"
   },
   {
    "duration": 15,
    "start_time": "2023-07-24T08:36:22.917Z"
   },
   {
    "duration": 571,
    "start_time": "2023-07-24T08:36:22.934Z"
   },
   {
    "duration": 377,
    "start_time": "2023-07-24T08:36:23.506Z"
   },
   {
    "duration": 277,
    "start_time": "2023-07-24T08:36:23.885Z"
   },
   {
    "duration": 427,
    "start_time": "2023-07-24T08:36:24.165Z"
   },
   {
    "duration": 349,
    "start_time": "2023-07-24T08:36:24.594Z"
   },
   {
    "duration": 18,
    "start_time": "2023-07-24T08:36:24.945Z"
   },
   {
    "duration": 34,
    "start_time": "2023-07-24T08:47:13.346Z"
   },
   {
    "duration": 29,
    "start_time": "2023-07-24T08:47:49.503Z"
   },
   {
    "duration": 27,
    "start_time": "2023-07-24T08:47:59.374Z"
   },
   {
    "duration": 41,
    "start_time": "2023-07-24T08:52:37.239Z"
   },
   {
    "duration": 22,
    "start_time": "2023-07-24T08:52:58.239Z"
   },
   {
    "duration": 30,
    "start_time": "2023-07-24T08:53:06.393Z"
   },
   {
    "duration": 34,
    "start_time": "2023-07-24T08:55:19.566Z"
   },
   {
    "duration": 107,
    "start_time": "2023-07-24T09:14:00.137Z"
   },
   {
    "duration": 45,
    "start_time": "2023-07-24T09:40:37.091Z"
   },
   {
    "duration": 66,
    "start_time": "2023-07-24T09:45:54.409Z"
   },
   {
    "duration": 43,
    "start_time": "2023-07-24T09:46:58.277Z"
   },
   {
    "duration": 53,
    "start_time": "2023-07-24T09:59:52.334Z"
   },
   {
    "duration": 49,
    "start_time": "2023-07-24T10:00:06.100Z"
   },
   {
    "duration": 42,
    "start_time": "2023-07-24T10:08:23.303Z"
   },
   {
    "duration": 84,
    "start_time": "2023-07-24T10:10:17.199Z"
   },
   {
    "duration": 73,
    "start_time": "2023-07-24T10:15:31.967Z"
   },
   {
    "duration": 756,
    "start_time": "2023-07-24T10:16:14.626Z"
   },
   {
    "duration": 100,
    "start_time": "2023-07-24T10:16:15.384Z"
   },
   {
    "duration": 19,
    "start_time": "2023-07-24T10:16:15.486Z"
   },
   {
    "duration": 65,
    "start_time": "2023-07-24T10:16:15.506Z"
   },
   {
    "duration": 630,
    "start_time": "2023-07-24T10:16:15.573Z"
   },
   {
    "duration": 385,
    "start_time": "2023-07-24T10:16:16.204Z"
   },
   {
    "duration": 232,
    "start_time": "2023-07-24T10:16:16.590Z"
   },
   {
    "duration": 446,
    "start_time": "2023-07-24T10:16:16.824Z"
   },
   {
    "duration": 362,
    "start_time": "2023-07-24T10:16:17.272Z"
   },
   {
    "duration": 48,
    "start_time": "2023-07-24T10:16:17.636Z"
   },
   {
    "duration": 35,
    "start_time": "2023-07-24T10:17:08.840Z"
   },
   {
    "duration": 62,
    "start_time": "2023-07-24T10:19:49.171Z"
   },
   {
    "duration": 442,
    "start_time": "2023-07-24T10:20:07.923Z"
   },
   {
    "duration": 344,
    "start_time": "2023-07-24T10:23:55.048Z"
   },
   {
    "duration": 716,
    "start_time": "2023-07-24T10:24:06.456Z"
   },
   {
    "duration": 99,
    "start_time": "2023-07-24T10:24:07.174Z"
   },
   {
    "duration": 19,
    "start_time": "2023-07-24T10:24:07.274Z"
   },
   {
    "duration": 18,
    "start_time": "2023-07-24T10:24:07.296Z"
   },
   {
    "duration": 620,
    "start_time": "2023-07-24T10:24:07.316Z"
   },
   {
    "duration": 409,
    "start_time": "2023-07-24T10:24:07.938Z"
   },
   {
    "duration": 249,
    "start_time": "2023-07-24T10:24:08.349Z"
   },
   {
    "duration": 448,
    "start_time": "2023-07-24T10:24:08.600Z"
   },
   {
    "duration": 366,
    "start_time": "2023-07-24T10:24:09.050Z"
   },
   {
    "duration": 55,
    "start_time": "2023-07-24T10:24:09.418Z"
   },
   {
    "duration": 107,
    "start_time": "2023-07-24T10:37:24.825Z"
   },
   {
    "duration": 14,
    "start_time": "2023-07-24T11:03:57.695Z"
   },
   {
    "duration": 2486,
    "start_time": "2023-07-24T11:04:07.024Z"
   },
   {
    "duration": 2513,
    "start_time": "2023-07-24T11:04:46.175Z"
   },
   {
    "duration": 2582,
    "start_time": "2023-07-24T11:05:15.195Z"
   },
   {
    "duration": 649,
    "start_time": "2023-07-24T11:07:44.599Z"
   },
   {
    "duration": 104,
    "start_time": "2023-07-24T11:07:45.250Z"
   },
   {
    "duration": 18,
    "start_time": "2023-07-24T11:07:45.356Z"
   },
   {
    "duration": 15,
    "start_time": "2023-07-24T11:07:45.376Z"
   },
   {
    "duration": 571,
    "start_time": "2023-07-24T11:07:45.393Z"
   },
   {
    "duration": 399,
    "start_time": "2023-07-24T11:07:45.965Z"
   },
   {
    "duration": 227,
    "start_time": "2023-07-24T11:07:46.366Z"
   },
   {
    "duration": 465,
    "start_time": "2023-07-24T11:07:46.594Z"
   },
   {
    "duration": 357,
    "start_time": "2023-07-24T11:07:47.061Z"
   },
   {
    "duration": 21,
    "start_time": "2023-07-24T11:07:47.419Z"
   },
   {
    "duration": 79,
    "start_time": "2023-07-24T11:08:22.900Z"
   },
   {
    "duration": 709,
    "start_time": "2023-07-24T11:08:33.898Z"
   },
   {
    "duration": 99,
    "start_time": "2023-07-24T11:08:34.609Z"
   },
   {
    "duration": 21,
    "start_time": "2023-07-24T11:08:34.710Z"
   },
   {
    "duration": 27,
    "start_time": "2023-07-24T11:08:34.733Z"
   },
   {
    "duration": 573,
    "start_time": "2023-07-24T11:08:34.762Z"
   },
   {
    "duration": 426,
    "start_time": "2023-07-24T11:08:35.337Z"
   },
   {
    "duration": 230,
    "start_time": "2023-07-24T11:08:35.765Z"
   },
   {
    "duration": 427,
    "start_time": "2023-07-24T11:08:35.997Z"
   },
   {
    "duration": 336,
    "start_time": "2023-07-24T11:08:36.425Z"
   },
   {
    "duration": 28,
    "start_time": "2023-07-24T11:08:36.762Z"
   },
   {
    "duration": 2927,
    "start_time": "2023-07-24T11:11:14.116Z"
   },
   {
    "duration": 715,
    "start_time": "2023-07-24T11:11:22.266Z"
   },
   {
    "duration": 112,
    "start_time": "2023-07-24T11:11:22.983Z"
   },
   {
    "duration": 23,
    "start_time": "2023-07-24T11:11:23.097Z"
   },
   {
    "duration": 61,
    "start_time": "2023-07-24T11:11:23.122Z"
   },
   {
    "duration": 607,
    "start_time": "2023-07-24T11:11:23.186Z"
   },
   {
    "duration": 478,
    "start_time": "2023-07-24T11:11:23.794Z"
   },
   {
    "duration": 320,
    "start_time": "2023-07-24T11:11:24.273Z"
   },
   {
    "duration": 476,
    "start_time": "2023-07-24T11:11:24.596Z"
   },
   {
    "duration": 438,
    "start_time": "2023-07-24T11:11:25.074Z"
   },
   {
    "duration": 101,
    "start_time": "2023-07-24T11:11:25.514Z"
   },
   {
    "duration": 18,
    "start_time": "2023-07-24T11:41:53.467Z"
   },
   {
    "duration": 28,
    "start_time": "2023-07-24T11:54:11.564Z"
   },
   {
    "duration": 42,
    "start_time": "2023-07-24T11:54:29.051Z"
   },
   {
    "duration": 699,
    "start_time": "2023-07-24T11:56:03.240Z"
   },
   {
    "duration": 105,
    "start_time": "2023-07-24T11:56:03.941Z"
   },
   {
    "duration": 26,
    "start_time": "2023-07-24T11:56:04.048Z"
   },
   {
    "duration": 24,
    "start_time": "2023-07-24T11:56:04.077Z"
   },
   {
    "duration": 699,
    "start_time": "2023-07-24T11:56:04.104Z"
   },
   {
    "duration": 412,
    "start_time": "2023-07-24T11:56:04.804Z"
   },
   {
    "duration": 266,
    "start_time": "2023-07-24T11:56:05.217Z"
   },
   {
    "duration": 442,
    "start_time": "2023-07-24T11:56:05.485Z"
   },
   {
    "duration": 374,
    "start_time": "2023-07-24T11:56:05.929Z"
   },
   {
    "duration": 2144,
    "start_time": "2023-07-24T11:56:06.305Z"
   },
   {
    "duration": 45,
    "start_time": "2023-07-24T11:56:45.564Z"
   },
   {
    "duration": 31,
    "start_time": "2023-07-24T11:57:53.324Z"
   },
   {
    "duration": 50,
    "start_time": "2023-07-24T11:58:58.724Z"
   },
   {
    "duration": 46,
    "start_time": "2023-07-24T11:59:38.083Z"
   },
   {
    "duration": 46,
    "start_time": "2023-07-24T12:00:31.670Z"
   },
   {
    "duration": 47,
    "start_time": "2023-07-24T12:01:34.638Z"
   },
   {
    "duration": 42,
    "start_time": "2023-07-24T12:02:43.587Z"
   },
   {
    "duration": 57,
    "start_time": "2023-07-24T12:04:31.492Z"
   },
   {
    "duration": 52,
    "start_time": "2023-07-24T12:05:27.241Z"
   },
   {
    "duration": 54,
    "start_time": "2023-07-24T12:05:37.181Z"
   },
   {
    "duration": 696,
    "start_time": "2023-07-24T12:07:00.145Z"
   },
   {
    "duration": 102,
    "start_time": "2023-07-24T12:07:00.844Z"
   },
   {
    "duration": 20,
    "start_time": "2023-07-24T12:07:00.949Z"
   },
   {
    "duration": 88,
    "start_time": "2023-07-24T12:07:00.971Z"
   },
   {
    "duration": 654,
    "start_time": "2023-07-24T12:07:01.062Z"
   },
   {
    "duration": 398,
    "start_time": "2023-07-24T12:07:01.717Z"
   },
   {
    "duration": 246,
    "start_time": "2023-07-24T12:07:02.117Z"
   },
   {
    "duration": 488,
    "start_time": "2023-07-24T12:07:02.365Z"
   },
   {
    "duration": 360,
    "start_time": "2023-07-24T12:07:02.858Z"
   },
   {
    "duration": 114,
    "start_time": "2023-07-24T12:07:03.220Z"
   },
   {
    "duration": 447,
    "start_time": "2023-07-24T12:07:25.230Z"
   },
   {
    "duration": 54,
    "start_time": "2023-07-24T12:08:22.470Z"
   },
   {
    "duration": 663,
    "start_time": "2023-07-24T12:25:26.477Z"
   },
   {
    "duration": 116,
    "start_time": "2023-07-24T12:25:27.142Z"
   },
   {
    "duration": 19,
    "start_time": "2023-07-24T12:25:27.260Z"
   },
   {
    "duration": 16,
    "start_time": "2023-07-24T12:25:27.281Z"
   },
   {
    "duration": 554,
    "start_time": "2023-07-24T12:25:27.299Z"
   },
   {
    "duration": 362,
    "start_time": "2023-07-24T12:25:27.854Z"
   },
   {
    "duration": 212,
    "start_time": "2023-07-24T12:25:28.218Z"
   },
   {
    "duration": 426,
    "start_time": "2023-07-24T12:25:28.431Z"
   },
   {
    "duration": 346,
    "start_time": "2023-07-24T12:25:28.859Z"
   },
   {
    "duration": 99,
    "start_time": "2023-07-24T12:25:29.207Z"
   },
   {
    "duration": 34,
    "start_time": "2023-07-24T12:29:09.289Z"
   },
   {
    "duration": 20,
    "start_time": "2023-07-24T12:29:40.713Z"
   },
   {
    "duration": 48,
    "start_time": "2023-07-24T12:29:59.837Z"
   },
   {
    "duration": 49,
    "start_time": "2023-07-24T12:32:50.746Z"
   },
   {
    "duration": 754,
    "start_time": "2023-07-24T12:33:13.487Z"
   },
   {
    "duration": 118,
    "start_time": "2023-07-24T12:33:14.244Z"
   },
   {
    "duration": 18,
    "start_time": "2023-07-24T12:33:14.363Z"
   },
   {
    "duration": 43,
    "start_time": "2023-07-24T12:33:14.383Z"
   },
   {
    "duration": 581,
    "start_time": "2023-07-24T12:33:14.428Z"
   },
   {
    "duration": 414,
    "start_time": "2023-07-24T12:33:15.011Z"
   },
   {
    "duration": 258,
    "start_time": "2023-07-24T12:33:15.426Z"
   },
   {
    "duration": 465,
    "start_time": "2023-07-24T12:33:15.686Z"
   },
   {
    "duration": 365,
    "start_time": "2023-07-24T12:33:16.153Z"
   },
   {
    "duration": 128,
    "start_time": "2023-07-24T12:33:16.521Z"
   },
   {
    "duration": 47,
    "start_time": "2023-07-24T12:34:41.710Z"
   },
   {
    "duration": 55,
    "start_time": "2023-07-24T12:34:50.292Z"
   },
   {
    "duration": 70,
    "start_time": "2023-07-24T12:35:17.372Z"
   },
   {
    "duration": 88,
    "start_time": "2023-07-24T12:35:36.797Z"
   },
   {
    "duration": 40,
    "start_time": "2023-07-24T12:36:04.214Z"
   },
   {
    "duration": 83,
    "start_time": "2023-07-24T12:37:20.573Z"
   },
   {
    "duration": 98,
    "start_time": "2023-07-24T12:37:34.117Z"
   },
   {
    "duration": 26,
    "start_time": "2023-07-24T12:42:27.111Z"
   },
   {
    "duration": 26,
    "start_time": "2023-07-24T12:42:50.072Z"
   },
   {
    "duration": 65,
    "start_time": "2023-07-24T12:43:55.126Z"
   },
   {
    "duration": 666,
    "start_time": "2023-07-24T12:44:17.799Z"
   },
   {
    "duration": 100,
    "start_time": "2023-07-24T12:44:18.472Z"
   },
   {
    "duration": 18,
    "start_time": "2023-07-24T12:44:18.574Z"
   },
   {
    "duration": 15,
    "start_time": "2023-07-24T12:44:18.594Z"
   },
   {
    "duration": 595,
    "start_time": "2023-07-24T12:44:18.611Z"
   },
   {
    "duration": 376,
    "start_time": "2023-07-24T12:44:19.208Z"
   },
   {
    "duration": 240,
    "start_time": "2023-07-24T12:44:19.586Z"
   },
   {
    "duration": 486,
    "start_time": "2023-07-24T12:44:19.828Z"
   },
   {
    "duration": 355,
    "start_time": "2023-07-24T12:44:20.316Z"
   },
   {
    "duration": 61,
    "start_time": "2023-07-24T12:44:20.675Z"
   },
   {
    "duration": 75,
    "start_time": "2023-07-24T12:45:21.613Z"
   },
   {
    "duration": 38,
    "start_time": "2023-07-24T12:56:24.140Z"
   },
   {
    "duration": 51,
    "start_time": "2023-07-24T12:57:00.546Z"
   },
   {
    "duration": 83,
    "start_time": "2023-07-24T12:57:26.846Z"
   },
   {
    "duration": 66,
    "start_time": "2023-07-24T12:57:36.571Z"
   },
   {
    "duration": 83,
    "start_time": "2023-07-24T12:57:45.260Z"
   },
   {
    "duration": 37,
    "start_time": "2023-07-24T12:58:06.954Z"
   },
   {
    "duration": 46,
    "start_time": "2023-07-24T12:58:59.636Z"
   },
   {
    "duration": 91,
    "start_time": "2023-07-24T12:59:31.546Z"
   },
   {
    "duration": 124,
    "start_time": "2023-07-24T13:01:33.560Z"
   },
   {
    "duration": 32,
    "start_time": "2023-07-24T13:01:58.474Z"
   },
   {
    "duration": 38,
    "start_time": "2023-07-24T13:03:19.621Z"
   },
   {
    "duration": 44,
    "start_time": "2023-07-24T13:03:44.631Z"
   },
   {
    "duration": 45,
    "start_time": "2023-07-24T13:04:55.917Z"
   },
   {
    "duration": 662,
    "start_time": "2023-07-24T13:06:35.510Z"
   },
   {
    "duration": 101,
    "start_time": "2023-07-24T13:06:36.174Z"
   },
   {
    "duration": 20,
    "start_time": "2023-07-24T13:06:36.277Z"
   },
   {
    "duration": 36,
    "start_time": "2023-07-24T13:06:36.298Z"
   },
   {
    "duration": 551,
    "start_time": "2023-07-24T13:06:36.337Z"
   },
   {
    "duration": 375,
    "start_time": "2023-07-24T13:06:36.890Z"
   },
   {
    "duration": 229,
    "start_time": "2023-07-24T13:06:37.267Z"
   },
   {
    "duration": 445,
    "start_time": "2023-07-24T13:06:37.497Z"
   },
   {
    "duration": 344,
    "start_time": "2023-07-24T13:06:37.944Z"
   },
   {
    "duration": 50,
    "start_time": "2023-07-24T13:06:38.290Z"
   },
   {
    "duration": 520,
    "start_time": "2023-07-24T13:14:24.717Z"
   },
   {
    "duration": 118,
    "start_time": "2023-07-24T13:22:16.907Z"
   },
   {
    "duration": 23,
    "start_time": "2023-07-24T13:24:47.606Z"
   },
   {
    "duration": 12,
    "start_time": "2023-07-24T13:25:07.562Z"
   },
   {
    "duration": 16,
    "start_time": "2023-07-24T13:25:16.912Z"
   },
   {
    "duration": 1196,
    "start_time": "2023-07-24T13:25:34.124Z"
   },
   {
    "duration": 99,
    "start_time": "2023-07-24T13:25:35.322Z"
   },
   {
    "duration": 18,
    "start_time": "2023-07-24T13:25:35.423Z"
   },
   {
    "duration": 35,
    "start_time": "2023-07-24T13:25:35.443Z"
   },
   {
    "duration": 630,
    "start_time": "2023-07-24T13:25:35.480Z"
   },
   {
    "duration": 334,
    "start_time": "2023-07-24T13:25:36.112Z"
   },
   {
    "duration": 242,
    "start_time": "2023-07-24T13:25:36.448Z"
   },
   {
    "duration": 441,
    "start_time": "2023-07-24T13:25:36.692Z"
   },
   {
    "duration": 429,
    "start_time": "2023-07-24T13:25:37.135Z"
   },
   {
    "duration": 40,
    "start_time": "2023-07-24T13:25:37.566Z"
   },
   {
    "duration": 11,
    "start_time": "2023-07-24T13:25:37.608Z"
   },
   {
    "duration": 17,
    "start_time": "2023-07-24T13:27:02.693Z"
   },
   {
    "duration": 12,
    "start_time": "2023-07-24T13:27:23.172Z"
   },
   {
    "duration": 11,
    "start_time": "2023-07-24T13:50:25.774Z"
   },
   {
    "duration": 14,
    "start_time": "2023-07-24T13:52:30.743Z"
   },
   {
    "duration": 11,
    "start_time": "2023-07-24T13:57:07.728Z"
   },
   {
    "duration": 12,
    "start_time": "2023-07-24T14:00:01.560Z"
   },
   {
    "duration": 13,
    "start_time": "2023-07-24T14:02:44.257Z"
   },
   {
    "duration": 1280,
    "start_time": "2023-07-24T15:32:41.793Z"
   },
   {
    "duration": 128,
    "start_time": "2023-07-24T15:32:43.082Z"
   },
   {
    "duration": 21,
    "start_time": "2023-07-24T15:32:43.213Z"
   },
   {
    "duration": 107,
    "start_time": "2023-07-24T15:32:43.236Z"
   },
   {
    "duration": 663,
    "start_time": "2023-07-24T15:32:43.346Z"
   },
   {
    "duration": 472,
    "start_time": "2023-07-24T15:32:44.011Z"
   },
   {
    "duration": 282,
    "start_time": "2023-07-24T15:32:44.484Z"
   },
   {
    "duration": 481,
    "start_time": "2023-07-24T15:32:44.776Z"
   },
   {
    "duration": 537,
    "start_time": "2023-07-24T15:32:45.259Z"
   },
   {
    "duration": 47,
    "start_time": "2023-07-24T15:32:45.798Z"
   },
   {
    "duration": 25,
    "start_time": "2023-07-24T15:32:45.862Z"
   },
   {
    "duration": 11,
    "start_time": "2023-07-24T15:32:45.889Z"
   },
   {
    "duration": 14,
    "start_time": "2023-07-24T15:34:51.754Z"
   },
   {
    "duration": 6,
    "start_time": "2023-07-24T15:39:25.630Z"
   },
   {
    "duration": 7,
    "start_time": "2023-07-24T15:42:58.738Z"
   },
   {
    "duration": 6,
    "start_time": "2023-07-24T15:49:53.726Z"
   },
   {
    "duration": 7,
    "start_time": "2023-07-24T16:37:31.101Z"
   },
   {
    "duration": 22,
    "start_time": "2023-07-24T16:37:52.009Z"
   },
   {
    "duration": 6,
    "start_time": "2023-07-24T16:38:40.099Z"
   },
   {
    "duration": 1242,
    "start_time": "2023-07-24T16:48:33.236Z"
   },
   {
    "duration": 101,
    "start_time": "2023-07-24T16:48:34.481Z"
   },
   {
    "duration": 18,
    "start_time": "2023-07-24T16:48:34.584Z"
   },
   {
    "duration": 17,
    "start_time": "2023-07-24T16:48:34.604Z"
   },
   {
    "duration": 667,
    "start_time": "2023-07-24T16:48:34.625Z"
   },
   {
    "duration": 385,
    "start_time": "2023-07-24T16:48:35.295Z"
   },
   {
    "duration": 245,
    "start_time": "2023-07-24T16:48:35.682Z"
   },
   {
    "duration": 499,
    "start_time": "2023-07-24T16:48:35.929Z"
   },
   {
    "duration": 474,
    "start_time": "2023-07-24T16:48:36.430Z"
   },
   {
    "duration": 61,
    "start_time": "2023-07-24T16:48:36.906Z"
   },
   {
    "duration": 132,
    "start_time": "2023-07-24T16:48:36.976Z"
   },
   {
    "duration": 6,
    "start_time": "2023-07-24T16:48:37.110Z"
   },
   {
    "duration": 30,
    "start_time": "2023-07-24T16:48:37.118Z"
   },
   {
    "duration": 1174,
    "start_time": "2023-07-24T17:10:11.553Z"
   },
   {
    "duration": 109,
    "start_time": "2023-07-24T17:10:12.729Z"
   },
   {
    "duration": 23,
    "start_time": "2023-07-24T17:10:12.840Z"
   },
   {
    "duration": 18,
    "start_time": "2023-07-24T17:10:12.874Z"
   },
   {
    "duration": 601,
    "start_time": "2023-07-24T17:10:12.893Z"
   },
   {
    "duration": 388,
    "start_time": "2023-07-24T17:10:13.497Z"
   },
   {
    "duration": 285,
    "start_time": "2023-07-24T17:10:13.887Z"
   },
   {
    "duration": 520,
    "start_time": "2023-07-24T17:10:14.174Z"
   },
   {
    "duration": 446,
    "start_time": "2023-07-24T17:10:14.695Z"
   },
   {
    "duration": 56,
    "start_time": "2023-07-24T17:10:15.144Z"
   },
   {
    "duration": 11,
    "start_time": "2023-07-24T17:10:15.201Z"
   },
   {
    "duration": 8,
    "start_time": "2023-07-24T17:10:15.214Z"
   },
   {
    "duration": 48,
    "start_time": "2023-07-24T17:10:15.223Z"
   },
   {
    "duration": 97,
    "start_time": "2023-07-24T18:11:30.708Z"
   },
   {
    "duration": 1175,
    "start_time": "2023-07-24T18:12:01.579Z"
   },
   {
    "duration": 121,
    "start_time": "2023-07-24T18:12:02.756Z"
   },
   {
    "duration": 26,
    "start_time": "2023-07-24T18:12:02.879Z"
   },
   {
    "duration": 19,
    "start_time": "2023-07-24T18:12:02.907Z"
   },
   {
    "duration": 671,
    "start_time": "2023-07-24T18:12:02.930Z"
   },
   {
    "duration": 340,
    "start_time": "2023-07-24T18:12:03.604Z"
   },
   {
    "duration": 343,
    "start_time": "2023-07-24T18:12:03.946Z"
   },
   {
    "duration": 528,
    "start_time": "2023-07-24T18:12:04.291Z"
   },
   {
    "duration": 440,
    "start_time": "2023-07-24T18:12:04.821Z"
   },
   {
    "duration": 66,
    "start_time": "2023-07-24T18:12:05.263Z"
   },
   {
    "duration": 35,
    "start_time": "2023-07-24T18:12:05.331Z"
   },
   {
    "duration": 44,
    "start_time": "2023-07-24T18:12:05.368Z"
   },
   {
    "duration": 14,
    "start_time": "2023-07-24T18:12:05.415Z"
   },
   {
    "duration": 165,
    "start_time": "2023-07-24T18:12:05.432Z"
   },
   {
    "duration": 193,
    "start_time": "2023-07-24T18:12:18.541Z"
   },
   {
    "duration": 268,
    "start_time": "2023-07-24T18:12:27.131Z"
   },
   {
    "duration": 1245,
    "start_time": "2023-07-25T09:56:10.015Z"
   },
   {
    "duration": 223,
    "start_time": "2023-07-25T09:56:11.263Z"
   },
   {
    "duration": 20,
    "start_time": "2023-07-25T09:56:11.488Z"
   },
   {
    "duration": 17,
    "start_time": "2023-07-25T09:56:11.509Z"
   },
   {
    "duration": 575,
    "start_time": "2023-07-25T09:56:11.528Z"
   },
   {
    "duration": 303,
    "start_time": "2023-07-25T09:56:12.105Z"
   },
   {
    "duration": 226,
    "start_time": "2023-07-25T09:56:12.409Z"
   },
   {
    "duration": 501,
    "start_time": "2023-07-25T09:56:12.636Z"
   },
   {
    "duration": 321,
    "start_time": "2023-07-25T09:56:13.139Z"
   },
   {
    "duration": 51,
    "start_time": "2023-07-25T09:56:13.462Z"
   },
   {
    "duration": 11,
    "start_time": "2023-07-25T09:56:13.515Z"
   },
   {
    "duration": 30,
    "start_time": "2023-07-25T09:56:13.527Z"
   },
   {
    "duration": 24,
    "start_time": "2023-07-25T09:56:13.559Z"
   },
   {
    "duration": 703,
    "start_time": "2023-07-25T09:56:13.585Z"
   },
   {
    "duration": 176,
    "start_time": "2023-07-25T09:56:38.509Z"
   },
   {
    "duration": 1081,
    "start_time": "2023-07-25T13:29:28.790Z"
   },
   {
    "duration": 92,
    "start_time": "2023-07-25T13:29:29.875Z"
   },
   {
    "duration": 20,
    "start_time": "2023-07-25T13:29:29.969Z"
   },
   {
    "duration": 55,
    "start_time": "2023-07-25T13:29:29.991Z"
   },
   {
    "duration": 581,
    "start_time": "2023-07-25T13:29:30.049Z"
   },
   {
    "duration": 310,
    "start_time": "2023-07-25T13:29:30.632Z"
   },
   {
    "duration": 232,
    "start_time": "2023-07-25T13:29:30.944Z"
   },
   {
    "duration": 462,
    "start_time": "2023-07-25T13:29:31.178Z"
   },
   {
    "duration": 435,
    "start_time": "2023-07-25T13:29:31.642Z"
   },
   {
    "duration": 42,
    "start_time": "2023-07-25T13:29:32.079Z"
   },
   {
    "duration": 10,
    "start_time": "2023-07-25T13:29:32.122Z"
   },
   {
    "duration": 25,
    "start_time": "2023-07-25T13:29:32.134Z"
   },
   {
    "duration": 24,
    "start_time": "2023-07-25T13:29:32.160Z"
   },
   {
    "duration": 217,
    "start_time": "2023-07-25T13:29:32.186Z"
   },
   {
    "duration": 6,
    "start_time": "2023-07-25T13:29:32.405Z"
   },
   {
    "duration": 6,
    "start_time": "2023-07-25T13:30:53.792Z"
   },
   {
    "duration": 5,
    "start_time": "2023-07-25T13:31:35.905Z"
   },
   {
    "duration": 6,
    "start_time": "2023-07-25T13:31:43.905Z"
   },
   {
    "duration": 6,
    "start_time": "2023-07-25T13:32:47.708Z"
   },
   {
    "duration": 5,
    "start_time": "2023-07-25T13:32:59.420Z"
   },
   {
    "duration": 5,
    "start_time": "2023-07-25T13:33:19.656Z"
   },
   {
    "duration": 5,
    "start_time": "2023-07-25T13:33:34.913Z"
   },
   {
    "duration": 6,
    "start_time": "2023-07-25T13:33:43.501Z"
   },
   {
    "duration": 7,
    "start_time": "2023-07-25T13:33:49.423Z"
   },
   {
    "duration": 5,
    "start_time": "2023-07-25T13:33:58.227Z"
   },
   {
    "duration": 5,
    "start_time": "2023-07-25T13:34:03.055Z"
   },
   {
    "duration": 8,
    "start_time": "2023-07-25T13:34:08.706Z"
   },
   {
    "duration": 166,
    "start_time": "2023-07-25T13:43:12.900Z"
   },
   {
    "duration": 178,
    "start_time": "2023-07-25T13:46:13.442Z"
   },
   {
    "duration": 267,
    "start_time": "2023-07-25T13:46:21.576Z"
   },
   {
    "duration": 311,
    "start_time": "2023-07-25T13:46:34.200Z"
   },
   {
    "duration": 6,
    "start_time": "2023-07-25T13:47:20.241Z"
   },
   {
    "duration": 6,
    "start_time": "2023-07-25T13:47:30.015Z"
   },
   {
    "duration": 5,
    "start_time": "2023-07-25T13:47:37.588Z"
   },
   {
    "duration": 5,
    "start_time": "2023-07-25T13:47:44.864Z"
   },
   {
    "duration": 5,
    "start_time": "2023-07-25T13:47:56.612Z"
   },
   {
    "duration": 5,
    "start_time": "2023-07-25T13:48:04.606Z"
   },
   {
    "duration": 4,
    "start_time": "2023-07-25T13:48:10.257Z"
   },
   {
    "duration": 4,
    "start_time": "2023-07-25T13:48:17.314Z"
   },
   {
    "duration": 6,
    "start_time": "2023-07-25T13:48:25.728Z"
   },
   {
    "duration": 464,
    "start_time": "2023-07-25T13:57:48.053Z"
   },
   {
    "duration": 310,
    "start_time": "2023-07-25T13:58:03.955Z"
   },
   {
    "duration": 5,
    "start_time": "2023-07-25T14:11:37.501Z"
   },
   {
    "duration": 7,
    "start_time": "2023-07-25T14:13:25.422Z"
   },
   {
    "duration": 5,
    "start_time": "2023-07-25T14:13:45.206Z"
   },
   {
    "duration": 1195,
    "start_time": "2023-07-25T14:15:52.548Z"
   },
   {
    "duration": 104,
    "start_time": "2023-07-25T14:15:53.746Z"
   },
   {
    "duration": 22,
    "start_time": "2023-07-25T14:15:53.854Z"
   },
   {
    "duration": 33,
    "start_time": "2023-07-25T14:15:53.878Z"
   },
   {
    "duration": 612,
    "start_time": "2023-07-25T14:15:53.914Z"
   },
   {
    "duration": 321,
    "start_time": "2023-07-25T14:15:54.528Z"
   },
   {
    "duration": 233,
    "start_time": "2023-07-25T14:15:54.851Z"
   },
   {
    "duration": 446,
    "start_time": "2023-07-25T14:15:55.086Z"
   },
   {
    "duration": 457,
    "start_time": "2023-07-25T14:15:55.534Z"
   },
   {
    "duration": 45,
    "start_time": "2023-07-25T14:15:55.992Z"
   },
   {
    "duration": 12,
    "start_time": "2023-07-25T14:15:56.039Z"
   },
   {
    "duration": 29,
    "start_time": "2023-07-25T14:15:56.053Z"
   },
   {
    "duration": 27,
    "start_time": "2023-07-25T14:15:56.084Z"
   },
   {
    "duration": 367,
    "start_time": "2023-07-25T14:15:56.115Z"
   },
   {
    "duration": 8,
    "start_time": "2023-07-25T14:15:56.483Z"
   },
   {
    "duration": 29,
    "start_time": "2023-07-25T14:15:56.493Z"
   },
   {
    "duration": 1108,
    "start_time": "2023-07-25T14:17:40.241Z"
   },
   {
    "duration": 95,
    "start_time": "2023-07-25T14:17:41.352Z"
   },
   {
    "duration": 19,
    "start_time": "2023-07-25T14:17:41.449Z"
   },
   {
    "duration": 17,
    "start_time": "2023-07-25T14:17:41.471Z"
   },
   {
    "duration": 587,
    "start_time": "2023-07-25T14:17:41.491Z"
   },
   {
    "duration": 323,
    "start_time": "2023-07-25T14:17:42.080Z"
   },
   {
    "duration": 243,
    "start_time": "2023-07-25T14:17:42.405Z"
   },
   {
    "duration": 451,
    "start_time": "2023-07-25T14:17:42.650Z"
   },
   {
    "duration": 448,
    "start_time": "2023-07-25T14:17:43.103Z"
   },
   {
    "duration": 57,
    "start_time": "2023-07-25T14:17:43.553Z"
   },
   {
    "duration": 10,
    "start_time": "2023-07-25T14:17:43.612Z"
   },
   {
    "duration": 7,
    "start_time": "2023-07-25T14:17:43.624Z"
   },
   {
    "duration": 23,
    "start_time": "2023-07-25T14:17:43.633Z"
   },
   {
    "duration": 329,
    "start_time": "2023-07-25T14:17:43.674Z"
   },
   {
    "duration": 5,
    "start_time": "2023-07-25T14:17:44.005Z"
   },
   {
    "duration": 15,
    "start_time": "2023-07-25T14:17:44.012Z"
   },
   {
    "duration": 116,
    "start_time": "2023-07-25T14:17:44.029Z"
   },
   {
    "duration": 117,
    "start_time": "2023-07-25T14:18:14.723Z"
   },
   {
    "duration": 1208,
    "start_time": "2023-07-25T14:18:53.535Z"
   },
   {
    "duration": 97,
    "start_time": "2023-07-25T14:18:54.745Z"
   },
   {
    "duration": 23,
    "start_time": "2023-07-25T14:18:54.844Z"
   },
   {
    "duration": 57,
    "start_time": "2023-07-25T14:18:54.868Z"
   },
   {
    "duration": 570,
    "start_time": "2023-07-25T14:18:54.927Z"
   },
   {
    "duration": 327,
    "start_time": "2023-07-25T14:18:55.499Z"
   },
   {
    "duration": 227,
    "start_time": "2023-07-25T14:18:55.828Z"
   },
   {
    "duration": 518,
    "start_time": "2023-07-25T14:18:56.057Z"
   },
   {
    "duration": 421,
    "start_time": "2023-07-25T14:18:56.577Z"
   },
   {
    "duration": 41,
    "start_time": "2023-07-25T14:18:57.000Z"
   },
   {
    "duration": 11,
    "start_time": "2023-07-25T14:18:57.043Z"
   },
   {
    "duration": 25,
    "start_time": "2023-07-25T14:18:57.055Z"
   },
   {
    "duration": 23,
    "start_time": "2023-07-25T14:18:57.082Z"
   },
   {
    "duration": 324,
    "start_time": "2023-07-25T14:18:57.108Z"
   },
   {
    "duration": 5,
    "start_time": "2023-07-25T14:18:57.433Z"
   },
   {
    "duration": 10,
    "start_time": "2023-07-25T14:18:57.440Z"
   },
   {
    "duration": 36038,
    "start_time": "2023-07-25T14:20:09.756Z"
   },
   {
    "duration": 39010,
    "start_time": "2023-07-25T14:33:37.203Z"
   },
   {
    "duration": 39717,
    "start_time": "2023-07-25T14:35:01.017Z"
   },
   {
    "duration": 11443,
    "start_time": "2023-07-25T14:36:22.126Z"
   },
   {
    "duration": 6,
    "start_time": "2023-07-25T14:43:44.525Z"
   },
   {
    "duration": 6,
    "start_time": "2023-07-25T14:44:37.496Z"
   },
   {
    "duration": 6,
    "start_time": "2023-07-25T14:46:21.235Z"
   },
   {
    "duration": 0,
    "start_time": "2023-07-25T15:05:57.855Z"
   },
   {
    "duration": 1240,
    "start_time": "2023-07-25T15:06:43.266Z"
   },
   {
    "duration": 103,
    "start_time": "2023-07-25T15:06:44.509Z"
   },
   {
    "duration": 28,
    "start_time": "2023-07-25T15:06:44.614Z"
   },
   {
    "duration": 43,
    "start_time": "2023-07-25T15:06:44.644Z"
   },
   {
    "duration": 661,
    "start_time": "2023-07-25T15:06:44.690Z"
   },
   {
    "duration": 381,
    "start_time": "2023-07-25T15:06:45.353Z"
   },
   {
    "duration": 274,
    "start_time": "2023-07-25T15:06:45.736Z"
   },
   {
    "duration": 628,
    "start_time": "2023-07-25T15:06:46.012Z"
   },
   {
    "duration": 491,
    "start_time": "2023-07-25T15:06:46.642Z"
   },
   {
    "duration": 69,
    "start_time": "2023-07-25T15:06:47.135Z"
   },
   {
    "duration": 14,
    "start_time": "2023-07-25T15:06:47.206Z"
   },
   {
    "duration": 40,
    "start_time": "2023-07-25T15:06:47.223Z"
   },
   {
    "duration": 25,
    "start_time": "2023-07-25T15:06:47.265Z"
   },
   {
    "duration": 383,
    "start_time": "2023-07-25T15:06:47.293Z"
   },
   {
    "duration": 11,
    "start_time": "2023-07-25T15:06:47.678Z"
   },
   {
    "duration": 110,
    "start_time": "2023-07-25T15:06:47.694Z"
   },
   {
    "duration": 38522,
    "start_time": "2023-07-25T15:06:47.806Z"
   },
   {
    "duration": 6,
    "start_time": "2023-07-25T15:07:26.330Z"
   },
   {
    "duration": 1129,
    "start_time": "2023-07-25T16:16:51.870Z"
   },
   {
    "duration": 353,
    "start_time": "2023-07-25T16:16:53.001Z"
   },
   {
    "duration": 26,
    "start_time": "2023-07-25T16:16:53.355Z"
   },
   {
    "duration": 23,
    "start_time": "2023-07-25T16:16:53.383Z"
   },
   {
    "duration": 564,
    "start_time": "2023-07-25T16:16:53.408Z"
   },
   {
    "duration": 320,
    "start_time": "2023-07-25T16:16:53.974Z"
   },
   {
    "duration": 226,
    "start_time": "2023-07-25T16:16:54.296Z"
   },
   {
    "duration": 450,
    "start_time": "2023-07-25T16:16:54.524Z"
   },
   {
    "duration": 420,
    "start_time": "2023-07-25T16:16:54.976Z"
   },
   {
    "duration": 40,
    "start_time": "2023-07-25T16:16:55.397Z"
   },
   {
    "duration": 34,
    "start_time": "2023-07-25T16:16:55.439Z"
   },
   {
    "duration": 5,
    "start_time": "2023-07-25T16:16:55.474Z"
   },
   {
    "duration": 12,
    "start_time": "2023-07-25T16:16:55.481Z"
   },
   {
    "duration": 297,
    "start_time": "2023-07-25T16:16:55.495Z"
   },
   {
    "duration": 4,
    "start_time": "2023-07-25T16:16:55.794Z"
   },
   {
    "duration": 9,
    "start_time": "2023-07-25T16:16:55.800Z"
   },
   {
    "duration": 34085,
    "start_time": "2023-07-25T16:16:55.810Z"
   },
   {
    "duration": 4,
    "start_time": "2023-07-25T16:17:29.897Z"
   },
   {
    "duration": 1209,
    "start_time": "2023-07-27T12:29:15.154Z"
   },
   {
    "duration": 449,
    "start_time": "2023-07-27T12:29:16.365Z"
   },
   {
    "duration": 41,
    "start_time": "2023-07-27T12:29:16.816Z"
   },
   {
    "duration": 20,
    "start_time": "2023-07-27T12:29:16.864Z"
   },
   {
    "duration": 26,
    "start_time": "2023-07-27T12:29:16.886Z"
   },
   {
    "duration": 689,
    "start_time": "2023-07-27T12:29:16.913Z"
   },
   {
    "duration": 361,
    "start_time": "2023-07-27T12:29:17.612Z"
   },
   {
    "duration": 405,
    "start_time": "2023-07-27T12:29:17.975Z"
   },
   {
    "duration": 705,
    "start_time": "2023-07-27T12:29:18.383Z"
   },
   {
    "duration": 431,
    "start_time": "2023-07-27T12:29:19.090Z"
   },
   {
    "duration": 72,
    "start_time": "2023-07-27T12:29:19.522Z"
   },
   {
    "duration": 19,
    "start_time": "2023-07-27T12:29:19.596Z"
   },
   {
    "duration": 13,
    "start_time": "2023-07-27T12:29:19.617Z"
   },
   {
    "duration": 21,
    "start_time": "2023-07-27T12:29:19.632Z"
   },
   {
    "duration": 331,
    "start_time": "2023-07-27T12:29:19.661Z"
   },
   {
    "duration": 6,
    "start_time": "2023-07-27T12:29:19.994Z"
   },
   {
    "duration": 20,
    "start_time": "2023-07-27T12:29:20.001Z"
   },
   {
    "duration": 34793,
    "start_time": "2023-07-27T12:29:20.023Z"
   },
   {
    "duration": 5,
    "start_time": "2023-07-27T12:29:54.818Z"
   },
   {
    "duration": 2224,
    "start_time": "2023-07-27T15:14:55.087Z"
   },
   {
    "duration": 272,
    "start_time": "2023-07-27T15:14:57.319Z"
   },
   {
    "duration": 18,
    "start_time": "2023-07-27T15:14:57.593Z"
   },
   {
    "duration": 18,
    "start_time": "2023-07-27T15:14:57.613Z"
   },
   {
    "duration": 24,
    "start_time": "2023-07-27T15:14:57.659Z"
   },
   {
    "duration": 29,
    "start_time": "2023-07-27T15:14:57.687Z"
   },
   {
    "duration": 33,
    "start_time": "2023-07-27T15:14:57.718Z"
   },
   {
    "duration": 36,
    "start_time": "2023-07-27T15:14:57.756Z"
   },
   {
    "duration": 21,
    "start_time": "2023-07-27T15:14:57.794Z"
   },
   {
    "duration": 69,
    "start_time": "2023-07-27T15:14:57.818Z"
   },
   {
    "duration": 57,
    "start_time": "2023-07-27T15:14:57.890Z"
   },
   {
    "duration": 62,
    "start_time": "2023-07-27T15:14:57.949Z"
   },
   {
    "duration": 6,
    "start_time": "2023-07-27T15:14:58.013Z"
   },
   {
    "duration": 105,
    "start_time": "2023-07-27T15:14:58.022Z"
   },
   {
    "duration": 47,
    "start_time": "2023-07-27T15:14:58.128Z"
   },
   {
    "duration": 14,
    "start_time": "2023-07-27T15:14:58.177Z"
   },
   {
    "duration": 70,
    "start_time": "2023-07-27T15:14:58.193Z"
   },
   {
    "duration": 596,
    "start_time": "2023-07-27T15:14:58.266Z"
   },
   {
    "duration": 217,
    "start_time": "2023-07-27T15:14:58.864Z"
   },
   {
    "duration": 696,
    "start_time": "2023-07-27T15:14:59.086Z"
   },
   {
    "duration": 914,
    "start_time": "2023-07-27T15:14:59.785Z"
   },
   {
    "duration": 904,
    "start_time": "2023-07-27T15:15:00.701Z"
   },
   {
    "duration": 9,
    "start_time": "2023-07-27T15:15:01.610Z"
   },
   {
    "duration": 39,
    "start_time": "2023-07-27T15:15:01.658Z"
   },
   {
    "duration": 56,
    "start_time": "2023-07-27T15:15:01.699Z"
   },
   {
    "duration": 77,
    "start_time": "2023-07-27T15:15:01.761Z"
   },
   {
    "duration": 171,
    "start_time": "2023-07-27T15:15:01.840Z"
   },
   {
    "duration": 52,
    "start_time": "2023-07-27T15:15:02.014Z"
   },
   {
    "duration": 715,
    "start_time": "2023-07-27T15:15:02.076Z"
   },
   {
    "duration": 586,
    "start_time": "2023-07-27T15:15:02.797Z"
   },
   {
    "duration": 998,
    "start_time": "2023-07-27T15:15:03.388Z"
   },
   {
    "duration": 118,
    "start_time": "2023-07-27T15:15:04.389Z"
   },
   {
    "duration": 13,
    "start_time": "2023-07-27T15:15:04.509Z"
   },
   {
    "duration": 62,
    "start_time": "2023-07-27T15:15:04.524Z"
   },
   {
    "duration": 34,
    "start_time": "2023-07-27T15:15:04.587Z"
   },
   {
    "duration": 369,
    "start_time": "2023-07-27T15:15:04.623Z"
   },
   {
    "duration": 6,
    "start_time": "2023-07-27T15:15:04.997Z"
   },
   {
    "duration": 37,
    "start_time": "2023-07-27T15:15:05.005Z"
   },
   {
    "duration": 42967,
    "start_time": "2023-07-27T15:15:05.044Z"
   },
   {
    "duration": 7,
    "start_time": "2023-07-27T15:15:48.013Z"
   }
  ],
  "kernelspec": {
   "display_name": "Python 3 (ipykernel)",
   "language": "python",
   "name": "python3"
  },
  "language_info": {
   "codemirror_mode": {
    "name": "ipython",
    "version": 3
   },
   "file_extension": ".py",
   "mimetype": "text/x-python",
   "name": "python",
   "nbconvert_exporter": "python",
   "pygments_lexer": "ipython3",
   "version": "3.10.9"
  },
  "toc": {
   "base_numbering": 1,
   "nav_menu": {},
   "number_sections": true,
   "sideBar": true,
   "skip_h1_title": true,
   "title_cell": "Table of Contents",
   "title_sidebar": "Contents",
   "toc_cell": false,
   "toc_position": {},
   "toc_section_display": true,
   "toc_window_display": true
  }
 },
 "nbformat": 4,
 "nbformat_minor": 5
}
